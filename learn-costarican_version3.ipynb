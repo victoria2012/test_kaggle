{
 "cells": [
  {
   "cell_type": "code",
   "execution_count": 1,
   "id": "fa248682",
   "metadata": {
    "_cell_guid": "b1076dfc-b9ad-4769-8c92-a6c4dae69d19",
    "_uuid": "8f2839f25d086af736a60e9eeb907d3b93b6e0e5",
    "execution": {
     "iopub.execute_input": "2021-07-10T07:09:16.385498Z",
     "iopub.status.busy": "2021-07-10T07:09:16.384765Z",
     "iopub.status.idle": "2021-07-10T07:09:16.390339Z",
     "shell.execute_reply": "2021-07-10T07:09:16.390845Z",
     "shell.execute_reply.started": "2021-07-10T05:04:42.068773Z"
    },
    "papermill": {
     "duration": 0.073464,
     "end_time": "2021-07-10T07:09:16.391128",
     "exception": false,
     "start_time": "2021-07-10T07:09:16.317664",
     "status": "completed"
    },
    "tags": []
   },
   "outputs": [
    {
     "name": "stdout",
     "output_type": "stream",
     "text": [
      "/kaggle/input/costa-rican-household-poverty-prediction/sample_submission.csv\n",
      "/kaggle/input/costa-rican-household-poverty-prediction/codebook.csv\n",
      "/kaggle/input/costa-rican-household-poverty-prediction/train.csv.zip\n",
      "/kaggle/input/costa-rican-household-poverty-prediction/sample_submission.csv.zip\n",
      "/kaggle/input/costa-rican-household-poverty-prediction/codebook.xlsx\n",
      "/kaggle/input/costa-rican-household-poverty-prediction/train.csv\n",
      "/kaggle/input/costa-rican-household-poverty-prediction/test.csv\n",
      "/kaggle/input/costa-rican-household-poverty-prediction/test.csv.zip\n"
     ]
    }
   ],
   "source": [
    "# This Python 3 environment comes with many helpful analytics libraries installed\n",
    "# It is defined by the kaggle/python Docker image: https://github.com/kaggle/docker-python\n",
    "# For example, here's several helpful packages to load\n",
    "\n",
    "import numpy as np # linear algebra\n",
    "import pandas as pd # data processing, CSV file I/O (e.g. pd.read_csv)\n",
    "\n",
    "# Input data files are available in the read-only \"../input/\" directory\n",
    "# For example, running this (by clicking run or pressing Shift+Enter) will list all files under the input directory\n",
    "\n",
    "import os\n",
    "for dirname, _, filenames in os.walk('/kaggle/input'):\n",
    "    for filename in filenames:\n",
    "        print(os.path.join(dirname, filename))\n",
    "\n",
    "# You can write up to 20GB to the current directory (/kaggle/working/) that gets preserved as output when you create a version using \"Save & Run All\" \n",
    "# You can also write temporary files to /kaggle/temp/, but they won't be saved outside of the current session"
   ]
  },
  {
   "cell_type": "code",
   "execution_count": 2,
   "id": "beffd4ae",
   "metadata": {
    "execution": {
     "iopub.execute_input": "2021-07-10T07:09:16.502551Z",
     "iopub.status.busy": "2021-07-10T07:09:16.501567Z",
     "iopub.status.idle": "2021-07-10T07:09:16.504900Z",
     "shell.execute_reply": "2021-07-10T07:09:16.504383Z",
     "shell.execute_reply.started": "2021-07-10T05:04:42.083438Z"
    },
    "papermill": {
     "duration": 0.061046,
     "end_time": "2021-07-10T07:09:16.505041",
     "exception": false,
     "start_time": "2021-07-10T07:09:16.443995",
     "status": "completed"
    },
    "tags": []
   },
   "outputs": [],
   "source": [
    "pd.set_option('display.max_rows', None)\n",
    "pd.set_option('display.max_columns', None)"
   ]
  },
  {
   "cell_type": "code",
   "execution_count": 3,
   "id": "1b120a74",
   "metadata": {
    "execution": {
     "iopub.execute_input": "2021-07-10T07:09:16.616868Z",
     "iopub.status.busy": "2021-07-10T07:09:16.616084Z",
     "iopub.status.idle": "2021-07-10T07:09:16.863939Z",
     "shell.execute_reply": "2021-07-10T07:09:16.863202Z",
     "shell.execute_reply.started": "2021-07-10T05:04:42.098120Z"
    },
    "papermill": {
     "duration": 0.30579,
     "end_time": "2021-07-10T07:09:16.864089",
     "exception": false,
     "start_time": "2021-07-10T07:09:16.558299",
     "status": "completed"
    },
    "tags": []
   },
   "outputs": [],
   "source": [
    "train = pd.read_csv('/kaggle/input/costa-rican-household-poverty-prediction/train.csv')"
   ]
  },
  {
   "cell_type": "code",
   "execution_count": 4,
   "id": "8bb8c29d",
   "metadata": {
    "execution": {
     "iopub.execute_input": "2021-07-10T07:09:16.974382Z",
     "iopub.status.busy": "2021-07-10T07:09:16.973592Z",
     "iopub.status.idle": "2021-07-10T07:09:17.349073Z",
     "shell.execute_reply": "2021-07-10T07:09:17.348477Z",
     "shell.execute_reply.started": "2021-07-10T05:04:42.306699Z"
    },
    "papermill": {
     "duration": 0.432482,
     "end_time": "2021-07-10T07:09:17.349237",
     "exception": false,
     "start_time": "2021-07-10T07:09:16.916755",
     "status": "completed"
    },
    "tags": []
   },
   "outputs": [],
   "source": [
    "test = pd.read_csv('/kaggle/input/costa-rican-household-poverty-prediction/test.csv')"
   ]
  },
  {
   "cell_type": "code",
   "execution_count": 5,
   "id": "35f7d528",
   "metadata": {
    "execution": {
     "iopub.execute_input": "2021-07-10T07:09:17.461979Z",
     "iopub.status.busy": "2021-07-10T07:09:17.461137Z",
     "iopub.status.idle": "2021-07-10T07:09:17.465458Z",
     "shell.execute_reply": "2021-07-10T07:09:17.464905Z",
     "shell.execute_reply.started": "2021-07-10T05:04:42.582727Z"
    },
    "papermill": {
     "duration": 0.063595,
     "end_time": "2021-07-10T07:09:17.465584",
     "exception": false,
     "start_time": "2021-07-10T07:09:17.401989",
     "status": "completed"
    },
    "tags": []
   },
   "outputs": [
    {
     "data": {
      "text/plain": [
       "((9557, 143), (23856, 142))"
      ]
     },
     "execution_count": 5,
     "metadata": {},
     "output_type": "execute_result"
    }
   ],
   "source": [
    "train.shape, test.shape"
   ]
  },
  {
   "cell_type": "code",
   "execution_count": 6,
   "id": "b7fccef0",
   "metadata": {
    "execution": {
     "iopub.execute_input": "2021-07-10T07:09:17.587155Z",
     "iopub.status.busy": "2021-07-10T07:09:17.586470Z",
     "iopub.status.idle": "2021-07-10T07:09:17.604196Z",
     "shell.execute_reply": "2021-07-10T07:09:17.603153Z",
     "shell.execute_reply.started": "2021-07-10T05:04:42.593592Z"
    },
    "papermill": {
     "duration": 0.086941,
     "end_time": "2021-07-10T07:09:17.604444",
     "exception": false,
     "start_time": "2021-07-10T07:09:17.517503",
     "status": "completed"
    },
    "tags": []
   },
   "outputs": [
    {
     "name": "stdout",
     "output_type": "stream",
     "text": [
      "<class 'pandas.core.frame.DataFrame'>\n",
      "RangeIndex: 9557 entries, 0 to 9556\n",
      "Columns: 143 entries, Id to Target\n",
      "dtypes: float64(8), int64(130), object(5)\n",
      "memory usage: 10.4+ MB\n"
     ]
    }
   ],
   "source": [
    "train.info()"
   ]
  },
  {
   "cell_type": "code",
   "execution_count": 7,
   "id": "610200b0",
   "metadata": {
    "execution": {
     "iopub.execute_input": "2021-07-10T07:09:17.719640Z",
     "iopub.status.busy": "2021-07-10T07:09:17.718979Z",
     "iopub.status.idle": "2021-07-10T07:09:18.128838Z",
     "shell.execute_reply": "2021-07-10T07:09:18.129334Z",
     "shell.execute_reply.started": "2021-07-10T05:04:42.627257Z"
    },
    "papermill": {
     "duration": 0.471777,
     "end_time": "2021-07-10T07:09:18.129501",
     "exception": false,
     "start_time": "2021-07-10T07:09:17.657724",
     "status": "completed"
    },
    "tags": []
   },
   "outputs": [
    {
     "data": {
      "text/html": [
       "<div>\n",
       "<style scoped>\n",
       "    .dataframe tbody tr th:only-of-type {\n",
       "        vertical-align: middle;\n",
       "    }\n",
       "\n",
       "    .dataframe tbody tr th {\n",
       "        vertical-align: top;\n",
       "    }\n",
       "\n",
       "    .dataframe thead th {\n",
       "        text-align: right;\n",
       "    }\n",
       "</style>\n",
       "<table border=\"1\" class=\"dataframe\">\n",
       "  <thead>\n",
       "    <tr style=\"text-align: right;\">\n",
       "      <th></th>\n",
       "      <th>v2a1</th>\n",
       "      <th>hacdor</th>\n",
       "      <th>rooms</th>\n",
       "      <th>hacapo</th>\n",
       "      <th>v14a</th>\n",
       "      <th>refrig</th>\n",
       "      <th>v18q</th>\n",
       "      <th>v18q1</th>\n",
       "      <th>r4h1</th>\n",
       "      <th>r4h2</th>\n",
       "      <th>r4h3</th>\n",
       "      <th>r4m1</th>\n",
       "      <th>r4m2</th>\n",
       "      <th>r4m3</th>\n",
       "      <th>r4t1</th>\n",
       "      <th>r4t2</th>\n",
       "      <th>r4t3</th>\n",
       "      <th>tamhog</th>\n",
       "      <th>tamviv</th>\n",
       "      <th>escolari</th>\n",
       "      <th>rez_esc</th>\n",
       "      <th>hhsize</th>\n",
       "      <th>paredblolad</th>\n",
       "      <th>paredzocalo</th>\n",
       "      <th>paredpreb</th>\n",
       "      <th>pareddes</th>\n",
       "      <th>paredmad</th>\n",
       "      <th>paredzinc</th>\n",
       "      <th>paredfibras</th>\n",
       "      <th>paredother</th>\n",
       "      <th>pisomoscer</th>\n",
       "      <th>pisocemento</th>\n",
       "      <th>pisoother</th>\n",
       "      <th>pisonatur</th>\n",
       "      <th>pisonotiene</th>\n",
       "      <th>pisomadera</th>\n",
       "      <th>techozinc</th>\n",
       "      <th>techoentrepiso</th>\n",
       "      <th>techocane</th>\n",
       "      <th>techootro</th>\n",
       "      <th>cielorazo</th>\n",
       "      <th>abastaguadentro</th>\n",
       "      <th>abastaguafuera</th>\n",
       "      <th>abastaguano</th>\n",
       "      <th>public</th>\n",
       "      <th>planpri</th>\n",
       "      <th>noelec</th>\n",
       "      <th>coopele</th>\n",
       "      <th>sanitario1</th>\n",
       "      <th>sanitario2</th>\n",
       "      <th>sanitario3</th>\n",
       "      <th>sanitario5</th>\n",
       "      <th>sanitario6</th>\n",
       "      <th>energcocinar1</th>\n",
       "      <th>energcocinar2</th>\n",
       "      <th>energcocinar3</th>\n",
       "      <th>energcocinar4</th>\n",
       "      <th>elimbasu1</th>\n",
       "      <th>elimbasu2</th>\n",
       "      <th>elimbasu3</th>\n",
       "      <th>elimbasu4</th>\n",
       "      <th>elimbasu5</th>\n",
       "      <th>elimbasu6</th>\n",
       "      <th>epared1</th>\n",
       "      <th>epared2</th>\n",
       "      <th>epared3</th>\n",
       "      <th>etecho1</th>\n",
       "      <th>etecho2</th>\n",
       "      <th>etecho3</th>\n",
       "      <th>eviv1</th>\n",
       "      <th>eviv2</th>\n",
       "      <th>eviv3</th>\n",
       "      <th>dis</th>\n",
       "      <th>male</th>\n",
       "      <th>female</th>\n",
       "      <th>estadocivil1</th>\n",
       "      <th>estadocivil2</th>\n",
       "      <th>estadocivil3</th>\n",
       "      <th>estadocivil4</th>\n",
       "      <th>estadocivil5</th>\n",
       "      <th>estadocivil6</th>\n",
       "      <th>estadocivil7</th>\n",
       "      <th>parentesco1</th>\n",
       "      <th>parentesco2</th>\n",
       "      <th>parentesco3</th>\n",
       "      <th>parentesco4</th>\n",
       "      <th>parentesco5</th>\n",
       "      <th>parentesco6</th>\n",
       "      <th>parentesco7</th>\n",
       "      <th>parentesco8</th>\n",
       "      <th>parentesco9</th>\n",
       "      <th>parentesco10</th>\n",
       "      <th>parentesco11</th>\n",
       "      <th>parentesco12</th>\n",
       "      <th>hogar_nin</th>\n",
       "      <th>hogar_adul</th>\n",
       "      <th>hogar_mayor</th>\n",
       "      <th>hogar_total</th>\n",
       "      <th>meaneduc</th>\n",
       "      <th>instlevel1</th>\n",
       "      <th>instlevel2</th>\n",
       "      <th>instlevel3</th>\n",
       "      <th>instlevel4</th>\n",
       "      <th>instlevel5</th>\n",
       "      <th>instlevel6</th>\n",
       "      <th>instlevel7</th>\n",
       "      <th>instlevel8</th>\n",
       "      <th>instlevel9</th>\n",
       "      <th>bedrooms</th>\n",
       "      <th>overcrowding</th>\n",
       "      <th>tipovivi1</th>\n",
       "      <th>tipovivi2</th>\n",
       "      <th>tipovivi3</th>\n",
       "      <th>tipovivi4</th>\n",
       "      <th>tipovivi5</th>\n",
       "      <th>computer</th>\n",
       "      <th>television</th>\n",
       "      <th>mobilephone</th>\n",
       "      <th>qmobilephone</th>\n",
       "      <th>lugar1</th>\n",
       "      <th>lugar2</th>\n",
       "      <th>lugar3</th>\n",
       "      <th>lugar4</th>\n",
       "      <th>lugar5</th>\n",
       "      <th>lugar6</th>\n",
       "      <th>area1</th>\n",
       "      <th>area2</th>\n",
       "      <th>age</th>\n",
       "      <th>SQBescolari</th>\n",
       "      <th>SQBage</th>\n",
       "      <th>SQBhogar_total</th>\n",
       "      <th>SQBedjefe</th>\n",
       "      <th>SQBhogar_nin</th>\n",
       "      <th>SQBovercrowding</th>\n",
       "      <th>SQBdependency</th>\n",
       "      <th>SQBmeaned</th>\n",
       "      <th>agesq</th>\n",
       "      <th>Target</th>\n",
       "    </tr>\n",
       "  </thead>\n",
       "  <tbody>\n",
       "    <tr>\n",
       "      <th>count</th>\n",
       "      <td>2.697000e+03</td>\n",
       "      <td>9557.000000</td>\n",
       "      <td>9557.000000</td>\n",
       "      <td>9557.000000</td>\n",
       "      <td>9557.000000</td>\n",
       "      <td>9557.000000</td>\n",
       "      <td>9557.000000</td>\n",
       "      <td>2215.000000</td>\n",
       "      <td>9557.000000</td>\n",
       "      <td>9557.000000</td>\n",
       "      <td>9557.000000</td>\n",
       "      <td>9557.000000</td>\n",
       "      <td>9557.000000</td>\n",
       "      <td>9557.000000</td>\n",
       "      <td>9557.000000</td>\n",
       "      <td>9557.000000</td>\n",
       "      <td>9557.000000</td>\n",
       "      <td>9557.000000</td>\n",
       "      <td>9557.000000</td>\n",
       "      <td>9557.000000</td>\n",
       "      <td>1629.000000</td>\n",
       "      <td>9557.000000</td>\n",
       "      <td>9557.000000</td>\n",
       "      <td>9557.000000</td>\n",
       "      <td>9557.000000</td>\n",
       "      <td>9557.000000</td>\n",
       "      <td>9557.000000</td>\n",
       "      <td>9557.000000</td>\n",
       "      <td>9557.000000</td>\n",
       "      <td>9557.000000</td>\n",
       "      <td>9557.000000</td>\n",
       "      <td>9557.000000</td>\n",
       "      <td>9557.000000</td>\n",
       "      <td>9557.000000</td>\n",
       "      <td>9557.000000</td>\n",
       "      <td>9557.000000</td>\n",
       "      <td>9557.000000</td>\n",
       "      <td>9557.000000</td>\n",
       "      <td>9557.000000</td>\n",
       "      <td>9557.000000</td>\n",
       "      <td>9557.000000</td>\n",
       "      <td>9557.000000</td>\n",
       "      <td>9557.000000</td>\n",
       "      <td>9557.000000</td>\n",
       "      <td>9557.000000</td>\n",
       "      <td>9557.000000</td>\n",
       "      <td>9557.000000</td>\n",
       "      <td>9557.000000</td>\n",
       "      <td>9557.000000</td>\n",
       "      <td>9557.000000</td>\n",
       "      <td>9557.000000</td>\n",
       "      <td>9557.000000</td>\n",
       "      <td>9557.000000</td>\n",
       "      <td>9557.000000</td>\n",
       "      <td>9557.000000</td>\n",
       "      <td>9557.000000</td>\n",
       "      <td>9557.000000</td>\n",
       "      <td>9557.000000</td>\n",
       "      <td>9557.00000</td>\n",
       "      <td>9557.000000</td>\n",
       "      <td>9557.000000</td>\n",
       "      <td>9557.0</td>\n",
       "      <td>9557.000000</td>\n",
       "      <td>9557.000000</td>\n",
       "      <td>9557.000000</td>\n",
       "      <td>9557.000000</td>\n",
       "      <td>9557.000000</td>\n",
       "      <td>9557.000000</td>\n",
       "      <td>9557.000000</td>\n",
       "      <td>9557.000000</td>\n",
       "      <td>9557.000000</td>\n",
       "      <td>9557.000000</td>\n",
       "      <td>9557.000000</td>\n",
       "      <td>9557.000000</td>\n",
       "      <td>9557.000000</td>\n",
       "      <td>9557.000000</td>\n",
       "      <td>9557.000000</td>\n",
       "      <td>9557.000000</td>\n",
       "      <td>9557.000000</td>\n",
       "      <td>9557.000000</td>\n",
       "      <td>9557.000000</td>\n",
       "      <td>9557.000000</td>\n",
       "      <td>9557.000000</td>\n",
       "      <td>9557.000000</td>\n",
       "      <td>9557.000000</td>\n",
       "      <td>9557.000000</td>\n",
       "      <td>9557.000000</td>\n",
       "      <td>9557.000000</td>\n",
       "      <td>9557.000000</td>\n",
       "      <td>9557.000000</td>\n",
       "      <td>9557.000000</td>\n",
       "      <td>9557.000000</td>\n",
       "      <td>9557.000000</td>\n",
       "      <td>9557.000000</td>\n",
       "      <td>9557.000000</td>\n",
       "      <td>9557.000000</td>\n",
       "      <td>9557.000000</td>\n",
       "      <td>9557.000000</td>\n",
       "      <td>9552.000000</td>\n",
       "      <td>9557.000000</td>\n",
       "      <td>9557.000000</td>\n",
       "      <td>9557.000000</td>\n",
       "      <td>9557.000000</td>\n",
       "      <td>9557.000000</td>\n",
       "      <td>9557.000000</td>\n",
       "      <td>9557.000000</td>\n",
       "      <td>9557.000000</td>\n",
       "      <td>9557.000000</td>\n",
       "      <td>9557.000000</td>\n",
       "      <td>9557.000000</td>\n",
       "      <td>9557.00000</td>\n",
       "      <td>9557.000000</td>\n",
       "      <td>9557.000000</td>\n",
       "      <td>9557.000000</td>\n",
       "      <td>9557.000000</td>\n",
       "      <td>9557.000000</td>\n",
       "      <td>9557.000000</td>\n",
       "      <td>9557.000000</td>\n",
       "      <td>9557.000000</td>\n",
       "      <td>9557.000000</td>\n",
       "      <td>9557.000000</td>\n",
       "      <td>9557.000000</td>\n",
       "      <td>9557.000000</td>\n",
       "      <td>9557.000000</td>\n",
       "      <td>9557.000000</td>\n",
       "      <td>9557.000000</td>\n",
       "      <td>9557.000000</td>\n",
       "      <td>9557.000000</td>\n",
       "      <td>9557.000000</td>\n",
       "      <td>9557.000000</td>\n",
       "      <td>9557.000000</td>\n",
       "      <td>9557.000000</td>\n",
       "      <td>9557.000000</td>\n",
       "      <td>9557.000000</td>\n",
       "      <td>9557.000000</td>\n",
       "      <td>9552.000000</td>\n",
       "      <td>9557.000000</td>\n",
       "      <td>9557.000000</td>\n",
       "    </tr>\n",
       "    <tr>\n",
       "      <th>mean</th>\n",
       "      <td>1.652316e+05</td>\n",
       "      <td>0.038087</td>\n",
       "      <td>4.955530</td>\n",
       "      <td>0.023648</td>\n",
       "      <td>0.994768</td>\n",
       "      <td>0.957623</td>\n",
       "      <td>0.231767</td>\n",
       "      <td>1.404063</td>\n",
       "      <td>0.385895</td>\n",
       "      <td>1.559171</td>\n",
       "      <td>1.945066</td>\n",
       "      <td>0.399184</td>\n",
       "      <td>1.661714</td>\n",
       "      <td>2.060898</td>\n",
       "      <td>0.785079</td>\n",
       "      <td>3.220885</td>\n",
       "      <td>4.005964</td>\n",
       "      <td>3.999058</td>\n",
       "      <td>4.094590</td>\n",
       "      <td>7.200272</td>\n",
       "      <td>0.459791</td>\n",
       "      <td>3.999058</td>\n",
       "      <td>0.594015</td>\n",
       "      <td>0.077744</td>\n",
       "      <td>0.188030</td>\n",
       "      <td>0.008580</td>\n",
       "      <td>0.115622</td>\n",
       "      <td>0.013079</td>\n",
       "      <td>0.001465</td>\n",
       "      <td>0.001465</td>\n",
       "      <td>0.692791</td>\n",
       "      <td>0.222873</td>\n",
       "      <td>0.000942</td>\n",
       "      <td>0.001046</td>\n",
       "      <td>0.016428</td>\n",
       "      <td>0.065920</td>\n",
       "      <td>0.970074</td>\n",
       "      <td>0.017683</td>\n",
       "      <td>0.003139</td>\n",
       "      <td>0.002197</td>\n",
       "      <td>0.677409</td>\n",
       "      <td>0.964738</td>\n",
       "      <td>0.031705</td>\n",
       "      <td>0.003558</td>\n",
       "      <td>0.885110</td>\n",
       "      <td>0.000314</td>\n",
       "      <td>0.002197</td>\n",
       "      <td>0.110809</td>\n",
       "      <td>0.003872</td>\n",
       "      <td>0.213979</td>\n",
       "      <td>0.764257</td>\n",
       "      <td>0.015381</td>\n",
       "      <td>0.002511</td>\n",
       "      <td>0.001883</td>\n",
       "      <td>0.489589</td>\n",
       "      <td>0.458407</td>\n",
       "      <td>0.050120</td>\n",
       "      <td>0.882704</td>\n",
       "      <td>0.03003</td>\n",
       "      <td>0.084545</td>\n",
       "      <td>0.001465</td>\n",
       "      <td>0.0</td>\n",
       "      <td>0.001256</td>\n",
       "      <td>0.102438</td>\n",
       "      <td>0.327404</td>\n",
       "      <td>0.570158</td>\n",
       "      <td>0.128388</td>\n",
       "      <td>0.288061</td>\n",
       "      <td>0.583551</td>\n",
       "      <td>0.101078</td>\n",
       "      <td>0.252799</td>\n",
       "      <td>0.646123</td>\n",
       "      <td>0.057549</td>\n",
       "      <td>0.483415</td>\n",
       "      <td>0.516585</td>\n",
       "      <td>0.137805</td>\n",
       "      <td>0.123260</td>\n",
       "      <td>0.268390</td>\n",
       "      <td>0.031914</td>\n",
       "      <td>0.062781</td>\n",
       "      <td>0.033169</td>\n",
       "      <td>0.342681</td>\n",
       "      <td>0.311081</td>\n",
       "      <td>0.184054</td>\n",
       "      <td>0.381814</td>\n",
       "      <td>0.012138</td>\n",
       "      <td>0.009522</td>\n",
       "      <td>0.051167</td>\n",
       "      <td>0.010045</td>\n",
       "      <td>0.002407</td>\n",
       "      <td>0.013289</td>\n",
       "      <td>0.003139</td>\n",
       "      <td>0.012661</td>\n",
       "      <td>0.008685</td>\n",
       "      <td>1.406613</td>\n",
       "      <td>2.592445</td>\n",
       "      <td>0.284085</td>\n",
       "      <td>3.999058</td>\n",
       "      <td>9.231523</td>\n",
       "      <td>0.134666</td>\n",
       "      <td>0.170556</td>\n",
       "      <td>0.207701</td>\n",
       "      <td>0.185414</td>\n",
       "      <td>0.112692</td>\n",
       "      <td>0.017893</td>\n",
       "      <td>0.015591</td>\n",
       "      <td>0.139793</td>\n",
       "      <td>0.015381</td>\n",
       "      <td>2.739981</td>\n",
       "      <td>1.605380</td>\n",
       "      <td>0.61850</td>\n",
       "      <td>0.100555</td>\n",
       "      <td>0.181647</td>\n",
       "      <td>0.017056</td>\n",
       "      <td>0.082243</td>\n",
       "      <td>0.102124</td>\n",
       "      <td>0.284608</td>\n",
       "      <td>0.975306</td>\n",
       "      <td>2.821492</td>\n",
       "      <td>0.587632</td>\n",
       "      <td>0.092707</td>\n",
       "      <td>0.062363</td>\n",
       "      <td>0.082767</td>\n",
       "      <td>0.093858</td>\n",
       "      <td>0.080674</td>\n",
       "      <td>0.714555</td>\n",
       "      <td>0.285445</td>\n",
       "      <td>34.303547</td>\n",
       "      <td>74.222769</td>\n",
       "      <td>1643.774302</td>\n",
       "      <td>19.132887</td>\n",
       "      <td>53.500262</td>\n",
       "      <td>3.844826</td>\n",
       "      <td>3.249485</td>\n",
       "      <td>3.900409</td>\n",
       "      <td>102.588867</td>\n",
       "      <td>1643.774302</td>\n",
       "      <td>3.302292</td>\n",
       "    </tr>\n",
       "    <tr>\n",
       "      <th>std</th>\n",
       "      <td>1.504571e+05</td>\n",
       "      <td>0.191417</td>\n",
       "      <td>1.468381</td>\n",
       "      <td>0.151957</td>\n",
       "      <td>0.072145</td>\n",
       "      <td>0.201459</td>\n",
       "      <td>0.421983</td>\n",
       "      <td>0.763131</td>\n",
       "      <td>0.680779</td>\n",
       "      <td>1.036574</td>\n",
       "      <td>1.188852</td>\n",
       "      <td>0.692460</td>\n",
       "      <td>0.933052</td>\n",
       "      <td>1.206172</td>\n",
       "      <td>1.047559</td>\n",
       "      <td>1.440995</td>\n",
       "      <td>1.771202</td>\n",
       "      <td>1.772216</td>\n",
       "      <td>1.876428</td>\n",
       "      <td>4.730877</td>\n",
       "      <td>0.946550</td>\n",
       "      <td>1.772216</td>\n",
       "      <td>0.491107</td>\n",
       "      <td>0.267782</td>\n",
       "      <td>0.390756</td>\n",
       "      <td>0.092235</td>\n",
       "      <td>0.319788</td>\n",
       "      <td>0.113621</td>\n",
       "      <td>0.038248</td>\n",
       "      <td>0.038248</td>\n",
       "      <td>0.461361</td>\n",
       "      <td>0.416196</td>\n",
       "      <td>0.030675</td>\n",
       "      <td>0.032332</td>\n",
       "      <td>0.127120</td>\n",
       "      <td>0.248156</td>\n",
       "      <td>0.170391</td>\n",
       "      <td>0.131805</td>\n",
       "      <td>0.055942</td>\n",
       "      <td>0.046827</td>\n",
       "      <td>0.467492</td>\n",
       "      <td>0.184451</td>\n",
       "      <td>0.175221</td>\n",
       "      <td>0.059543</td>\n",
       "      <td>0.318905</td>\n",
       "      <td>0.017716</td>\n",
       "      <td>0.046827</td>\n",
       "      <td>0.313912</td>\n",
       "      <td>0.062104</td>\n",
       "      <td>0.410134</td>\n",
       "      <td>0.424485</td>\n",
       "      <td>0.123071</td>\n",
       "      <td>0.050052</td>\n",
       "      <td>0.043360</td>\n",
       "      <td>0.499918</td>\n",
       "      <td>0.498293</td>\n",
       "      <td>0.218205</td>\n",
       "      <td>0.321790</td>\n",
       "      <td>0.17068</td>\n",
       "      <td>0.278219</td>\n",
       "      <td>0.038248</td>\n",
       "      <td>0.0</td>\n",
       "      <td>0.035414</td>\n",
       "      <td>0.303239</td>\n",
       "      <td>0.469291</td>\n",
       "      <td>0.495079</td>\n",
       "      <td>0.334538</td>\n",
       "      <td>0.452883</td>\n",
       "      <td>0.492996</td>\n",
       "      <td>0.301447</td>\n",
       "      <td>0.434639</td>\n",
       "      <td>0.478197</td>\n",
       "      <td>0.232902</td>\n",
       "      <td>0.499751</td>\n",
       "      <td>0.499751</td>\n",
       "      <td>0.344713</td>\n",
       "      <td>0.328753</td>\n",
       "      <td>0.443145</td>\n",
       "      <td>0.175780</td>\n",
       "      <td>0.242582</td>\n",
       "      <td>0.179088</td>\n",
       "      <td>0.474631</td>\n",
       "      <td>0.462960</td>\n",
       "      <td>0.387548</td>\n",
       "      <td>0.485857</td>\n",
       "      <td>0.109506</td>\n",
       "      <td>0.097119</td>\n",
       "      <td>0.220349</td>\n",
       "      <td>0.099725</td>\n",
       "      <td>0.049001</td>\n",
       "      <td>0.114514</td>\n",
       "      <td>0.055942</td>\n",
       "      <td>0.111812</td>\n",
       "      <td>0.092791</td>\n",
       "      <td>1.366185</td>\n",
       "      <td>1.166074</td>\n",
       "      <td>0.597163</td>\n",
       "      <td>1.772216</td>\n",
       "      <td>4.167694</td>\n",
       "      <td>0.341384</td>\n",
       "      <td>0.376140</td>\n",
       "      <td>0.405683</td>\n",
       "      <td>0.388653</td>\n",
       "      <td>0.316233</td>\n",
       "      <td>0.132568</td>\n",
       "      <td>0.123892</td>\n",
       "      <td>0.346790</td>\n",
       "      <td>0.123071</td>\n",
       "      <td>0.944507</td>\n",
       "      <td>0.819946</td>\n",
       "      <td>0.48578</td>\n",
       "      <td>0.300754</td>\n",
       "      <td>0.385573</td>\n",
       "      <td>0.129485</td>\n",
       "      <td>0.274750</td>\n",
       "      <td>0.302827</td>\n",
       "      <td>0.451251</td>\n",
       "      <td>0.155199</td>\n",
       "      <td>1.483249</td>\n",
       "      <td>0.492286</td>\n",
       "      <td>0.290036</td>\n",
       "      <td>0.241826</td>\n",
       "      <td>0.275543</td>\n",
       "      <td>0.291646</td>\n",
       "      <td>0.272348</td>\n",
       "      <td>0.451650</td>\n",
       "      <td>0.451650</td>\n",
       "      <td>21.612261</td>\n",
       "      <td>76.777549</td>\n",
       "      <td>1741.197050</td>\n",
       "      <td>18.751395</td>\n",
       "      <td>78.445804</td>\n",
       "      <td>6.946296</td>\n",
       "      <td>4.129547</td>\n",
       "      <td>12.511831</td>\n",
       "      <td>93.516890</td>\n",
       "      <td>1741.197050</td>\n",
       "      <td>1.009565</td>\n",
       "    </tr>\n",
       "    <tr>\n",
       "      <th>min</th>\n",
       "      <td>0.000000e+00</td>\n",
       "      <td>0.000000</td>\n",
       "      <td>1.000000</td>\n",
       "      <td>0.000000</td>\n",
       "      <td>0.000000</td>\n",
       "      <td>0.000000</td>\n",
       "      <td>0.000000</td>\n",
       "      <td>1.000000</td>\n",
       "      <td>0.000000</td>\n",
       "      <td>0.000000</td>\n",
       "      <td>0.000000</td>\n",
       "      <td>0.000000</td>\n",
       "      <td>0.000000</td>\n",
       "      <td>0.000000</td>\n",
       "      <td>0.000000</td>\n",
       "      <td>1.000000</td>\n",
       "      <td>1.000000</td>\n",
       "      <td>1.000000</td>\n",
       "      <td>1.000000</td>\n",
       "      <td>0.000000</td>\n",
       "      <td>0.000000</td>\n",
       "      <td>1.000000</td>\n",
       "      <td>0.000000</td>\n",
       "      <td>0.000000</td>\n",
       "      <td>0.000000</td>\n",
       "      <td>0.000000</td>\n",
       "      <td>0.000000</td>\n",
       "      <td>0.000000</td>\n",
       "      <td>0.000000</td>\n",
       "      <td>0.000000</td>\n",
       "      <td>0.000000</td>\n",
       "      <td>0.000000</td>\n",
       "      <td>0.000000</td>\n",
       "      <td>0.000000</td>\n",
       "      <td>0.000000</td>\n",
       "      <td>0.000000</td>\n",
       "      <td>0.000000</td>\n",
       "      <td>0.000000</td>\n",
       "      <td>0.000000</td>\n",
       "      <td>0.000000</td>\n",
       "      <td>0.000000</td>\n",
       "      <td>0.000000</td>\n",
       "      <td>0.000000</td>\n",
       "      <td>0.000000</td>\n",
       "      <td>0.000000</td>\n",
       "      <td>0.000000</td>\n",
       "      <td>0.000000</td>\n",
       "      <td>0.000000</td>\n",
       "      <td>0.000000</td>\n",
       "      <td>0.000000</td>\n",
       "      <td>0.000000</td>\n",
       "      <td>0.000000</td>\n",
       "      <td>0.000000</td>\n",
       "      <td>0.000000</td>\n",
       "      <td>0.000000</td>\n",
       "      <td>0.000000</td>\n",
       "      <td>0.000000</td>\n",
       "      <td>0.000000</td>\n",
       "      <td>0.00000</td>\n",
       "      <td>0.000000</td>\n",
       "      <td>0.000000</td>\n",
       "      <td>0.0</td>\n",
       "      <td>0.000000</td>\n",
       "      <td>0.000000</td>\n",
       "      <td>0.000000</td>\n",
       "      <td>0.000000</td>\n",
       "      <td>0.000000</td>\n",
       "      <td>0.000000</td>\n",
       "      <td>0.000000</td>\n",
       "      <td>0.000000</td>\n",
       "      <td>0.000000</td>\n",
       "      <td>0.000000</td>\n",
       "      <td>0.000000</td>\n",
       "      <td>0.000000</td>\n",
       "      <td>0.000000</td>\n",
       "      <td>0.000000</td>\n",
       "      <td>0.000000</td>\n",
       "      <td>0.000000</td>\n",
       "      <td>0.000000</td>\n",
       "      <td>0.000000</td>\n",
       "      <td>0.000000</td>\n",
       "      <td>0.000000</td>\n",
       "      <td>0.000000</td>\n",
       "      <td>0.000000</td>\n",
       "      <td>0.000000</td>\n",
       "      <td>0.000000</td>\n",
       "      <td>0.000000</td>\n",
       "      <td>0.000000</td>\n",
       "      <td>0.000000</td>\n",
       "      <td>0.000000</td>\n",
       "      <td>0.000000</td>\n",
       "      <td>0.000000</td>\n",
       "      <td>0.000000</td>\n",
       "      <td>0.000000</td>\n",
       "      <td>0.000000</td>\n",
       "      <td>0.000000</td>\n",
       "      <td>0.000000</td>\n",
       "      <td>1.000000</td>\n",
       "      <td>0.000000</td>\n",
       "      <td>0.000000</td>\n",
       "      <td>0.000000</td>\n",
       "      <td>0.000000</td>\n",
       "      <td>0.000000</td>\n",
       "      <td>0.000000</td>\n",
       "      <td>0.000000</td>\n",
       "      <td>0.000000</td>\n",
       "      <td>0.000000</td>\n",
       "      <td>0.000000</td>\n",
       "      <td>1.000000</td>\n",
       "      <td>0.200000</td>\n",
       "      <td>0.00000</td>\n",
       "      <td>0.000000</td>\n",
       "      <td>0.000000</td>\n",
       "      <td>0.000000</td>\n",
       "      <td>0.000000</td>\n",
       "      <td>0.000000</td>\n",
       "      <td>0.000000</td>\n",
       "      <td>0.000000</td>\n",
       "      <td>0.000000</td>\n",
       "      <td>0.000000</td>\n",
       "      <td>0.000000</td>\n",
       "      <td>0.000000</td>\n",
       "      <td>0.000000</td>\n",
       "      <td>0.000000</td>\n",
       "      <td>0.000000</td>\n",
       "      <td>0.000000</td>\n",
       "      <td>0.000000</td>\n",
       "      <td>0.000000</td>\n",
       "      <td>0.000000</td>\n",
       "      <td>0.000000</td>\n",
       "      <td>1.000000</td>\n",
       "      <td>0.000000</td>\n",
       "      <td>0.000000</td>\n",
       "      <td>0.040000</td>\n",
       "      <td>0.000000</td>\n",
       "      <td>0.000000</td>\n",
       "      <td>0.000000</td>\n",
       "      <td>1.000000</td>\n",
       "    </tr>\n",
       "    <tr>\n",
       "      <th>25%</th>\n",
       "      <td>8.000000e+04</td>\n",
       "      <td>0.000000</td>\n",
       "      <td>4.000000</td>\n",
       "      <td>0.000000</td>\n",
       "      <td>1.000000</td>\n",
       "      <td>1.000000</td>\n",
       "      <td>0.000000</td>\n",
       "      <td>1.000000</td>\n",
       "      <td>0.000000</td>\n",
       "      <td>1.000000</td>\n",
       "      <td>1.000000</td>\n",
       "      <td>0.000000</td>\n",
       "      <td>1.000000</td>\n",
       "      <td>1.000000</td>\n",
       "      <td>0.000000</td>\n",
       "      <td>2.000000</td>\n",
       "      <td>3.000000</td>\n",
       "      <td>3.000000</td>\n",
       "      <td>3.000000</td>\n",
       "      <td>4.000000</td>\n",
       "      <td>0.000000</td>\n",
       "      <td>3.000000</td>\n",
       "      <td>0.000000</td>\n",
       "      <td>0.000000</td>\n",
       "      <td>0.000000</td>\n",
       "      <td>0.000000</td>\n",
       "      <td>0.000000</td>\n",
       "      <td>0.000000</td>\n",
       "      <td>0.000000</td>\n",
       "      <td>0.000000</td>\n",
       "      <td>0.000000</td>\n",
       "      <td>0.000000</td>\n",
       "      <td>0.000000</td>\n",
       "      <td>0.000000</td>\n",
       "      <td>0.000000</td>\n",
       "      <td>0.000000</td>\n",
       "      <td>1.000000</td>\n",
       "      <td>0.000000</td>\n",
       "      <td>0.000000</td>\n",
       "      <td>0.000000</td>\n",
       "      <td>0.000000</td>\n",
       "      <td>1.000000</td>\n",
       "      <td>0.000000</td>\n",
       "      <td>0.000000</td>\n",
       "      <td>1.000000</td>\n",
       "      <td>0.000000</td>\n",
       "      <td>0.000000</td>\n",
       "      <td>0.000000</td>\n",
       "      <td>0.000000</td>\n",
       "      <td>0.000000</td>\n",
       "      <td>1.000000</td>\n",
       "      <td>0.000000</td>\n",
       "      <td>0.000000</td>\n",
       "      <td>0.000000</td>\n",
       "      <td>0.000000</td>\n",
       "      <td>0.000000</td>\n",
       "      <td>0.000000</td>\n",
       "      <td>1.000000</td>\n",
       "      <td>0.00000</td>\n",
       "      <td>0.000000</td>\n",
       "      <td>0.000000</td>\n",
       "      <td>0.0</td>\n",
       "      <td>0.000000</td>\n",
       "      <td>0.000000</td>\n",
       "      <td>0.000000</td>\n",
       "      <td>0.000000</td>\n",
       "      <td>0.000000</td>\n",
       "      <td>0.000000</td>\n",
       "      <td>0.000000</td>\n",
       "      <td>0.000000</td>\n",
       "      <td>0.000000</td>\n",
       "      <td>0.000000</td>\n",
       "      <td>0.000000</td>\n",
       "      <td>0.000000</td>\n",
       "      <td>0.000000</td>\n",
       "      <td>0.000000</td>\n",
       "      <td>0.000000</td>\n",
       "      <td>0.000000</td>\n",
       "      <td>0.000000</td>\n",
       "      <td>0.000000</td>\n",
       "      <td>0.000000</td>\n",
       "      <td>0.000000</td>\n",
       "      <td>0.000000</td>\n",
       "      <td>0.000000</td>\n",
       "      <td>0.000000</td>\n",
       "      <td>0.000000</td>\n",
       "      <td>0.000000</td>\n",
       "      <td>0.000000</td>\n",
       "      <td>0.000000</td>\n",
       "      <td>0.000000</td>\n",
       "      <td>0.000000</td>\n",
       "      <td>0.000000</td>\n",
       "      <td>0.000000</td>\n",
       "      <td>0.000000</td>\n",
       "      <td>0.000000</td>\n",
       "      <td>2.000000</td>\n",
       "      <td>0.000000</td>\n",
       "      <td>3.000000</td>\n",
       "      <td>6.000000</td>\n",
       "      <td>0.000000</td>\n",
       "      <td>0.000000</td>\n",
       "      <td>0.000000</td>\n",
       "      <td>0.000000</td>\n",
       "      <td>0.000000</td>\n",
       "      <td>0.000000</td>\n",
       "      <td>0.000000</td>\n",
       "      <td>0.000000</td>\n",
       "      <td>0.000000</td>\n",
       "      <td>2.000000</td>\n",
       "      <td>1.000000</td>\n",
       "      <td>0.00000</td>\n",
       "      <td>0.000000</td>\n",
       "      <td>0.000000</td>\n",
       "      <td>0.000000</td>\n",
       "      <td>0.000000</td>\n",
       "      <td>0.000000</td>\n",
       "      <td>0.000000</td>\n",
       "      <td>1.000000</td>\n",
       "      <td>2.000000</td>\n",
       "      <td>0.000000</td>\n",
       "      <td>0.000000</td>\n",
       "      <td>0.000000</td>\n",
       "      <td>0.000000</td>\n",
       "      <td>0.000000</td>\n",
       "      <td>0.000000</td>\n",
       "      <td>0.000000</td>\n",
       "      <td>0.000000</td>\n",
       "      <td>17.000000</td>\n",
       "      <td>16.000000</td>\n",
       "      <td>289.000000</td>\n",
       "      <td>9.000000</td>\n",
       "      <td>0.000000</td>\n",
       "      <td>0.000000</td>\n",
       "      <td>1.000000</td>\n",
       "      <td>0.111111</td>\n",
       "      <td>36.000000</td>\n",
       "      <td>289.000000</td>\n",
       "      <td>3.000000</td>\n",
       "    </tr>\n",
       "    <tr>\n",
       "      <th>50%</th>\n",
       "      <td>1.300000e+05</td>\n",
       "      <td>0.000000</td>\n",
       "      <td>5.000000</td>\n",
       "      <td>0.000000</td>\n",
       "      <td>1.000000</td>\n",
       "      <td>1.000000</td>\n",
       "      <td>0.000000</td>\n",
       "      <td>1.000000</td>\n",
       "      <td>0.000000</td>\n",
       "      <td>1.000000</td>\n",
       "      <td>2.000000</td>\n",
       "      <td>0.000000</td>\n",
       "      <td>1.000000</td>\n",
       "      <td>2.000000</td>\n",
       "      <td>0.000000</td>\n",
       "      <td>3.000000</td>\n",
       "      <td>4.000000</td>\n",
       "      <td>4.000000</td>\n",
       "      <td>4.000000</td>\n",
       "      <td>6.000000</td>\n",
       "      <td>0.000000</td>\n",
       "      <td>4.000000</td>\n",
       "      <td>1.000000</td>\n",
       "      <td>0.000000</td>\n",
       "      <td>0.000000</td>\n",
       "      <td>0.000000</td>\n",
       "      <td>0.000000</td>\n",
       "      <td>0.000000</td>\n",
       "      <td>0.000000</td>\n",
       "      <td>0.000000</td>\n",
       "      <td>1.000000</td>\n",
       "      <td>0.000000</td>\n",
       "      <td>0.000000</td>\n",
       "      <td>0.000000</td>\n",
       "      <td>0.000000</td>\n",
       "      <td>0.000000</td>\n",
       "      <td>1.000000</td>\n",
       "      <td>0.000000</td>\n",
       "      <td>0.000000</td>\n",
       "      <td>0.000000</td>\n",
       "      <td>1.000000</td>\n",
       "      <td>1.000000</td>\n",
       "      <td>0.000000</td>\n",
       "      <td>0.000000</td>\n",
       "      <td>1.000000</td>\n",
       "      <td>0.000000</td>\n",
       "      <td>0.000000</td>\n",
       "      <td>0.000000</td>\n",
       "      <td>0.000000</td>\n",
       "      <td>0.000000</td>\n",
       "      <td>1.000000</td>\n",
       "      <td>0.000000</td>\n",
       "      <td>0.000000</td>\n",
       "      <td>0.000000</td>\n",
       "      <td>0.000000</td>\n",
       "      <td>0.000000</td>\n",
       "      <td>0.000000</td>\n",
       "      <td>1.000000</td>\n",
       "      <td>0.00000</td>\n",
       "      <td>0.000000</td>\n",
       "      <td>0.000000</td>\n",
       "      <td>0.0</td>\n",
       "      <td>0.000000</td>\n",
       "      <td>0.000000</td>\n",
       "      <td>0.000000</td>\n",
       "      <td>1.000000</td>\n",
       "      <td>0.000000</td>\n",
       "      <td>0.000000</td>\n",
       "      <td>1.000000</td>\n",
       "      <td>0.000000</td>\n",
       "      <td>0.000000</td>\n",
       "      <td>1.000000</td>\n",
       "      <td>0.000000</td>\n",
       "      <td>0.000000</td>\n",
       "      <td>1.000000</td>\n",
       "      <td>0.000000</td>\n",
       "      <td>0.000000</td>\n",
       "      <td>0.000000</td>\n",
       "      <td>0.000000</td>\n",
       "      <td>0.000000</td>\n",
       "      <td>0.000000</td>\n",
       "      <td>0.000000</td>\n",
       "      <td>0.000000</td>\n",
       "      <td>0.000000</td>\n",
       "      <td>0.000000</td>\n",
       "      <td>0.000000</td>\n",
       "      <td>0.000000</td>\n",
       "      <td>0.000000</td>\n",
       "      <td>0.000000</td>\n",
       "      <td>0.000000</td>\n",
       "      <td>0.000000</td>\n",
       "      <td>0.000000</td>\n",
       "      <td>0.000000</td>\n",
       "      <td>0.000000</td>\n",
       "      <td>1.000000</td>\n",
       "      <td>2.000000</td>\n",
       "      <td>0.000000</td>\n",
       "      <td>4.000000</td>\n",
       "      <td>9.000000</td>\n",
       "      <td>0.000000</td>\n",
       "      <td>0.000000</td>\n",
       "      <td>0.000000</td>\n",
       "      <td>0.000000</td>\n",
       "      <td>0.000000</td>\n",
       "      <td>0.000000</td>\n",
       "      <td>0.000000</td>\n",
       "      <td>0.000000</td>\n",
       "      <td>0.000000</td>\n",
       "      <td>3.000000</td>\n",
       "      <td>1.500000</td>\n",
       "      <td>1.00000</td>\n",
       "      <td>0.000000</td>\n",
       "      <td>0.000000</td>\n",
       "      <td>0.000000</td>\n",
       "      <td>0.000000</td>\n",
       "      <td>0.000000</td>\n",
       "      <td>0.000000</td>\n",
       "      <td>1.000000</td>\n",
       "      <td>3.000000</td>\n",
       "      <td>1.000000</td>\n",
       "      <td>0.000000</td>\n",
       "      <td>0.000000</td>\n",
       "      <td>0.000000</td>\n",
       "      <td>0.000000</td>\n",
       "      <td>0.000000</td>\n",
       "      <td>1.000000</td>\n",
       "      <td>0.000000</td>\n",
       "      <td>31.000000</td>\n",
       "      <td>36.000000</td>\n",
       "      <td>961.000000</td>\n",
       "      <td>16.000000</td>\n",
       "      <td>36.000000</td>\n",
       "      <td>1.000000</td>\n",
       "      <td>2.250000</td>\n",
       "      <td>0.444444</td>\n",
       "      <td>81.000000</td>\n",
       "      <td>961.000000</td>\n",
       "      <td>4.000000</td>\n",
       "    </tr>\n",
       "    <tr>\n",
       "      <th>75%</th>\n",
       "      <td>2.000000e+05</td>\n",
       "      <td>0.000000</td>\n",
       "      <td>6.000000</td>\n",
       "      <td>0.000000</td>\n",
       "      <td>1.000000</td>\n",
       "      <td>1.000000</td>\n",
       "      <td>0.000000</td>\n",
       "      <td>2.000000</td>\n",
       "      <td>1.000000</td>\n",
       "      <td>2.000000</td>\n",
       "      <td>3.000000</td>\n",
       "      <td>1.000000</td>\n",
       "      <td>2.000000</td>\n",
       "      <td>3.000000</td>\n",
       "      <td>1.000000</td>\n",
       "      <td>4.000000</td>\n",
       "      <td>5.000000</td>\n",
       "      <td>5.000000</td>\n",
       "      <td>5.000000</td>\n",
       "      <td>11.000000</td>\n",
       "      <td>1.000000</td>\n",
       "      <td>5.000000</td>\n",
       "      <td>1.000000</td>\n",
       "      <td>0.000000</td>\n",
       "      <td>0.000000</td>\n",
       "      <td>0.000000</td>\n",
       "      <td>0.000000</td>\n",
       "      <td>0.000000</td>\n",
       "      <td>0.000000</td>\n",
       "      <td>0.000000</td>\n",
       "      <td>1.000000</td>\n",
       "      <td>0.000000</td>\n",
       "      <td>0.000000</td>\n",
       "      <td>0.000000</td>\n",
       "      <td>0.000000</td>\n",
       "      <td>0.000000</td>\n",
       "      <td>1.000000</td>\n",
       "      <td>0.000000</td>\n",
       "      <td>0.000000</td>\n",
       "      <td>0.000000</td>\n",
       "      <td>1.000000</td>\n",
       "      <td>1.000000</td>\n",
       "      <td>0.000000</td>\n",
       "      <td>0.000000</td>\n",
       "      <td>1.000000</td>\n",
       "      <td>0.000000</td>\n",
       "      <td>0.000000</td>\n",
       "      <td>0.000000</td>\n",
       "      <td>0.000000</td>\n",
       "      <td>0.000000</td>\n",
       "      <td>1.000000</td>\n",
       "      <td>0.000000</td>\n",
       "      <td>0.000000</td>\n",
       "      <td>0.000000</td>\n",
       "      <td>1.000000</td>\n",
       "      <td>1.000000</td>\n",
       "      <td>0.000000</td>\n",
       "      <td>1.000000</td>\n",
       "      <td>0.00000</td>\n",
       "      <td>0.000000</td>\n",
       "      <td>0.000000</td>\n",
       "      <td>0.0</td>\n",
       "      <td>0.000000</td>\n",
       "      <td>0.000000</td>\n",
       "      <td>1.000000</td>\n",
       "      <td>1.000000</td>\n",
       "      <td>0.000000</td>\n",
       "      <td>1.000000</td>\n",
       "      <td>1.000000</td>\n",
       "      <td>0.000000</td>\n",
       "      <td>1.000000</td>\n",
       "      <td>1.000000</td>\n",
       "      <td>0.000000</td>\n",
       "      <td>1.000000</td>\n",
       "      <td>1.000000</td>\n",
       "      <td>0.000000</td>\n",
       "      <td>0.000000</td>\n",
       "      <td>1.000000</td>\n",
       "      <td>0.000000</td>\n",
       "      <td>0.000000</td>\n",
       "      <td>0.000000</td>\n",
       "      <td>1.000000</td>\n",
       "      <td>1.000000</td>\n",
       "      <td>0.000000</td>\n",
       "      <td>1.000000</td>\n",
       "      <td>0.000000</td>\n",
       "      <td>0.000000</td>\n",
       "      <td>0.000000</td>\n",
       "      <td>0.000000</td>\n",
       "      <td>0.000000</td>\n",
       "      <td>0.000000</td>\n",
       "      <td>0.000000</td>\n",
       "      <td>0.000000</td>\n",
       "      <td>0.000000</td>\n",
       "      <td>2.000000</td>\n",
       "      <td>3.000000</td>\n",
       "      <td>0.000000</td>\n",
       "      <td>5.000000</td>\n",
       "      <td>11.600000</td>\n",
       "      <td>0.000000</td>\n",
       "      <td>0.000000</td>\n",
       "      <td>0.000000</td>\n",
       "      <td>0.000000</td>\n",
       "      <td>0.000000</td>\n",
       "      <td>0.000000</td>\n",
       "      <td>0.000000</td>\n",
       "      <td>0.000000</td>\n",
       "      <td>0.000000</td>\n",
       "      <td>3.000000</td>\n",
       "      <td>2.000000</td>\n",
       "      <td>1.00000</td>\n",
       "      <td>0.000000</td>\n",
       "      <td>0.000000</td>\n",
       "      <td>0.000000</td>\n",
       "      <td>0.000000</td>\n",
       "      <td>0.000000</td>\n",
       "      <td>1.000000</td>\n",
       "      <td>1.000000</td>\n",
       "      <td>4.000000</td>\n",
       "      <td>1.000000</td>\n",
       "      <td>0.000000</td>\n",
       "      <td>0.000000</td>\n",
       "      <td>0.000000</td>\n",
       "      <td>0.000000</td>\n",
       "      <td>0.000000</td>\n",
       "      <td>1.000000</td>\n",
       "      <td>1.000000</td>\n",
       "      <td>51.000000</td>\n",
       "      <td>121.000000</td>\n",
       "      <td>2601.000000</td>\n",
       "      <td>25.000000</td>\n",
       "      <td>81.000000</td>\n",
       "      <td>4.000000</td>\n",
       "      <td>4.000000</td>\n",
       "      <td>1.777778</td>\n",
       "      <td>134.560010</td>\n",
       "      <td>2601.000000</td>\n",
       "      <td>4.000000</td>\n",
       "    </tr>\n",
       "    <tr>\n",
       "      <th>max</th>\n",
       "      <td>2.353477e+06</td>\n",
       "      <td>1.000000</td>\n",
       "      <td>11.000000</td>\n",
       "      <td>1.000000</td>\n",
       "      <td>1.000000</td>\n",
       "      <td>1.000000</td>\n",
       "      <td>1.000000</td>\n",
       "      <td>6.000000</td>\n",
       "      <td>5.000000</td>\n",
       "      <td>8.000000</td>\n",
       "      <td>8.000000</td>\n",
       "      <td>6.000000</td>\n",
       "      <td>6.000000</td>\n",
       "      <td>8.000000</td>\n",
       "      <td>7.000000</td>\n",
       "      <td>11.000000</td>\n",
       "      <td>13.000000</td>\n",
       "      <td>13.000000</td>\n",
       "      <td>15.000000</td>\n",
       "      <td>21.000000</td>\n",
       "      <td>5.000000</td>\n",
       "      <td>13.000000</td>\n",
       "      <td>1.000000</td>\n",
       "      <td>1.000000</td>\n",
       "      <td>1.000000</td>\n",
       "      <td>1.000000</td>\n",
       "      <td>1.000000</td>\n",
       "      <td>1.000000</td>\n",
       "      <td>1.000000</td>\n",
       "      <td>1.000000</td>\n",
       "      <td>1.000000</td>\n",
       "      <td>1.000000</td>\n",
       "      <td>1.000000</td>\n",
       "      <td>1.000000</td>\n",
       "      <td>1.000000</td>\n",
       "      <td>1.000000</td>\n",
       "      <td>1.000000</td>\n",
       "      <td>1.000000</td>\n",
       "      <td>1.000000</td>\n",
       "      <td>1.000000</td>\n",
       "      <td>1.000000</td>\n",
       "      <td>1.000000</td>\n",
       "      <td>1.000000</td>\n",
       "      <td>1.000000</td>\n",
       "      <td>1.000000</td>\n",
       "      <td>1.000000</td>\n",
       "      <td>1.000000</td>\n",
       "      <td>1.000000</td>\n",
       "      <td>1.000000</td>\n",
       "      <td>1.000000</td>\n",
       "      <td>1.000000</td>\n",
       "      <td>1.000000</td>\n",
       "      <td>1.000000</td>\n",
       "      <td>1.000000</td>\n",
       "      <td>1.000000</td>\n",
       "      <td>1.000000</td>\n",
       "      <td>1.000000</td>\n",
       "      <td>1.000000</td>\n",
       "      <td>1.00000</td>\n",
       "      <td>1.000000</td>\n",
       "      <td>1.000000</td>\n",
       "      <td>0.0</td>\n",
       "      <td>1.000000</td>\n",
       "      <td>1.000000</td>\n",
       "      <td>1.000000</td>\n",
       "      <td>1.000000</td>\n",
       "      <td>1.000000</td>\n",
       "      <td>1.000000</td>\n",
       "      <td>1.000000</td>\n",
       "      <td>1.000000</td>\n",
       "      <td>1.000000</td>\n",
       "      <td>1.000000</td>\n",
       "      <td>1.000000</td>\n",
       "      <td>1.000000</td>\n",
       "      <td>1.000000</td>\n",
       "      <td>1.000000</td>\n",
       "      <td>1.000000</td>\n",
       "      <td>1.000000</td>\n",
       "      <td>1.000000</td>\n",
       "      <td>1.000000</td>\n",
       "      <td>1.000000</td>\n",
       "      <td>1.000000</td>\n",
       "      <td>1.000000</td>\n",
       "      <td>1.000000</td>\n",
       "      <td>1.000000</td>\n",
       "      <td>1.000000</td>\n",
       "      <td>1.000000</td>\n",
       "      <td>1.000000</td>\n",
       "      <td>1.000000</td>\n",
       "      <td>1.000000</td>\n",
       "      <td>1.000000</td>\n",
       "      <td>1.000000</td>\n",
       "      <td>1.000000</td>\n",
       "      <td>1.000000</td>\n",
       "      <td>9.000000</td>\n",
       "      <td>9.000000</td>\n",
       "      <td>3.000000</td>\n",
       "      <td>13.000000</td>\n",
       "      <td>37.000000</td>\n",
       "      <td>1.000000</td>\n",
       "      <td>1.000000</td>\n",
       "      <td>1.000000</td>\n",
       "      <td>1.000000</td>\n",
       "      <td>1.000000</td>\n",
       "      <td>1.000000</td>\n",
       "      <td>1.000000</td>\n",
       "      <td>1.000000</td>\n",
       "      <td>1.000000</td>\n",
       "      <td>8.000000</td>\n",
       "      <td>6.000000</td>\n",
       "      <td>1.00000</td>\n",
       "      <td>1.000000</td>\n",
       "      <td>1.000000</td>\n",
       "      <td>1.000000</td>\n",
       "      <td>1.000000</td>\n",
       "      <td>1.000000</td>\n",
       "      <td>1.000000</td>\n",
       "      <td>1.000000</td>\n",
       "      <td>10.000000</td>\n",
       "      <td>1.000000</td>\n",
       "      <td>1.000000</td>\n",
       "      <td>1.000000</td>\n",
       "      <td>1.000000</td>\n",
       "      <td>1.000000</td>\n",
       "      <td>1.000000</td>\n",
       "      <td>1.000000</td>\n",
       "      <td>1.000000</td>\n",
       "      <td>97.000000</td>\n",
       "      <td>441.000000</td>\n",
       "      <td>9409.000000</td>\n",
       "      <td>169.000000</td>\n",
       "      <td>441.000000</td>\n",
       "      <td>81.000000</td>\n",
       "      <td>36.000000</td>\n",
       "      <td>64.000000</td>\n",
       "      <td>1369.000000</td>\n",
       "      <td>9409.000000</td>\n",
       "      <td>4.000000</td>\n",
       "    </tr>\n",
       "  </tbody>\n",
       "</table>\n",
       "</div>"
      ],
      "text/plain": [
       "               v2a1       hacdor        rooms       hacapo         v14a  \\\n",
       "count  2.697000e+03  9557.000000  9557.000000  9557.000000  9557.000000   \n",
       "mean   1.652316e+05     0.038087     4.955530     0.023648     0.994768   \n",
       "std    1.504571e+05     0.191417     1.468381     0.151957     0.072145   \n",
       "min    0.000000e+00     0.000000     1.000000     0.000000     0.000000   \n",
       "25%    8.000000e+04     0.000000     4.000000     0.000000     1.000000   \n",
       "50%    1.300000e+05     0.000000     5.000000     0.000000     1.000000   \n",
       "75%    2.000000e+05     0.000000     6.000000     0.000000     1.000000   \n",
       "max    2.353477e+06     1.000000    11.000000     1.000000     1.000000   \n",
       "\n",
       "            refrig         v18q        v18q1         r4h1         r4h2  \\\n",
       "count  9557.000000  9557.000000  2215.000000  9557.000000  9557.000000   \n",
       "mean      0.957623     0.231767     1.404063     0.385895     1.559171   \n",
       "std       0.201459     0.421983     0.763131     0.680779     1.036574   \n",
       "min       0.000000     0.000000     1.000000     0.000000     0.000000   \n",
       "25%       1.000000     0.000000     1.000000     0.000000     1.000000   \n",
       "50%       1.000000     0.000000     1.000000     0.000000     1.000000   \n",
       "75%       1.000000     0.000000     2.000000     1.000000     2.000000   \n",
       "max       1.000000     1.000000     6.000000     5.000000     8.000000   \n",
       "\n",
       "              r4h3         r4m1         r4m2         r4m3         r4t1  \\\n",
       "count  9557.000000  9557.000000  9557.000000  9557.000000  9557.000000   \n",
       "mean      1.945066     0.399184     1.661714     2.060898     0.785079   \n",
       "std       1.188852     0.692460     0.933052     1.206172     1.047559   \n",
       "min       0.000000     0.000000     0.000000     0.000000     0.000000   \n",
       "25%       1.000000     0.000000     1.000000     1.000000     0.000000   \n",
       "50%       2.000000     0.000000     1.000000     2.000000     0.000000   \n",
       "75%       3.000000     1.000000     2.000000     3.000000     1.000000   \n",
       "max       8.000000     6.000000     6.000000     8.000000     7.000000   \n",
       "\n",
       "              r4t2         r4t3       tamhog       tamviv     escolari  \\\n",
       "count  9557.000000  9557.000000  9557.000000  9557.000000  9557.000000   \n",
       "mean      3.220885     4.005964     3.999058     4.094590     7.200272   \n",
       "std       1.440995     1.771202     1.772216     1.876428     4.730877   \n",
       "min       1.000000     1.000000     1.000000     1.000000     0.000000   \n",
       "25%       2.000000     3.000000     3.000000     3.000000     4.000000   \n",
       "50%       3.000000     4.000000     4.000000     4.000000     6.000000   \n",
       "75%       4.000000     5.000000     5.000000     5.000000    11.000000   \n",
       "max      11.000000    13.000000    13.000000    15.000000    21.000000   \n",
       "\n",
       "           rez_esc       hhsize  paredblolad  paredzocalo    paredpreb  \\\n",
       "count  1629.000000  9557.000000  9557.000000  9557.000000  9557.000000   \n",
       "mean      0.459791     3.999058     0.594015     0.077744     0.188030   \n",
       "std       0.946550     1.772216     0.491107     0.267782     0.390756   \n",
       "min       0.000000     1.000000     0.000000     0.000000     0.000000   \n",
       "25%       0.000000     3.000000     0.000000     0.000000     0.000000   \n",
       "50%       0.000000     4.000000     1.000000     0.000000     0.000000   \n",
       "75%       1.000000     5.000000     1.000000     0.000000     0.000000   \n",
       "max       5.000000    13.000000     1.000000     1.000000     1.000000   \n",
       "\n",
       "          pareddes     paredmad    paredzinc  paredfibras   paredother  \\\n",
       "count  9557.000000  9557.000000  9557.000000  9557.000000  9557.000000   \n",
       "mean      0.008580     0.115622     0.013079     0.001465     0.001465   \n",
       "std       0.092235     0.319788     0.113621     0.038248     0.038248   \n",
       "min       0.000000     0.000000     0.000000     0.000000     0.000000   \n",
       "25%       0.000000     0.000000     0.000000     0.000000     0.000000   \n",
       "50%       0.000000     0.000000     0.000000     0.000000     0.000000   \n",
       "75%       0.000000     0.000000     0.000000     0.000000     0.000000   \n",
       "max       1.000000     1.000000     1.000000     1.000000     1.000000   \n",
       "\n",
       "        pisomoscer  pisocemento    pisoother    pisonatur  pisonotiene  \\\n",
       "count  9557.000000  9557.000000  9557.000000  9557.000000  9557.000000   \n",
       "mean      0.692791     0.222873     0.000942     0.001046     0.016428   \n",
       "std       0.461361     0.416196     0.030675     0.032332     0.127120   \n",
       "min       0.000000     0.000000     0.000000     0.000000     0.000000   \n",
       "25%       0.000000     0.000000     0.000000     0.000000     0.000000   \n",
       "50%       1.000000     0.000000     0.000000     0.000000     0.000000   \n",
       "75%       1.000000     0.000000     0.000000     0.000000     0.000000   \n",
       "max       1.000000     1.000000     1.000000     1.000000     1.000000   \n",
       "\n",
       "        pisomadera    techozinc  techoentrepiso    techocane    techootro  \\\n",
       "count  9557.000000  9557.000000     9557.000000  9557.000000  9557.000000   \n",
       "mean      0.065920     0.970074        0.017683     0.003139     0.002197   \n",
       "std       0.248156     0.170391        0.131805     0.055942     0.046827   \n",
       "min       0.000000     0.000000        0.000000     0.000000     0.000000   \n",
       "25%       0.000000     1.000000        0.000000     0.000000     0.000000   \n",
       "50%       0.000000     1.000000        0.000000     0.000000     0.000000   \n",
       "75%       0.000000     1.000000        0.000000     0.000000     0.000000   \n",
       "max       1.000000     1.000000        1.000000     1.000000     1.000000   \n",
       "\n",
       "         cielorazo  abastaguadentro  abastaguafuera  abastaguano       public  \\\n",
       "count  9557.000000      9557.000000     9557.000000  9557.000000  9557.000000   \n",
       "mean      0.677409         0.964738        0.031705     0.003558     0.885110   \n",
       "std       0.467492         0.184451        0.175221     0.059543     0.318905   \n",
       "min       0.000000         0.000000        0.000000     0.000000     0.000000   \n",
       "25%       0.000000         1.000000        0.000000     0.000000     1.000000   \n",
       "50%       1.000000         1.000000        0.000000     0.000000     1.000000   \n",
       "75%       1.000000         1.000000        0.000000     0.000000     1.000000   \n",
       "max       1.000000         1.000000        1.000000     1.000000     1.000000   \n",
       "\n",
       "           planpri       noelec      coopele   sanitario1   sanitario2  \\\n",
       "count  9557.000000  9557.000000  9557.000000  9557.000000  9557.000000   \n",
       "mean      0.000314     0.002197     0.110809     0.003872     0.213979   \n",
       "std       0.017716     0.046827     0.313912     0.062104     0.410134   \n",
       "min       0.000000     0.000000     0.000000     0.000000     0.000000   \n",
       "25%       0.000000     0.000000     0.000000     0.000000     0.000000   \n",
       "50%       0.000000     0.000000     0.000000     0.000000     0.000000   \n",
       "75%       0.000000     0.000000     0.000000     0.000000     0.000000   \n",
       "max       1.000000     1.000000     1.000000     1.000000     1.000000   \n",
       "\n",
       "        sanitario3   sanitario5   sanitario6  energcocinar1  energcocinar2  \\\n",
       "count  9557.000000  9557.000000  9557.000000    9557.000000    9557.000000   \n",
       "mean      0.764257     0.015381     0.002511       0.001883       0.489589   \n",
       "std       0.424485     0.123071     0.050052       0.043360       0.499918   \n",
       "min       0.000000     0.000000     0.000000       0.000000       0.000000   \n",
       "25%       1.000000     0.000000     0.000000       0.000000       0.000000   \n",
       "50%       1.000000     0.000000     0.000000       0.000000       0.000000   \n",
       "75%       1.000000     0.000000     0.000000       0.000000       1.000000   \n",
       "max       1.000000     1.000000     1.000000       1.000000       1.000000   \n",
       "\n",
       "       energcocinar3  energcocinar4    elimbasu1   elimbasu2    elimbasu3  \\\n",
       "count    9557.000000    9557.000000  9557.000000  9557.00000  9557.000000   \n",
       "mean        0.458407       0.050120     0.882704     0.03003     0.084545   \n",
       "std         0.498293       0.218205     0.321790     0.17068     0.278219   \n",
       "min         0.000000       0.000000     0.000000     0.00000     0.000000   \n",
       "25%         0.000000       0.000000     1.000000     0.00000     0.000000   \n",
       "50%         0.000000       0.000000     1.000000     0.00000     0.000000   \n",
       "75%         1.000000       0.000000     1.000000     0.00000     0.000000   \n",
       "max         1.000000       1.000000     1.000000     1.00000     1.000000   \n",
       "\n",
       "         elimbasu4  elimbasu5    elimbasu6      epared1      epared2  \\\n",
       "count  9557.000000     9557.0  9557.000000  9557.000000  9557.000000   \n",
       "mean      0.001465        0.0     0.001256     0.102438     0.327404   \n",
       "std       0.038248        0.0     0.035414     0.303239     0.469291   \n",
       "min       0.000000        0.0     0.000000     0.000000     0.000000   \n",
       "25%       0.000000        0.0     0.000000     0.000000     0.000000   \n",
       "50%       0.000000        0.0     0.000000     0.000000     0.000000   \n",
       "75%       0.000000        0.0     0.000000     0.000000     1.000000   \n",
       "max       1.000000        0.0     1.000000     1.000000     1.000000   \n",
       "\n",
       "           epared3      etecho1      etecho2      etecho3        eviv1  \\\n",
       "count  9557.000000  9557.000000  9557.000000  9557.000000  9557.000000   \n",
       "mean      0.570158     0.128388     0.288061     0.583551     0.101078   \n",
       "std       0.495079     0.334538     0.452883     0.492996     0.301447   \n",
       "min       0.000000     0.000000     0.000000     0.000000     0.000000   \n",
       "25%       0.000000     0.000000     0.000000     0.000000     0.000000   \n",
       "50%       1.000000     0.000000     0.000000     1.000000     0.000000   \n",
       "75%       1.000000     0.000000     1.000000     1.000000     0.000000   \n",
       "max       1.000000     1.000000     1.000000     1.000000     1.000000   \n",
       "\n",
       "             eviv2        eviv3          dis         male       female  \\\n",
       "count  9557.000000  9557.000000  9557.000000  9557.000000  9557.000000   \n",
       "mean      0.252799     0.646123     0.057549     0.483415     0.516585   \n",
       "std       0.434639     0.478197     0.232902     0.499751     0.499751   \n",
       "min       0.000000     0.000000     0.000000     0.000000     0.000000   \n",
       "25%       0.000000     0.000000     0.000000     0.000000     0.000000   \n",
       "50%       0.000000     1.000000     0.000000     0.000000     1.000000   \n",
       "75%       1.000000     1.000000     0.000000     1.000000     1.000000   \n",
       "max       1.000000     1.000000     1.000000     1.000000     1.000000   \n",
       "\n",
       "       estadocivil1  estadocivil2  estadocivil3  estadocivil4  estadocivil5  \\\n",
       "count   9557.000000   9557.000000   9557.000000   9557.000000   9557.000000   \n",
       "mean       0.137805      0.123260      0.268390      0.031914      0.062781   \n",
       "std        0.344713      0.328753      0.443145      0.175780      0.242582   \n",
       "min        0.000000      0.000000      0.000000      0.000000      0.000000   \n",
       "25%        0.000000      0.000000      0.000000      0.000000      0.000000   \n",
       "50%        0.000000      0.000000      0.000000      0.000000      0.000000   \n",
       "75%        0.000000      0.000000      1.000000      0.000000      0.000000   \n",
       "max        1.000000      1.000000      1.000000      1.000000      1.000000   \n",
       "\n",
       "       estadocivil6  estadocivil7  parentesco1  parentesco2  parentesco3  \\\n",
       "count   9557.000000   9557.000000  9557.000000  9557.000000  9557.000000   \n",
       "mean       0.033169      0.342681     0.311081     0.184054     0.381814   \n",
       "std        0.179088      0.474631     0.462960     0.387548     0.485857   \n",
       "min        0.000000      0.000000     0.000000     0.000000     0.000000   \n",
       "25%        0.000000      0.000000     0.000000     0.000000     0.000000   \n",
       "50%        0.000000      0.000000     0.000000     0.000000     0.000000   \n",
       "75%        0.000000      1.000000     1.000000     0.000000     1.000000   \n",
       "max        1.000000      1.000000     1.000000     1.000000     1.000000   \n",
       "\n",
       "       parentesco4  parentesco5  parentesco6  parentesco7  parentesco8  \\\n",
       "count  9557.000000  9557.000000  9557.000000  9557.000000  9557.000000   \n",
       "mean      0.012138     0.009522     0.051167     0.010045     0.002407   \n",
       "std       0.109506     0.097119     0.220349     0.099725     0.049001   \n",
       "min       0.000000     0.000000     0.000000     0.000000     0.000000   \n",
       "25%       0.000000     0.000000     0.000000     0.000000     0.000000   \n",
       "50%       0.000000     0.000000     0.000000     0.000000     0.000000   \n",
       "75%       0.000000     0.000000     0.000000     0.000000     0.000000   \n",
       "max       1.000000     1.000000     1.000000     1.000000     1.000000   \n",
       "\n",
       "       parentesco9  parentesco10  parentesco11  parentesco12    hogar_nin  \\\n",
       "count  9557.000000   9557.000000   9557.000000   9557.000000  9557.000000   \n",
       "mean      0.013289      0.003139      0.012661      0.008685     1.406613   \n",
       "std       0.114514      0.055942      0.111812      0.092791     1.366185   \n",
       "min       0.000000      0.000000      0.000000      0.000000     0.000000   \n",
       "25%       0.000000      0.000000      0.000000      0.000000     0.000000   \n",
       "50%       0.000000      0.000000      0.000000      0.000000     1.000000   \n",
       "75%       0.000000      0.000000      0.000000      0.000000     2.000000   \n",
       "max       1.000000      1.000000      1.000000      1.000000     9.000000   \n",
       "\n",
       "        hogar_adul  hogar_mayor  hogar_total     meaneduc   instlevel1  \\\n",
       "count  9557.000000  9557.000000  9557.000000  9552.000000  9557.000000   \n",
       "mean      2.592445     0.284085     3.999058     9.231523     0.134666   \n",
       "std       1.166074     0.597163     1.772216     4.167694     0.341384   \n",
       "min       0.000000     0.000000     1.000000     0.000000     0.000000   \n",
       "25%       2.000000     0.000000     3.000000     6.000000     0.000000   \n",
       "50%       2.000000     0.000000     4.000000     9.000000     0.000000   \n",
       "75%       3.000000     0.000000     5.000000    11.600000     0.000000   \n",
       "max       9.000000     3.000000    13.000000    37.000000     1.000000   \n",
       "\n",
       "        instlevel2   instlevel3   instlevel4   instlevel5   instlevel6  \\\n",
       "count  9557.000000  9557.000000  9557.000000  9557.000000  9557.000000   \n",
       "mean      0.170556     0.207701     0.185414     0.112692     0.017893   \n",
       "std       0.376140     0.405683     0.388653     0.316233     0.132568   \n",
       "min       0.000000     0.000000     0.000000     0.000000     0.000000   \n",
       "25%       0.000000     0.000000     0.000000     0.000000     0.000000   \n",
       "50%       0.000000     0.000000     0.000000     0.000000     0.000000   \n",
       "75%       0.000000     0.000000     0.000000     0.000000     0.000000   \n",
       "max       1.000000     1.000000     1.000000     1.000000     1.000000   \n",
       "\n",
       "        instlevel7   instlevel8   instlevel9     bedrooms  overcrowding  \\\n",
       "count  9557.000000  9557.000000  9557.000000  9557.000000   9557.000000   \n",
       "mean      0.015591     0.139793     0.015381     2.739981      1.605380   \n",
       "std       0.123892     0.346790     0.123071     0.944507      0.819946   \n",
       "min       0.000000     0.000000     0.000000     1.000000      0.200000   \n",
       "25%       0.000000     0.000000     0.000000     2.000000      1.000000   \n",
       "50%       0.000000     0.000000     0.000000     3.000000      1.500000   \n",
       "75%       0.000000     0.000000     0.000000     3.000000      2.000000   \n",
       "max       1.000000     1.000000     1.000000     8.000000      6.000000   \n",
       "\n",
       "        tipovivi1    tipovivi2    tipovivi3    tipovivi4    tipovivi5  \\\n",
       "count  9557.00000  9557.000000  9557.000000  9557.000000  9557.000000   \n",
       "mean      0.61850     0.100555     0.181647     0.017056     0.082243   \n",
       "std       0.48578     0.300754     0.385573     0.129485     0.274750   \n",
       "min       0.00000     0.000000     0.000000     0.000000     0.000000   \n",
       "25%       0.00000     0.000000     0.000000     0.000000     0.000000   \n",
       "50%       1.00000     0.000000     0.000000     0.000000     0.000000   \n",
       "75%       1.00000     0.000000     0.000000     0.000000     0.000000   \n",
       "max       1.00000     1.000000     1.000000     1.000000     1.000000   \n",
       "\n",
       "          computer   television  mobilephone  qmobilephone       lugar1  \\\n",
       "count  9557.000000  9557.000000  9557.000000   9557.000000  9557.000000   \n",
       "mean      0.102124     0.284608     0.975306      2.821492     0.587632   \n",
       "std       0.302827     0.451251     0.155199      1.483249     0.492286   \n",
       "min       0.000000     0.000000     0.000000      0.000000     0.000000   \n",
       "25%       0.000000     0.000000     1.000000      2.000000     0.000000   \n",
       "50%       0.000000     0.000000     1.000000      3.000000     1.000000   \n",
       "75%       0.000000     1.000000     1.000000      4.000000     1.000000   \n",
       "max       1.000000     1.000000     1.000000     10.000000     1.000000   \n",
       "\n",
       "            lugar2       lugar3       lugar4       lugar5       lugar6  \\\n",
       "count  9557.000000  9557.000000  9557.000000  9557.000000  9557.000000   \n",
       "mean      0.092707     0.062363     0.082767     0.093858     0.080674   \n",
       "std       0.290036     0.241826     0.275543     0.291646     0.272348   \n",
       "min       0.000000     0.000000     0.000000     0.000000     0.000000   \n",
       "25%       0.000000     0.000000     0.000000     0.000000     0.000000   \n",
       "50%       0.000000     0.000000     0.000000     0.000000     0.000000   \n",
       "75%       0.000000     0.000000     0.000000     0.000000     0.000000   \n",
       "max       1.000000     1.000000     1.000000     1.000000     1.000000   \n",
       "\n",
       "             area1        area2          age  SQBescolari       SQBage  \\\n",
       "count  9557.000000  9557.000000  9557.000000  9557.000000  9557.000000   \n",
       "mean      0.714555     0.285445    34.303547    74.222769  1643.774302   \n",
       "std       0.451650     0.451650    21.612261    76.777549  1741.197050   \n",
       "min       0.000000     0.000000     0.000000     0.000000     0.000000   \n",
       "25%       0.000000     0.000000    17.000000    16.000000   289.000000   \n",
       "50%       1.000000     0.000000    31.000000    36.000000   961.000000   \n",
       "75%       1.000000     1.000000    51.000000   121.000000  2601.000000   \n",
       "max       1.000000     1.000000    97.000000   441.000000  9409.000000   \n",
       "\n",
       "       SQBhogar_total    SQBedjefe  SQBhogar_nin  SQBovercrowding  \\\n",
       "count     9557.000000  9557.000000   9557.000000      9557.000000   \n",
       "mean        19.132887    53.500262      3.844826         3.249485   \n",
       "std         18.751395    78.445804      6.946296         4.129547   \n",
       "min          1.000000     0.000000      0.000000         0.040000   \n",
       "25%          9.000000     0.000000      0.000000         1.000000   \n",
       "50%         16.000000    36.000000      1.000000         2.250000   \n",
       "75%         25.000000    81.000000      4.000000         4.000000   \n",
       "max        169.000000   441.000000     81.000000        36.000000   \n",
       "\n",
       "       SQBdependency    SQBmeaned        agesq       Target  \n",
       "count    9557.000000  9552.000000  9557.000000  9557.000000  \n",
       "mean        3.900409   102.588867  1643.774302     3.302292  \n",
       "std        12.511831    93.516890  1741.197050     1.009565  \n",
       "min         0.000000     0.000000     0.000000     1.000000  \n",
       "25%         0.111111    36.000000   289.000000     3.000000  \n",
       "50%         0.444444    81.000000   961.000000     4.000000  \n",
       "75%         1.777778   134.560010  2601.000000     4.000000  \n",
       "max        64.000000  1369.000000  9409.000000     4.000000  "
      ]
     },
     "execution_count": 7,
     "metadata": {},
     "output_type": "execute_result"
    }
   ],
   "source": [
    "train.describe()"
   ]
  },
  {
   "cell_type": "code",
   "execution_count": 8,
   "id": "d7c8d040",
   "metadata": {
    "execution": {
     "iopub.execute_input": "2021-07-10T07:09:18.246019Z",
     "iopub.status.busy": "2021-07-10T07:09:18.245436Z",
     "iopub.status.idle": "2021-07-10T07:09:18.255570Z",
     "shell.execute_reply": "2021-07-10T07:09:18.255024Z",
     "shell.execute_reply.started": "2021-07-10T05:04:42.945053Z"
    },
    "papermill": {
     "duration": 0.069371,
     "end_time": "2021-07-10T07:09:18.255699",
     "exception": false,
     "start_time": "2021-07-10T07:09:18.186328",
     "status": "completed"
    },
    "tags": []
   },
   "outputs": [
    {
     "data": {
      "text/plain": [
       "Id    0\n",
       "dtype: int64"
      ]
     },
     "execution_count": 8,
     "metadata": {},
     "output_type": "execute_result"
    }
   ],
   "source": [
    "# False -> 0, True -> 1\n",
    "train[['Id']].isnull().sum()"
   ]
  },
  {
   "cell_type": "code",
   "execution_count": 9,
   "id": "e94fed0c",
   "metadata": {
    "execution": {
     "iopub.execute_input": "2021-07-10T07:09:18.376415Z",
     "iopub.status.busy": "2021-07-10T07:09:18.375684Z",
     "iopub.status.idle": "2021-07-10T07:09:18.378112Z",
     "shell.execute_reply": "2021-07-10T07:09:18.378680Z",
     "shell.execute_reply.started": "2021-07-10T05:04:42.953789Z"
    },
    "papermill": {
     "duration": 0.06706,
     "end_time": "2021-07-10T07:09:18.378856",
     "exception": false,
     "start_time": "2021-07-10T07:09:18.311796",
     "status": "completed"
    },
    "tags": []
   },
   "outputs": [
    {
     "data": {
      "text/plain": [
       "hacdor    0\n",
       "dtype: int64"
      ]
     },
     "execution_count": 9,
     "metadata": {},
     "output_type": "execute_result"
    }
   ],
   "source": [
    "train[['hacdor']].isnull().sum()"
   ]
  },
  {
   "cell_type": "code",
   "execution_count": 10,
   "id": "74581d2f",
   "metadata": {
    "collapsed": true,
    "execution": {
     "iopub.execute_input": "2021-07-10T07:09:18.493342Z",
     "iopub.status.busy": "2021-07-10T07:09:18.492773Z",
     "iopub.status.idle": "2021-07-10T07:09:18.509156Z",
     "shell.execute_reply": "2021-07-10T07:09:18.509694Z",
     "shell.execute_reply.started": "2021-07-10T05:04:42.970022Z"
    },
    "jupyter": {
     "outputs_hidden": true
    },
    "papermill": {
     "duration": 0.074929,
     "end_time": "2021-07-10T07:09:18.509884",
     "exception": false,
     "start_time": "2021-07-10T07:09:18.434955",
     "status": "completed"
    },
    "tags": []
   },
   "outputs": [
    {
     "data": {
      "text/plain": [
       "Id                    0\n",
       "v2a1               6860\n",
       "hacdor                0\n",
       "rooms                 0\n",
       "hacapo                0\n",
       "v14a                  0\n",
       "refrig                0\n",
       "v18q                  0\n",
       "v18q1              7342\n",
       "r4h1                  0\n",
       "r4h2                  0\n",
       "r4h3                  0\n",
       "r4m1                  0\n",
       "r4m2                  0\n",
       "r4m3                  0\n",
       "r4t1                  0\n",
       "r4t2                  0\n",
       "r4t3                  0\n",
       "tamhog                0\n",
       "tamviv                0\n",
       "escolari              0\n",
       "rez_esc            7928\n",
       "hhsize                0\n",
       "paredblolad           0\n",
       "paredzocalo           0\n",
       "paredpreb             0\n",
       "pareddes              0\n",
       "paredmad              0\n",
       "paredzinc             0\n",
       "paredfibras           0\n",
       "paredother            0\n",
       "pisomoscer            0\n",
       "pisocemento           0\n",
       "pisoother             0\n",
       "pisonatur             0\n",
       "pisonotiene           0\n",
       "pisomadera            0\n",
       "techozinc             0\n",
       "techoentrepiso        0\n",
       "techocane             0\n",
       "techootro             0\n",
       "cielorazo             0\n",
       "abastaguadentro       0\n",
       "abastaguafuera        0\n",
       "abastaguano           0\n",
       "public                0\n",
       "planpri               0\n",
       "noelec                0\n",
       "coopele               0\n",
       "sanitario1            0\n",
       "sanitario2            0\n",
       "sanitario3            0\n",
       "sanitario5            0\n",
       "sanitario6            0\n",
       "energcocinar1         0\n",
       "energcocinar2         0\n",
       "energcocinar3         0\n",
       "energcocinar4         0\n",
       "elimbasu1             0\n",
       "elimbasu2             0\n",
       "elimbasu3             0\n",
       "elimbasu4             0\n",
       "elimbasu5             0\n",
       "elimbasu6             0\n",
       "epared1               0\n",
       "epared2               0\n",
       "epared3               0\n",
       "etecho1               0\n",
       "etecho2               0\n",
       "etecho3               0\n",
       "eviv1                 0\n",
       "eviv2                 0\n",
       "eviv3                 0\n",
       "dis                   0\n",
       "male                  0\n",
       "female                0\n",
       "estadocivil1          0\n",
       "estadocivil2          0\n",
       "estadocivil3          0\n",
       "estadocivil4          0\n",
       "estadocivil5          0\n",
       "estadocivil6          0\n",
       "estadocivil7          0\n",
       "parentesco1           0\n",
       "parentesco2           0\n",
       "parentesco3           0\n",
       "parentesco4           0\n",
       "parentesco5           0\n",
       "parentesco6           0\n",
       "parentesco7           0\n",
       "parentesco8           0\n",
       "parentesco9           0\n",
       "parentesco10          0\n",
       "parentesco11          0\n",
       "parentesco12          0\n",
       "idhogar               0\n",
       "hogar_nin             0\n",
       "hogar_adul            0\n",
       "hogar_mayor           0\n",
       "hogar_total           0\n",
       "dependency            0\n",
       "edjefe                0\n",
       "edjefa                0\n",
       "meaneduc              5\n",
       "instlevel1            0\n",
       "instlevel2            0\n",
       "instlevel3            0\n",
       "instlevel4            0\n",
       "instlevel5            0\n",
       "instlevel6            0\n",
       "instlevel7            0\n",
       "instlevel8            0\n",
       "instlevel9            0\n",
       "bedrooms              0\n",
       "overcrowding          0\n",
       "tipovivi1             0\n",
       "tipovivi2             0\n",
       "tipovivi3             0\n",
       "tipovivi4             0\n",
       "tipovivi5             0\n",
       "computer              0\n",
       "television            0\n",
       "mobilephone           0\n",
       "qmobilephone          0\n",
       "lugar1                0\n",
       "lugar2                0\n",
       "lugar3                0\n",
       "lugar4                0\n",
       "lugar5                0\n",
       "lugar6                0\n",
       "area1                 0\n",
       "area2                 0\n",
       "age                   0\n",
       "SQBescolari           0\n",
       "SQBage                0\n",
       "SQBhogar_total        0\n",
       "SQBedjefe             0\n",
       "SQBhogar_nin          0\n",
       "SQBovercrowding       0\n",
       "SQBdependency         0\n",
       "SQBmeaned             5\n",
       "agesq                 0\n",
       "Target                0\n",
       "dtype: int64"
      ]
     },
     "execution_count": 10,
     "metadata": {},
     "output_type": "execute_result"
    }
   ],
   "source": [
    "train.isnull().sum()"
   ]
  },
  {
   "cell_type": "code",
   "execution_count": 11,
   "id": "af4cdaa4",
   "metadata": {
    "execution": {
     "iopub.execute_input": "2021-07-10T07:09:18.622846Z",
     "iopub.status.busy": "2021-07-10T07:09:18.622262Z",
     "iopub.status.idle": "2021-07-10T07:09:18.656502Z",
     "shell.execute_reply": "2021-07-10T07:09:18.657034Z",
     "shell.execute_reply.started": "2021-07-10T05:04:42.986804Z"
    },
    "papermill": {
     "duration": 0.092213,
     "end_time": "2021-07-10T07:09:18.657215",
     "exception": false,
     "start_time": "2021-07-10T07:09:18.565002",
     "status": "completed"
    },
    "tags": []
   },
   "outputs": [
    {
     "data": {
      "text/plain": [
       "(Index(['Id', 'hacdor', 'rooms', 'hacapo', 'v14a', 'refrig', 'v18q', 'r4h1',\n",
       "        'r4h2', 'r4h3',\n",
       "        ...\n",
       "        'age', 'SQBescolari', 'SQBage', 'SQBhogar_total', 'SQBedjefe',\n",
       "        'SQBhogar_nin', 'SQBovercrowding', 'SQBdependency', 'agesq', 'Target'],\n",
       "       dtype='object', length=138),\n",
       " 138)"
      ]
     },
     "execution_count": 11,
     "metadata": {},
     "output_type": "execute_result"
    }
   ],
   "source": [
    "train = train.dropna(axis='columns')\n",
    "train.columns, len(train.columns)"
   ]
  },
  {
   "cell_type": "code",
   "execution_count": 12,
   "id": "2f9d058a",
   "metadata": {
    "collapsed": true,
    "execution": {
     "iopub.execute_input": "2021-07-10T07:09:18.778863Z",
     "iopub.status.busy": "2021-07-10T07:09:18.778204Z",
     "iopub.status.idle": "2021-07-10T07:09:18.788579Z",
     "shell.execute_reply": "2021-07-10T07:09:18.789202Z",
     "shell.execute_reply.started": "2021-07-10T05:04:43.017506Z"
    },
    "jupyter": {
     "outputs_hidden": true
    },
    "papermill": {
     "duration": 0.075888,
     "end_time": "2021-07-10T07:09:18.789372",
     "exception": false,
     "start_time": "2021-07-10T07:09:18.713484",
     "status": "completed"
    },
    "tags": []
   },
   "outputs": [
    {
     "data": {
      "text/plain": [
       "Id                 0\n",
       "hacdor             0\n",
       "rooms              0\n",
       "hacapo             0\n",
       "v14a               0\n",
       "refrig             0\n",
       "v18q               0\n",
       "r4h1               0\n",
       "r4h2               0\n",
       "r4h3               0\n",
       "r4m1               0\n",
       "r4m2               0\n",
       "r4m3               0\n",
       "r4t1               0\n",
       "r4t2               0\n",
       "r4t3               0\n",
       "tamhog             0\n",
       "tamviv             0\n",
       "escolari           0\n",
       "hhsize             0\n",
       "paredblolad        0\n",
       "paredzocalo        0\n",
       "paredpreb          0\n",
       "pareddes           0\n",
       "paredmad           0\n",
       "paredzinc          0\n",
       "paredfibras        0\n",
       "paredother         0\n",
       "pisomoscer         0\n",
       "pisocemento        0\n",
       "pisoother          0\n",
       "pisonatur          0\n",
       "pisonotiene        0\n",
       "pisomadera         0\n",
       "techozinc          0\n",
       "techoentrepiso     0\n",
       "techocane          0\n",
       "techootro          0\n",
       "cielorazo          0\n",
       "abastaguadentro    0\n",
       "abastaguafuera     0\n",
       "abastaguano        0\n",
       "public             0\n",
       "planpri            0\n",
       "noelec             0\n",
       "coopele            0\n",
       "sanitario1         0\n",
       "sanitario2         0\n",
       "sanitario3         0\n",
       "sanitario5         0\n",
       "sanitario6         0\n",
       "energcocinar1      0\n",
       "energcocinar2      0\n",
       "energcocinar3      0\n",
       "energcocinar4      0\n",
       "elimbasu1          0\n",
       "elimbasu2          0\n",
       "elimbasu3          0\n",
       "elimbasu4          0\n",
       "elimbasu5          0\n",
       "elimbasu6          0\n",
       "epared1            0\n",
       "epared2            0\n",
       "epared3            0\n",
       "etecho1            0\n",
       "etecho2            0\n",
       "etecho3            0\n",
       "eviv1              0\n",
       "eviv2              0\n",
       "eviv3              0\n",
       "dis                0\n",
       "male               0\n",
       "female             0\n",
       "estadocivil1       0\n",
       "estadocivil2       0\n",
       "estadocivil3       0\n",
       "estadocivil4       0\n",
       "estadocivil5       0\n",
       "estadocivil6       0\n",
       "estadocivil7       0\n",
       "parentesco1        0\n",
       "parentesco2        0\n",
       "parentesco3        0\n",
       "parentesco4        0\n",
       "parentesco5        0\n",
       "parentesco6        0\n",
       "parentesco7        0\n",
       "parentesco8        0\n",
       "parentesco9        0\n",
       "parentesco10       0\n",
       "parentesco11       0\n",
       "parentesco12       0\n",
       "idhogar            0\n",
       "hogar_nin          0\n",
       "hogar_adul         0\n",
       "hogar_mayor        0\n",
       "hogar_total        0\n",
       "dependency         0\n",
       "edjefe             0\n",
       "edjefa             0\n",
       "instlevel1         0\n",
       "instlevel2         0\n",
       "instlevel3         0\n",
       "instlevel4         0\n",
       "instlevel5         0\n",
       "instlevel6         0\n",
       "instlevel7         0\n",
       "instlevel8         0\n",
       "instlevel9         0\n",
       "bedrooms           0\n",
       "overcrowding       0\n",
       "tipovivi1          0\n",
       "tipovivi2          0\n",
       "tipovivi3          0\n",
       "tipovivi4          0\n",
       "tipovivi5          0\n",
       "computer           0\n",
       "television         0\n",
       "mobilephone        0\n",
       "qmobilephone       0\n",
       "lugar1             0\n",
       "lugar2             0\n",
       "lugar3             0\n",
       "lugar4             0\n",
       "lugar5             0\n",
       "lugar6             0\n",
       "area1              0\n",
       "area2              0\n",
       "age                0\n",
       "SQBescolari        0\n",
       "SQBage             0\n",
       "SQBhogar_total     0\n",
       "SQBedjefe          0\n",
       "SQBhogar_nin       0\n",
       "SQBovercrowding    0\n",
       "SQBdependency      0\n",
       "agesq              0\n",
       "Target             0\n",
       "dtype: int64"
      ]
     },
     "execution_count": 12,
     "metadata": {},
     "output_type": "execute_result"
    }
   ],
   "source": [
    "train.isnull().sum()"
   ]
  },
  {
   "cell_type": "code",
   "execution_count": 13,
   "id": "a2941b51",
   "metadata": {
    "execution": {
     "iopub.execute_input": "2021-07-10T07:09:18.905810Z",
     "iopub.status.busy": "2021-07-10T07:09:18.905110Z",
     "iopub.status.idle": "2021-07-10T07:09:18.910789Z",
     "shell.execute_reply": "2021-07-10T07:09:18.911295Z",
     "shell.execute_reply.started": "2021-07-10T05:04:43.033376Z"
    },
    "papermill": {
     "duration": 0.065848,
     "end_time": "2021-07-10T07:09:18.911449",
     "exception": false,
     "start_time": "2021-07-10T07:09:18.845601",
     "status": "completed"
    },
    "tags": []
   },
   "outputs": [
    {
     "data": {
      "text/plain": [
       "Index(['Id', 'hacdor', 'rooms', 'hacapo', 'v14a', 'refrig', 'v18q', 'r4h1',\n",
       "       'r4h2', 'r4h3',\n",
       "       ...\n",
       "       'age', 'SQBescolari', 'SQBage', 'SQBhogar_total', 'SQBedjefe',\n",
       "       'SQBhogar_nin', 'SQBovercrowding', 'SQBdependency', 'agesq', 'Target'],\n",
       "      dtype='object', length=138)"
      ]
     },
     "execution_count": 13,
     "metadata": {},
     "output_type": "execute_result"
    }
   ],
   "source": [
    "train.columns"
   ]
  },
  {
   "cell_type": "markdown",
   "id": "bcd17526",
   "metadata": {
    "papermill": {
     "duration": 0.05674,
     "end_time": "2021-07-10T07:09:19.026711",
     "exception": false,
     "start_time": "2021-07-10T07:09:18.969971",
     "status": "completed"
    },
    "tags": []
   },
   "source": [
    "## choose columns : refrig, tamhog, hhsize, public, idhogar, dependency, hogar_total, overcrowding, bedrooms, agesq, Target\n"
   ]
  },
  {
   "cell_type": "code",
   "execution_count": 14,
   "id": "08278444",
   "metadata": {
    "execution": {
     "iopub.execute_input": "2021-07-10T07:09:19.151738Z",
     "iopub.status.busy": "2021-07-10T07:09:19.146696Z",
     "iopub.status.idle": "2021-07-10T07:09:19.160475Z",
     "shell.execute_reply": "2021-07-10T07:09:19.159997Z",
     "shell.execute_reply.started": "2021-07-10T05:04:43.041093Z"
    },
    "papermill": {
     "duration": 0.077699,
     "end_time": "2021-07-10T07:09:19.160607",
     "exception": false,
     "start_time": "2021-07-10T07:09:19.082908",
     "status": "completed"
    },
    "tags": []
   },
   "outputs": [
    {
     "data": {
      "text/html": [
       "<div>\n",
       "<style scoped>\n",
       "    .dataframe tbody tr th:only-of-type {\n",
       "        vertical-align: middle;\n",
       "    }\n",
       "\n",
       "    .dataframe tbody tr th {\n",
       "        vertical-align: top;\n",
       "    }\n",
       "\n",
       "    .dataframe thead th {\n",
       "        text-align: right;\n",
       "    }\n",
       "</style>\n",
       "<table border=\"1\" class=\"dataframe\">\n",
       "  <thead>\n",
       "    <tr style=\"text-align: right;\">\n",
       "      <th></th>\n",
       "      <th>refrig</th>\n",
       "      <th>tamhog</th>\n",
       "      <th>hhsize</th>\n",
       "      <th>public</th>\n",
       "      <th>idhogar</th>\n",
       "      <th>dependency</th>\n",
       "      <th>hogar_total</th>\n",
       "      <th>overcrowding</th>\n",
       "      <th>bedrooms</th>\n",
       "      <th>agesq</th>\n",
       "    </tr>\n",
       "  </thead>\n",
       "  <tbody>\n",
       "    <tr>\n",
       "      <th>0</th>\n",
       "      <td>1</td>\n",
       "      <td>1</td>\n",
       "      <td>1</td>\n",
       "      <td>1</td>\n",
       "      <td>21eb7fcc1</td>\n",
       "      <td>no</td>\n",
       "      <td>1</td>\n",
       "      <td>1.0</td>\n",
       "      <td>1</td>\n",
       "      <td>1849</td>\n",
       "    </tr>\n",
       "    <tr>\n",
       "      <th>1</th>\n",
       "      <td>1</td>\n",
       "      <td>1</td>\n",
       "      <td>1</td>\n",
       "      <td>1</td>\n",
       "      <td>0e5d7a658</td>\n",
       "      <td>8</td>\n",
       "      <td>1</td>\n",
       "      <td>1.0</td>\n",
       "      <td>1</td>\n",
       "      <td>4489</td>\n",
       "    </tr>\n",
       "    <tr>\n",
       "      <th>2</th>\n",
       "      <td>1</td>\n",
       "      <td>1</td>\n",
       "      <td>1</td>\n",
       "      <td>1</td>\n",
       "      <td>2c7317ea8</td>\n",
       "      <td>8</td>\n",
       "      <td>1</td>\n",
       "      <td>0.5</td>\n",
       "      <td>2</td>\n",
       "      <td>8464</td>\n",
       "    </tr>\n",
       "  </tbody>\n",
       "</table>\n",
       "</div>"
      ],
      "text/plain": [
       "   refrig  tamhog  hhsize  public    idhogar dependency  hogar_total  \\\n",
       "0       1       1       1       1  21eb7fcc1         no            1   \n",
       "1       1       1       1       1  0e5d7a658          8            1   \n",
       "2       1       1       1       1  2c7317ea8          8            1   \n",
       "\n",
       "   overcrowding  bedrooms  agesq  \n",
       "0           1.0         1   1849  \n",
       "1           1.0         1   4489  \n",
       "2           0.5         2   8464  "
      ]
     },
     "execution_count": 14,
     "metadata": {},
     "output_type": "execute_result"
    }
   ],
   "source": [
    "train_feature = train[['refrig', 'tamhog', 'hhsize', 'public', 'idhogar', 'dependency', 'hogar_total', 'overcrowding', 'bedrooms', 'agesq']]\n",
    "train_feature.head(3)"
   ]
  },
  {
   "cell_type": "code",
   "execution_count": 15,
   "id": "172e9bb5",
   "metadata": {
    "execution": {
     "iopub.execute_input": "2021-07-10T07:09:19.280050Z",
     "iopub.status.busy": "2021-07-10T07:09:19.279396Z",
     "iopub.status.idle": "2021-07-10T07:09:19.295126Z",
     "shell.execute_reply": "2021-07-10T07:09:19.294596Z",
     "shell.execute_reply.started": "2021-07-10T05:04:43.063437Z"
    },
    "papermill": {
     "duration": 0.076399,
     "end_time": "2021-07-10T07:09:19.295291",
     "exception": false,
     "start_time": "2021-07-10T07:09:19.218892",
     "status": "completed"
    },
    "tags": []
   },
   "outputs": [
    {
     "name": "stdout",
     "output_type": "stream",
     "text": [
      "<class 'pandas.core.frame.DataFrame'>\n",
      "RangeIndex: 9557 entries, 0 to 9556\n",
      "Data columns (total 10 columns):\n",
      " #   Column        Non-Null Count  Dtype  \n",
      "---  ------        --------------  -----  \n",
      " 0   refrig        9557 non-null   int64  \n",
      " 1   tamhog        9557 non-null   int64  \n",
      " 2   hhsize        9557 non-null   int64  \n",
      " 3   public        9557 non-null   int64  \n",
      " 4   idhogar       9557 non-null   object \n",
      " 5   dependency    9557 non-null   object \n",
      " 6   hogar_total   9557 non-null   int64  \n",
      " 7   overcrowding  9557 non-null   float64\n",
      " 8   bedrooms      9557 non-null   int64  \n",
      " 9   agesq         9557 non-null   int64  \n",
      "dtypes: float64(1), int64(7), object(2)\n",
      "memory usage: 746.8+ KB\n"
     ]
    }
   ],
   "source": [
    "train_feature.info()"
   ]
  },
  {
   "cell_type": "markdown",
   "id": "c0e39e47",
   "metadata": {
    "papermill": {
     "duration": 0.058058,
     "end_time": "2021-07-10T07:09:19.412263",
     "exception": false,
     "start_time": "2021-07-10T07:09:19.354205",
     "status": "completed"
    },
    "tags": []
   },
   "source": [
    "* 연속형 : refrig, public, dependency, overcrowding, bedrooms, \n",
    "* 분류형 : tamhog, hhsize,  hogar_total, "
   ]
  },
  {
   "cell_type": "code",
   "execution_count": 16,
   "id": "cc45c7cd",
   "metadata": {
    "collapsed": true,
    "execution": {
     "iopub.execute_input": "2021-07-10T07:09:19.537335Z",
     "iopub.status.busy": "2021-07-10T07:09:19.533887Z",
     "iopub.status.idle": "2021-07-10T07:09:19.540654Z",
     "shell.execute_reply": "2021-07-10T07:09:19.541246Z",
     "shell.execute_reply.started": "2021-07-10T05:04:43.077157Z"
    },
    "jupyter": {
     "outputs_hidden": true
    },
    "papermill": {
     "duration": 0.070307,
     "end_time": "2021-07-10T07:09:19.541407",
     "exception": false,
     "start_time": "2021-07-10T07:09:19.471100",
     "status": "completed"
    },
    "tags": []
   },
   "outputs": [
    {
     "data": {
      "text/plain": [
       "529     189\n",
       "256     180\n",
       "324     179\n",
       "400     179\n",
       "900     178\n",
       "289     175\n",
       "361     170\n",
       "484     166\n",
       "441     163\n",
       "784     159\n",
       "729     157\n",
       "576     156\n",
       "169     154\n",
       "225     153\n",
       "36      150\n",
       "1024    149\n",
       "625     146\n",
       "841     143\n",
       "9       143\n",
       "1444    143\n",
       "196     142\n",
       "49      140\n",
       "81      140\n",
       "144     139\n",
       "676     139\n",
       "2500    139\n",
       "1764    139\n",
       "16      139\n",
       "100     138\n",
       "64      136\n",
       "2704    135\n",
       "25      134\n",
       "1225    133\n",
       "121     133\n",
       "1849    132\n",
       "1296    132\n",
       "2916    131\n",
       "961     131\n",
       "2809    130\n",
       "1089    128\n",
       "1521    126\n",
       "1369    122\n",
       "2025    121\n",
       "1156    120\n",
       "1       120\n",
       "1600    118\n",
       "2209    116\n",
       "2304    116\n",
       "4       116\n",
       "3600    115\n",
       "3249    115\n",
       "3136    113\n",
       "2401    111\n",
       "2601    111\n",
       "2116    111\n",
       "3025    109\n",
       "3844     99\n",
       "0        99\n",
       "1936     95\n",
       "3364     94\n",
       "3481     93\n",
       "3969     88\n",
       "4096     83\n",
       "1681     82\n",
       "3721     75\n",
       "4356     69\n",
       "4900     69\n",
       "4489     68\n",
       "4624     66\n",
       "4225     63\n",
       "4761     53\n",
       "5184     52\n",
       "5476     50\n",
       "5329     43\n",
       "5625     41\n",
       "5776     39\n",
       "6084     32\n",
       "5041     30\n",
       "5929     30\n",
       "6400     28\n",
       "6241     26\n",
       "6889     24\n",
       "6724     24\n",
       "6561     19\n",
       "7225     18\n",
       "7396     15\n",
       "7921     12\n",
       "7569     12\n",
       "7056     12\n",
       "7744     11\n",
       "8281      8\n",
       "8836      7\n",
       "8100      7\n",
       "9409      6\n",
       "8464      6\n",
       "8649      5\n",
       "9025      2\n",
       "Name: agesq, dtype: int64"
      ]
     },
     "execution_count": 16,
     "metadata": {},
     "output_type": "execute_result"
    }
   ],
   "source": [
    "train_feature['agesq'].value_counts()"
   ]
  },
  {
   "cell_type": "code",
   "execution_count": 17,
   "id": "f992257c",
   "metadata": {
    "execution": {
     "iopub.execute_input": "2021-07-10T07:09:19.661964Z",
     "iopub.status.busy": "2021-07-10T07:09:19.661368Z",
     "iopub.status.idle": "2021-07-10T07:09:19.671011Z",
     "shell.execute_reply": "2021-07-10T07:09:19.670498Z",
     "shell.execute_reply.started": "2021-07-10T05:04:43.085883Z"
    },
    "papermill": {
     "duration": 0.070616,
     "end_time": "2021-07-10T07:09:19.671153",
     "exception": false,
     "start_time": "2021-07-10T07:09:19.600537",
     "status": "completed"
    },
    "tags": []
   },
   "outputs": [
    {
     "data": {
      "text/plain": [
       "(9557, 8)"
      ]
     },
     "execution_count": 17,
     "metadata": {},
     "output_type": "execute_result"
    }
   ],
   "source": [
    "train_feature = train_feature[['refrig', 'public', 'dependency', 'overcrowding', 'bedrooms','tamhog', 'hhsize', 'hogar_total']]\n",
    "train_feature.shape"
   ]
  },
  {
   "cell_type": "code",
   "execution_count": 18,
   "id": "7e1f89c8",
   "metadata": {
    "execution": {
     "iopub.execute_input": "2021-07-10T07:09:19.800611Z",
     "iopub.status.busy": "2021-07-10T07:09:19.799973Z",
     "iopub.status.idle": "2021-07-10T07:09:19.802604Z",
     "shell.execute_reply": "2021-07-10T07:09:19.803077Z",
     "shell.execute_reply.started": "2021-07-10T05:04:43.102848Z"
    },
    "papermill": {
     "duration": 0.072857,
     "end_time": "2021-07-10T07:09:19.803229",
     "exception": false,
     "start_time": "2021-07-10T07:09:19.730372",
     "status": "completed"
    },
    "tags": []
   },
   "outputs": [
    {
     "data": {
      "text/html": [
       "<div>\n",
       "<style scoped>\n",
       "    .dataframe tbody tr th:only-of-type {\n",
       "        vertical-align: middle;\n",
       "    }\n",
       "\n",
       "    .dataframe tbody tr th {\n",
       "        vertical-align: top;\n",
       "    }\n",
       "\n",
       "    .dataframe thead th {\n",
       "        text-align: right;\n",
       "    }\n",
       "</style>\n",
       "<table border=\"1\" class=\"dataframe\">\n",
       "  <thead>\n",
       "    <tr style=\"text-align: right;\">\n",
       "      <th></th>\n",
       "      <th>refrig</th>\n",
       "      <th>public</th>\n",
       "      <th>dependency</th>\n",
       "      <th>overcrowding</th>\n",
       "      <th>bedrooms</th>\n",
       "      <th>tamhog</th>\n",
       "      <th>hhsize</th>\n",
       "      <th>hogar_total</th>\n",
       "    </tr>\n",
       "  </thead>\n",
       "  <tbody>\n",
       "    <tr>\n",
       "      <th>0</th>\n",
       "      <td>1</td>\n",
       "      <td>1</td>\n",
       "      <td>no</td>\n",
       "      <td>1.0</td>\n",
       "      <td>1</td>\n",
       "      <td>1</td>\n",
       "      <td>1</td>\n",
       "      <td>1</td>\n",
       "    </tr>\n",
       "    <tr>\n",
       "      <th>1</th>\n",
       "      <td>1</td>\n",
       "      <td>1</td>\n",
       "      <td>8</td>\n",
       "      <td>1.0</td>\n",
       "      <td>1</td>\n",
       "      <td>1</td>\n",
       "      <td>1</td>\n",
       "      <td>1</td>\n",
       "    </tr>\n",
       "    <tr>\n",
       "      <th>2</th>\n",
       "      <td>1</td>\n",
       "      <td>1</td>\n",
       "      <td>8</td>\n",
       "      <td>0.5</td>\n",
       "      <td>2</td>\n",
       "      <td>1</td>\n",
       "      <td>1</td>\n",
       "      <td>1</td>\n",
       "    </tr>\n",
       "  </tbody>\n",
       "</table>\n",
       "</div>"
      ],
      "text/plain": [
       "   refrig  public dependency  overcrowding  bedrooms  tamhog  hhsize  \\\n",
       "0       1       1         no           1.0         1       1       1   \n",
       "1       1       1          8           1.0         1       1       1   \n",
       "2       1       1          8           0.5         2       1       1   \n",
       "\n",
       "   hogar_total  \n",
       "0            1  \n",
       "1            1  \n",
       "2            1  "
      ]
     },
     "execution_count": 18,
     "metadata": {},
     "output_type": "execute_result"
    }
   ],
   "source": [
    "train_feature.head(3)"
   ]
  },
  {
   "cell_type": "code",
   "execution_count": 19,
   "id": "3dfa8a20",
   "metadata": {
    "execution": {
     "iopub.execute_input": "2021-07-10T07:09:19.924222Z",
     "iopub.status.busy": "2021-07-10T07:09:19.923616Z",
     "iopub.status.idle": "2021-07-10T07:09:19.933423Z",
     "shell.execute_reply": "2021-07-10T07:09:19.933933Z",
     "shell.execute_reply.started": "2021-07-10T05:04:43.119654Z"
    },
    "papermill": {
     "duration": 0.071883,
     "end_time": "2021-07-10T07:09:19.934094",
     "exception": false,
     "start_time": "2021-07-10T07:09:19.862211",
     "status": "completed"
    },
    "tags": []
   },
   "outputs": [
    {
     "data": {
      "text/plain": [
       "yes          2192\n",
       "no           1747\n",
       ".5           1497\n",
       "2             730\n",
       "1.5           713\n",
       ".33333334     598\n",
       ".66666669     487\n",
       "8             378\n",
       ".25           260\n",
       "3             236\n",
       "4             100\n",
       ".75            98\n",
       ".2             90\n",
       ".40000001      84\n",
       "1.3333334      84\n",
       "2.5            77\n",
       "5              24\n",
       ".80000001      18\n",
       "1.25           18\n",
       "3.5            18\n",
       "2.25           13\n",
       ".71428573      12\n",
       ".83333331      11\n",
       ".22222222      11\n",
       "1.2            11\n",
       "1.75           11\n",
       ".2857143        9\n",
       ".60000002       8\n",
       "1.6666666       8\n",
       ".16666667       7\n",
       "6               7\n",
       "Name: dependency, dtype: int64"
      ]
     },
     "execution_count": 19,
     "metadata": {},
     "output_type": "execute_result"
    }
   ],
   "source": [
    "train_feature['dependency'].value_counts()"
   ]
  },
  {
   "cell_type": "code",
   "execution_count": 20,
   "id": "ffe45be3",
   "metadata": {
    "execution": {
     "iopub.execute_input": "2021-07-10T07:09:20.059449Z",
     "iopub.status.busy": "2021-07-10T07:09:20.058821Z",
     "iopub.status.idle": "2021-07-10T07:09:20.063806Z",
     "shell.execute_reply": "2021-07-10T07:09:20.064320Z",
     "shell.execute_reply.started": "2021-07-10T05:04:43.130302Z"
    },
    "papermill": {
     "duration": 0.068773,
     "end_time": "2021-07-10T07:09:20.064501",
     "exception": false,
     "start_time": "2021-07-10T07:09:19.995728",
     "status": "completed"
    },
    "tags": []
   },
   "outputs": [],
   "source": [
    "train_feature['dependency'] = train_feature['dependency'].replace(to_replace='yes',value=2)"
   ]
  },
  {
   "cell_type": "code",
   "execution_count": 21,
   "id": "fe511876",
   "metadata": {
    "execution": {
     "iopub.execute_input": "2021-07-10T07:09:20.189001Z",
     "iopub.status.busy": "2021-07-10T07:09:20.188391Z",
     "iopub.status.idle": "2021-07-10T07:09:20.194352Z",
     "shell.execute_reply": "2021-07-10T07:09:20.193846Z",
     "shell.execute_reply.started": "2021-07-10T05:04:43.144761Z"
    },
    "papermill": {
     "duration": 0.068809,
     "end_time": "2021-07-10T07:09:20.194511",
     "exception": false,
     "start_time": "2021-07-10T07:09:20.125702",
     "status": "completed"
    },
    "tags": []
   },
   "outputs": [],
   "source": [
    "train_feature['dependency'] = train_feature['dependency'].replace(to_replace='no',value=6)"
   ]
  },
  {
   "cell_type": "code",
   "execution_count": 22,
   "id": "e1150e98",
   "metadata": {
    "execution": {
     "iopub.execute_input": "2021-07-10T07:09:20.317608Z",
     "iopub.status.busy": "2021-07-10T07:09:20.317020Z",
     "iopub.status.idle": "2021-07-10T07:09:20.326100Z",
     "shell.execute_reply": "2021-07-10T07:09:20.326576Z",
     "shell.execute_reply.started": "2021-07-10T05:04:43.162806Z"
    },
    "papermill": {
     "duration": 0.071949,
     "end_time": "2021-07-10T07:09:20.326766",
     "exception": false,
     "start_time": "2021-07-10T07:09:20.254817",
     "status": "completed"
    },
    "tags": []
   },
   "outputs": [
    {
     "data": {
      "text/plain": [
       "2            2192\n",
       "6            1747\n",
       ".5           1497\n",
       "2             730\n",
       "1.5           713\n",
       ".33333334     598\n",
       ".66666669     487\n",
       "8             378\n",
       ".25           260\n",
       "3             236\n",
       "4             100\n",
       ".75            98\n",
       ".2             90\n",
       ".40000001      84\n",
       "1.3333334      84\n",
       "2.5            77\n",
       "5              24\n",
       ".80000001      18\n",
       "1.25           18\n",
       "3.5            18\n",
       "2.25           13\n",
       ".71428573      12\n",
       ".83333331      11\n",
       ".22222222      11\n",
       "1.2            11\n",
       "1.75           11\n",
       ".2857143        9\n",
       ".60000002       8\n",
       "1.6666666       8\n",
       ".16666667       7\n",
       "6               7\n",
       "Name: dependency, dtype: int64"
      ]
     },
     "execution_count": 22,
     "metadata": {},
     "output_type": "execute_result"
    }
   ],
   "source": [
    "train_feature['dependency'].value_counts()"
   ]
  },
  {
   "cell_type": "code",
   "execution_count": 23,
   "id": "852b8151",
   "metadata": {
    "execution": {
     "iopub.execute_input": "2021-07-10T07:09:20.450220Z",
     "iopub.status.busy": "2021-07-10T07:09:20.449651Z",
     "iopub.status.idle": "2021-07-10T07:09:20.458389Z",
     "shell.execute_reply": "2021-07-10T07:09:20.458889Z",
     "shell.execute_reply.started": "2021-07-10T05:04:43.181433Z"
    },
    "papermill": {
     "duration": 0.07237,
     "end_time": "2021-07-10T07:09:20.459045",
     "exception": false,
     "start_time": "2021-07-10T07:09:20.386675",
     "status": "completed"
    },
    "tags": []
   },
   "outputs": [
    {
     "data": {
      "text/plain": [
       "refrig          0\n",
       "public          0\n",
       "dependency      0\n",
       "overcrowding    0\n",
       "bedrooms        0\n",
       "tamhog          0\n",
       "hhsize          0\n",
       "hogar_total     0\n",
       "dtype: int64"
      ]
     },
     "execution_count": 23,
     "metadata": {},
     "output_type": "execute_result"
    }
   ],
   "source": [
    "train_feature.isnull().sum()"
   ]
  },
  {
   "cell_type": "code",
   "execution_count": 24,
   "id": "51d97ea1",
   "metadata": {
    "execution": {
     "iopub.execute_input": "2021-07-10T07:09:20.585597Z",
     "iopub.status.busy": "2021-07-10T07:09:20.584911Z",
     "iopub.status.idle": "2021-07-10T07:09:20.602052Z",
     "shell.execute_reply": "2021-07-10T07:09:20.601524Z",
     "shell.execute_reply.started": "2021-07-10T05:04:43.197096Z"
    },
    "papermill": {
     "duration": 0.082112,
     "end_time": "2021-07-10T07:09:20.602180",
     "exception": false,
     "start_time": "2021-07-10T07:09:20.520068",
     "status": "completed"
    },
    "tags": []
   },
   "outputs": [
    {
     "data": {
      "text/html": [
       "<div>\n",
       "<style scoped>\n",
       "    .dataframe tbody tr th:only-of-type {\n",
       "        vertical-align: middle;\n",
       "    }\n",
       "\n",
       "    .dataframe tbody tr th {\n",
       "        vertical-align: top;\n",
       "    }\n",
       "\n",
       "    .dataframe thead th {\n",
       "        text-align: right;\n",
       "    }\n",
       "</style>\n",
       "<table border=\"1\" class=\"dataframe\">\n",
       "  <thead>\n",
       "    <tr style=\"text-align: right;\">\n",
       "      <th></th>\n",
       "      <th>refrig</th>\n",
       "      <th>public</th>\n",
       "      <th>overcrowding</th>\n",
       "      <th>bedrooms</th>\n",
       "      <th>tamhog</th>\n",
       "      <th>hhsize</th>\n",
       "      <th>hogar_total</th>\n",
       "    </tr>\n",
       "  </thead>\n",
       "  <tbody>\n",
       "    <tr>\n",
       "      <th>refrig</th>\n",
       "      <td>1.000000</td>\n",
       "      <td>0.064289</td>\n",
       "      <td>-0.113158</td>\n",
       "      <td>0.103223</td>\n",
       "      <td>-0.026784</td>\n",
       "      <td>-0.026784</td>\n",
       "      <td>-0.026784</td>\n",
       "    </tr>\n",
       "    <tr>\n",
       "      <th>public</th>\n",
       "      <td>0.064289</td>\n",
       "      <td>1.000000</td>\n",
       "      <td>-0.003372</td>\n",
       "      <td>0.021019</td>\n",
       "      <td>0.000179</td>\n",
       "      <td>0.000179</td>\n",
       "      <td>0.000179</td>\n",
       "    </tr>\n",
       "    <tr>\n",
       "      <th>overcrowding</th>\n",
       "      <td>-0.113158</td>\n",
       "      <td>-0.003372</td>\n",
       "      <td>1.000000</td>\n",
       "      <td>-0.392736</td>\n",
       "      <td>0.585560</td>\n",
       "      <td>0.585560</td>\n",
       "      <td>0.585560</td>\n",
       "    </tr>\n",
       "    <tr>\n",
       "      <th>bedrooms</th>\n",
       "      <td>0.103223</td>\n",
       "      <td>0.021019</td>\n",
       "      <td>-0.392736</td>\n",
       "      <td>1.000000</td>\n",
       "      <td>0.357266</td>\n",
       "      <td>0.357266</td>\n",
       "      <td>0.357266</td>\n",
       "    </tr>\n",
       "    <tr>\n",
       "      <th>tamhog</th>\n",
       "      <td>-0.026784</td>\n",
       "      <td>0.000179</td>\n",
       "      <td>0.585560</td>\n",
       "      <td>0.357266</td>\n",
       "      <td>1.000000</td>\n",
       "      <td>1.000000</td>\n",
       "      <td>1.000000</td>\n",
       "    </tr>\n",
       "    <tr>\n",
       "      <th>hhsize</th>\n",
       "      <td>-0.026784</td>\n",
       "      <td>0.000179</td>\n",
       "      <td>0.585560</td>\n",
       "      <td>0.357266</td>\n",
       "      <td>1.000000</td>\n",
       "      <td>1.000000</td>\n",
       "      <td>1.000000</td>\n",
       "    </tr>\n",
       "    <tr>\n",
       "      <th>hogar_total</th>\n",
       "      <td>-0.026784</td>\n",
       "      <td>0.000179</td>\n",
       "      <td>0.585560</td>\n",
       "      <td>0.357266</td>\n",
       "      <td>1.000000</td>\n",
       "      <td>1.000000</td>\n",
       "      <td>1.000000</td>\n",
       "    </tr>\n",
       "  </tbody>\n",
       "</table>\n",
       "</div>"
      ],
      "text/plain": [
       "                refrig    public  overcrowding  bedrooms    tamhog    hhsize  \\\n",
       "refrig        1.000000  0.064289     -0.113158  0.103223 -0.026784 -0.026784   \n",
       "public        0.064289  1.000000     -0.003372  0.021019  0.000179  0.000179   \n",
       "overcrowding -0.113158 -0.003372      1.000000 -0.392736  0.585560  0.585560   \n",
       "bedrooms      0.103223  0.021019     -0.392736  1.000000  0.357266  0.357266   \n",
       "tamhog       -0.026784  0.000179      0.585560  0.357266  1.000000  1.000000   \n",
       "hhsize       -0.026784  0.000179      0.585560  0.357266  1.000000  1.000000   \n",
       "hogar_total  -0.026784  0.000179      0.585560  0.357266  1.000000  1.000000   \n",
       "\n",
       "              hogar_total  \n",
       "refrig          -0.026784  \n",
       "public           0.000179  \n",
       "overcrowding     0.585560  \n",
       "bedrooms         0.357266  \n",
       "tamhog           1.000000  \n",
       "hhsize           1.000000  \n",
       "hogar_total      1.000000  "
      ]
     },
     "execution_count": 24,
     "metadata": {},
     "output_type": "execute_result"
    }
   ],
   "source": [
    "train_feature.corr()            # corr() 는 그룹 별로 변수 간 상관관계 분석(correlation with columns by groups)    상관계수(Correlation Coefficient)\n",
    "                                # 1 또는 -1에 가까울수록 상관관계가 높고 0에 가까울수록 상관관계가 낮다. \n",
    "                                # train_feature와 Target간의 상관관계를 알아볼 필요가 있다. "
   ]
  },
  {
   "cell_type": "code",
   "execution_count": 25,
   "id": "0fc460ce",
   "metadata": {
    "execution": {
     "iopub.execute_input": "2021-07-10T07:09:20.729262Z",
     "iopub.status.busy": "2021-07-10T07:09:20.728634Z",
     "iopub.status.idle": "2021-07-10T07:09:20.730792Z",
     "shell.execute_reply": "2021-07-10T07:09:20.731331Z",
     "shell.execute_reply.started": "2021-07-10T05:04:43.217192Z"
    },
    "papermill": {
     "duration": 0.068199,
     "end_time": "2021-07-10T07:09:20.731482",
     "exception": false,
     "start_time": "2021-07-10T07:09:20.663283",
     "status": "completed"
    },
    "tags": []
   },
   "outputs": [],
   "source": [
    "train_heatmap = pd.concat([train['Target'],train_feature], axis='columns')"
   ]
  },
  {
   "cell_type": "code",
   "execution_count": 26,
   "id": "3fd62f70",
   "metadata": {
    "execution": {
     "iopub.execute_input": "2021-07-10T07:09:20.856186Z",
     "iopub.status.busy": "2021-07-10T07:09:20.855540Z",
     "iopub.status.idle": "2021-07-10T07:09:20.874375Z",
     "shell.execute_reply": "2021-07-10T07:09:20.874936Z",
     "shell.execute_reply.started": "2021-07-10T05:04:43.224028Z"
    },
    "papermill": {
     "duration": 0.083118,
     "end_time": "2021-07-10T07:09:20.875100",
     "exception": false,
     "start_time": "2021-07-10T07:09:20.791982",
     "status": "completed"
    },
    "tags": []
   },
   "outputs": [
    {
     "data": {
      "text/html": [
       "<div>\n",
       "<style scoped>\n",
       "    .dataframe tbody tr th:only-of-type {\n",
       "        vertical-align: middle;\n",
       "    }\n",
       "\n",
       "    .dataframe tbody tr th {\n",
       "        vertical-align: top;\n",
       "    }\n",
       "\n",
       "    .dataframe thead th {\n",
       "        text-align: right;\n",
       "    }\n",
       "</style>\n",
       "<table border=\"1\" class=\"dataframe\">\n",
       "  <thead>\n",
       "    <tr style=\"text-align: right;\">\n",
       "      <th></th>\n",
       "      <th>Target</th>\n",
       "      <th>refrig</th>\n",
       "      <th>public</th>\n",
       "      <th>overcrowding</th>\n",
       "      <th>bedrooms</th>\n",
       "      <th>tamhog</th>\n",
       "      <th>hhsize</th>\n",
       "      <th>hogar_total</th>\n",
       "    </tr>\n",
       "  </thead>\n",
       "  <tbody>\n",
       "    <tr>\n",
       "      <th>Target</th>\n",
       "      <td>1.000000</td>\n",
       "      <td>0.126792</td>\n",
       "      <td>0.009074</td>\n",
       "      <td>-0.289110</td>\n",
       "      <td>0.166943</td>\n",
       "      <td>-0.147642</td>\n",
       "      <td>-0.147642</td>\n",
       "      <td>-0.147642</td>\n",
       "    </tr>\n",
       "    <tr>\n",
       "      <th>refrig</th>\n",
       "      <td>0.126792</td>\n",
       "      <td>1.000000</td>\n",
       "      <td>0.064289</td>\n",
       "      <td>-0.113158</td>\n",
       "      <td>0.103223</td>\n",
       "      <td>-0.026784</td>\n",
       "      <td>-0.026784</td>\n",
       "      <td>-0.026784</td>\n",
       "    </tr>\n",
       "    <tr>\n",
       "      <th>public</th>\n",
       "      <td>0.009074</td>\n",
       "      <td>0.064289</td>\n",
       "      <td>1.000000</td>\n",
       "      <td>-0.003372</td>\n",
       "      <td>0.021019</td>\n",
       "      <td>0.000179</td>\n",
       "      <td>0.000179</td>\n",
       "      <td>0.000179</td>\n",
       "    </tr>\n",
       "    <tr>\n",
       "      <th>overcrowding</th>\n",
       "      <td>-0.289110</td>\n",
       "      <td>-0.113158</td>\n",
       "      <td>-0.003372</td>\n",
       "      <td>1.000000</td>\n",
       "      <td>-0.392736</td>\n",
       "      <td>0.585560</td>\n",
       "      <td>0.585560</td>\n",
       "      <td>0.585560</td>\n",
       "    </tr>\n",
       "    <tr>\n",
       "      <th>bedrooms</th>\n",
       "      <td>0.166943</td>\n",
       "      <td>0.103223</td>\n",
       "      <td>0.021019</td>\n",
       "      <td>-0.392736</td>\n",
       "      <td>1.000000</td>\n",
       "      <td>0.357266</td>\n",
       "      <td>0.357266</td>\n",
       "      <td>0.357266</td>\n",
       "    </tr>\n",
       "    <tr>\n",
       "      <th>tamhog</th>\n",
       "      <td>-0.147642</td>\n",
       "      <td>-0.026784</td>\n",
       "      <td>0.000179</td>\n",
       "      <td>0.585560</td>\n",
       "      <td>0.357266</td>\n",
       "      <td>1.000000</td>\n",
       "      <td>1.000000</td>\n",
       "      <td>1.000000</td>\n",
       "    </tr>\n",
       "    <tr>\n",
       "      <th>hhsize</th>\n",
       "      <td>-0.147642</td>\n",
       "      <td>-0.026784</td>\n",
       "      <td>0.000179</td>\n",
       "      <td>0.585560</td>\n",
       "      <td>0.357266</td>\n",
       "      <td>1.000000</td>\n",
       "      <td>1.000000</td>\n",
       "      <td>1.000000</td>\n",
       "    </tr>\n",
       "    <tr>\n",
       "      <th>hogar_total</th>\n",
       "      <td>-0.147642</td>\n",
       "      <td>-0.026784</td>\n",
       "      <td>0.000179</td>\n",
       "      <td>0.585560</td>\n",
       "      <td>0.357266</td>\n",
       "      <td>1.000000</td>\n",
       "      <td>1.000000</td>\n",
       "      <td>1.000000</td>\n",
       "    </tr>\n",
       "  </tbody>\n",
       "</table>\n",
       "</div>"
      ],
      "text/plain": [
       "                Target    refrig    public  overcrowding  bedrooms    tamhog  \\\n",
       "Target        1.000000  0.126792  0.009074     -0.289110  0.166943 -0.147642   \n",
       "refrig        0.126792  1.000000  0.064289     -0.113158  0.103223 -0.026784   \n",
       "public        0.009074  0.064289  1.000000     -0.003372  0.021019  0.000179   \n",
       "overcrowding -0.289110 -0.113158 -0.003372      1.000000 -0.392736  0.585560   \n",
       "bedrooms      0.166943  0.103223  0.021019     -0.392736  1.000000  0.357266   \n",
       "tamhog       -0.147642 -0.026784  0.000179      0.585560  0.357266  1.000000   \n",
       "hhsize       -0.147642 -0.026784  0.000179      0.585560  0.357266  1.000000   \n",
       "hogar_total  -0.147642 -0.026784  0.000179      0.585560  0.357266  1.000000   \n",
       "\n",
       "                hhsize  hogar_total  \n",
       "Target       -0.147642    -0.147642  \n",
       "refrig       -0.026784    -0.026784  \n",
       "public        0.000179     0.000179  \n",
       "overcrowding  0.585560     0.585560  \n",
       "bedrooms      0.357266     0.357266  \n",
       "tamhog        1.000000     1.000000  \n",
       "hhsize        1.000000     1.000000  \n",
       "hogar_total   1.000000     1.000000  "
      ]
     },
     "execution_count": 26,
     "metadata": {},
     "output_type": "execute_result"
    }
   ],
   "source": [
    "train_heatmap.corr()"
   ]
  },
  {
   "cell_type": "code",
   "execution_count": 27,
   "id": "4e935ea5",
   "metadata": {
    "execution": {
     "iopub.execute_input": "2021-07-10T07:09:21.002904Z",
     "iopub.status.busy": "2021-07-10T07:09:21.002224Z",
     "iopub.status.idle": "2021-07-10T07:09:21.858187Z",
     "shell.execute_reply": "2021-07-10T07:09:21.857019Z",
     "shell.execute_reply.started": "2021-07-10T05:04:43.247344Z"
    },
    "papermill": {
     "duration": 0.921932,
     "end_time": "2021-07-10T07:09:21.858351",
     "exception": false,
     "start_time": "2021-07-10T07:09:20.936419",
     "status": "completed"
    },
    "tags": []
   },
   "outputs": [],
   "source": [
    "import seaborn as sns"
   ]
  },
  {
   "cell_type": "code",
   "execution_count": 28,
   "id": "8e6226ea",
   "metadata": {
    "execution": {
     "iopub.execute_input": "2021-07-10T07:09:21.990336Z",
     "iopub.status.busy": "2021-07-10T07:09:21.989403Z",
     "iopub.status.idle": "2021-07-10T07:09:22.637592Z",
     "shell.execute_reply": "2021-07-10T07:09:22.636912Z",
     "shell.execute_reply.started": "2021-07-10T05:04:44.030537Z"
    },
    "papermill": {
     "duration": 0.717139,
     "end_time": "2021-07-10T07:09:22.637763",
     "exception": false,
     "start_time": "2021-07-10T07:09:21.920624",
     "status": "completed"
    },
    "tags": []
   },
   "outputs": [
    {
     "data": {
      "text/plain": [
       "<AxesSubplot:>"
      ]
     },
     "execution_count": 28,
     "metadata": {},
     "output_type": "execute_result"
    },
    {
     "data": {
      "image/png": "[encoded data removed]",
      "text/plain": [
       "<Figure size 432x288 with 2 Axes>"
      ]
     },
     "metadata": {
      "needs_background": "light"
     },
     "output_type": "display_data"
    }
   ],
   "source": [
    "sns.heatmap(train_heatmap.corr(),annot=True)"
   ]
  },
  {
   "cell_type": "code",
   "execution_count": 29,
   "id": "a70b2178",
   "metadata": {
    "execution": {
     "iopub.execute_input": "2021-07-10T07:09:22.773565Z",
     "iopub.status.busy": "2021-07-10T07:09:22.772908Z",
     "iopub.status.idle": "2021-07-10T07:09:22.780503Z",
     "shell.execute_reply": "2021-07-10T07:09:22.780948Z",
     "shell.execute_reply.started": "2021-07-10T05:04:44.633344Z"
    },
    "papermill": {
     "duration": 0.078961,
     "end_time": "2021-07-10T07:09:22.781114",
     "exception": false,
     "start_time": "2021-07-10T07:09:22.702153",
     "status": "completed"
    },
    "tags": []
   },
   "outputs": [],
   "source": [
    "train_onehot = pd.get_dummies(train_feature, columns=['tamhog', 'hhsize', 'hogar_total'])\n",
    "# train_onehot"
   ]
  },
  {
   "cell_type": "code",
   "execution_count": 30,
   "id": "bb2d412f",
   "metadata": {
    "execution": {
     "iopub.execute_input": "2021-07-10T07:09:22.915055Z",
     "iopub.status.busy": "2021-07-10T07:09:22.914121Z",
     "iopub.status.idle": "2021-07-10T07:09:22.918532Z",
     "shell.execute_reply": "2021-07-10T07:09:22.917939Z",
     "shell.execute_reply.started": "2021-07-10T05:04:44.648354Z"
    },
    "papermill": {
     "duration": 0.073816,
     "end_time": "2021-07-10T07:09:22.918659",
     "exception": false,
     "start_time": "2021-07-10T07:09:22.844843",
     "status": "completed"
    },
    "tags": []
   },
   "outputs": [
    {
     "data": {
      "text/plain": [
       "(9557, 44)"
      ]
     },
     "execution_count": 30,
     "metadata": {},
     "output_type": "execute_result"
    }
   ],
   "source": [
    "train_onehot.shape"
   ]
  },
  {
   "cell_type": "code",
   "execution_count": 31,
   "id": "4fbc80d5",
   "metadata": {
    "execution": {
     "iopub.execute_input": "2021-07-10T07:09:23.053535Z",
     "iopub.status.busy": "2021-07-10T07:09:23.052718Z",
     "iopub.status.idle": "2021-07-10T07:09:23.179534Z",
     "shell.execute_reply": "2021-07-10T07:09:23.178886Z",
     "shell.execute_reply.started": "2021-07-10T05:04:44.654556Z"
    },
    "papermill": {
     "duration": 0.196995,
     "end_time": "2021-07-10T07:09:23.179683",
     "exception": false,
     "start_time": "2021-07-10T07:09:22.982688",
     "status": "completed"
    },
    "tags": []
   },
   "outputs": [],
   "source": [
    "from sklearn import preprocessing"
   ]
  },
  {
   "cell_type": "code",
   "execution_count": 32,
   "id": "f6fee6b7",
   "metadata": {
    "execution": {
     "iopub.execute_input": "2021-07-10T07:09:23.314614Z",
     "iopub.status.busy": "2021-07-10T07:09:23.313975Z",
     "iopub.status.idle": "2021-07-10T07:09:23.316685Z",
     "shell.execute_reply": "2021-07-10T07:09:23.316074Z",
     "shell.execute_reply.started": "2021-07-10T05:04:44.777855Z"
    },
    "papermill": {
     "duration": 0.072003,
     "end_time": "2021-07-10T07:09:23.316839",
     "exception": false,
     "start_time": "2021-07-10T07:09:23.244836",
     "status": "completed"
    },
    "tags": []
   },
   "outputs": [],
   "source": [
    "scaler = preprocessing.StandardScaler()"
   ]
  },
  {
   "cell_type": "code",
   "execution_count": 33,
   "id": "299983fe",
   "metadata": {
    "execution": {
     "iopub.execute_input": "2021-07-10T07:09:23.453759Z",
     "iopub.status.busy": "2021-07-10T07:09:23.453003Z",
     "iopub.status.idle": "2021-07-10T07:09:23.516294Z",
     "shell.execute_reply": "2021-07-10T07:09:23.515686Z",
     "shell.execute_reply.started": "2021-07-10T05:04:44.783408Z"
    },
    "papermill": {
     "duration": 0.13464,
     "end_time": "2021-07-10T07:09:23.516432",
     "exception": false,
     "start_time": "2021-07-10T07:09:23.381792",
     "status": "completed"
    },
    "tags": []
   },
   "outputs": [
    {
     "data": {
      "text/plain": [
       "StandardScaler()"
      ]
     },
     "execution_count": 33,
     "metadata": {},
     "output_type": "execute_result"
    }
   ],
   "source": [
    "scaler.fit(train_onehot)"
   ]
  },
  {
   "cell_type": "code",
   "execution_count": 34,
   "id": "2532b538",
   "metadata": {
    "execution": {
     "iopub.execute_input": "2021-07-10T07:09:23.654988Z",
     "iopub.status.busy": "2021-07-10T07:09:23.654314Z",
     "iopub.status.idle": "2021-07-10T07:09:23.715304Z",
     "shell.execute_reply": "2021-07-10T07:09:23.715819Z",
     "shell.execute_reply.started": "2021-07-10T05:04:44.828089Z"
    },
    "papermill": {
     "duration": 0.134161,
     "end_time": "2021-07-10T07:09:23.715993",
     "exception": false,
     "start_time": "2021-07-10T07:09:23.581832",
     "status": "completed"
    },
    "tags": []
   },
   "outputs": [
    {
     "data": {
      "text/plain": [
       "(9557, 44)"
      ]
     },
     "execution_count": 34,
     "metadata": {},
     "output_type": "execute_result"
    }
   ],
   "source": [
    "X = scaler.transform(train_onehot)\n",
    "X.shape"
   ]
  },
  {
   "cell_type": "markdown",
   "id": "0229947c",
   "metadata": {
    "papermill": {
     "duration": 0.065381,
     "end_time": "2021-07-10T07:09:23.847228",
     "exception": false,
     "start_time": "2021-07-10T07:09:23.781847",
     "status": "completed"
    },
    "tags": []
   },
   "source": [
    "여기에서 data split을 해야 함. 나중에 할 것!!!"
   ]
  },
  {
   "cell_type": "code",
   "execution_count": 35,
   "id": "31cf2868",
   "metadata": {
    "execution": {
     "iopub.execute_input": "2021-07-10T07:09:23.983656Z",
     "iopub.status.busy": "2021-07-10T07:09:23.982907Z",
     "iopub.status.idle": "2021-07-10T07:09:23.985614Z",
     "shell.execute_reply": "2021-07-10T07:09:23.986259Z",
     "shell.execute_reply.started": "2021-07-10T05:04:44.866811Z"
    },
    "papermill": {
     "duration": 0.072869,
     "end_time": "2021-07-10T07:09:23.986427",
     "exception": false,
     "start_time": "2021-07-10T07:09:23.913558",
     "status": "completed"
    },
    "tags": []
   },
   "outputs": [
    {
     "data": {
      "text/plain": [
       "(9557,)"
      ]
     },
     "execution_count": 35,
     "metadata": {},
     "output_type": "execute_result"
    }
   ],
   "source": [
    "Y = train['Target']\n",
    "Y.shape"
   ]
  },
  {
   "cell_type": "markdown",
   "id": "ae355bfe",
   "metadata": {
    "papermill": {
     "duration": 0.065266,
     "end_time": "2021-07-10T07:09:24.117821",
     "exception": false,
     "start_time": "2021-07-10T07:09:24.052555",
     "status": "completed"
    },
    "tags": []
   },
   "source": [
    "### Apply GridSearchCV"
   ]
  },
  {
   "cell_type": "code",
   "execution_count": 36,
   "id": "b60e097f",
   "metadata": {
    "execution": {
     "iopub.execute_input": "2021-07-10T07:09:24.250464Z",
     "iopub.status.busy": "2021-07-10T07:09:24.249860Z",
     "iopub.status.idle": "2021-07-10T07:09:25.448831Z",
     "shell.execute_reply": "2021-07-10T07:09:25.448014Z",
     "shell.execute_reply.started": "2021-07-10T05:04:44.874988Z"
    },
    "papermill": {
     "duration": 1.265955,
     "end_time": "2021-07-10T07:09:25.449007",
     "exception": false,
     "start_time": "2021-07-10T07:09:24.183052",
     "status": "completed"
    },
    "tags": []
   },
   "outputs": [
    {
     "data": {
      "text/html": [
       "<style type='text/css'>\n",
       ".datatable table.frame { margin-bottom: 0; }\n",
       ".datatable table.frame thead { border-bottom: none; }\n",
       ".datatable table.frame tr.coltypes td {  color: #FFFFFF;  line-height: 6px;  padding: 0 0.5em;}\n",
       ".datatable .bool    { background: #DDDD99; }\n",
       ".datatable .object  { background: #565656; }\n",
       ".datatable .int     { background: #5D9E5D; }\n",
       ".datatable .float   { background: #4040CC; }\n",
       ".datatable .str     { background: #CC4040; }\n",
       ".datatable .time    { background: #40CC40; }\n",
       ".datatable .row_index {  background: var(--jp-border-color3);  border-right: 1px solid var(--jp-border-color0);  color: var(--jp-ui-font-color3);  font-size: 9px;}\n",
       ".datatable .frame tbody td { text-align: left; }\n",
       ".datatable .frame tr.coltypes .row_index {  background: var(--jp-border-color0);}\n",
       ".datatable th:nth-child(2) { padding-left: 12px; }\n",
       ".datatable .hellipsis {  color: var(--jp-cell-editor-border-color);}\n",
       ".datatable .vellipsis {  background: var(--jp-layout-color0);  color: var(--jp-cell-editor-border-color);}\n",
       ".datatable .na {  color: var(--jp-cell-editor-border-color);  font-size: 80%;}\n",
       ".datatable .sp {  opacity: 0.25;}\n",
       ".datatable .footer { font-size: 9px; }\n",
       ".datatable .frame_dimensions {  background: var(--jp-border-color3);  border-top: 1px solid var(--jp-border-color0);  color: var(--jp-ui-font-color3);  display: inline-block;  opacity: 0.6;  padding: 1px 10px 1px 5px;}\n",
       "</style>\n"
      ],
      "text/plain": [
       "<IPython.core.display.HTML object>"
      ]
     },
     "metadata": {},
     "output_type": "display_data"
    }
   ],
   "source": [
    "from lightgbm import LGBMClassifier"
   ]
  },
  {
   "cell_type": "code",
   "execution_count": 37,
   "id": "587f8bab",
   "metadata": {
    "execution": {
     "iopub.execute_input": "2021-07-10T07:09:25.586720Z",
     "iopub.status.busy": "2021-07-10T07:09:25.586065Z",
     "iopub.status.idle": "2021-07-10T07:09:25.588926Z",
     "shell.execute_reply": "2021-07-10T07:09:25.588417Z",
     "shell.execute_reply.started": "2021-07-10T05:04:45.927225Z"
    },
    "papermill": {
     "duration": 0.07321,
     "end_time": "2021-07-10T07:09:25.589071",
     "exception": false,
     "start_time": "2021-07-10T07:09:25.515861",
     "status": "completed"
    },
    "tags": []
   },
   "outputs": [],
   "source": [
    "lgbm = LGBMClassifier()"
   ]
  },
  {
   "cell_type": "code",
   "execution_count": 38,
   "id": "29d71fcb",
   "metadata": {
    "execution": {
     "iopub.execute_input": "2021-07-10T07:09:25.726186Z",
     "iopub.status.busy": "2021-07-10T07:09:25.725135Z",
     "iopub.status.idle": "2021-07-10T07:09:25.729340Z",
     "shell.execute_reply": "2021-07-10T07:09:25.729953Z",
     "shell.execute_reply.started": "2021-07-10T05:04:45.932438Z"
    },
    "papermill": {
     "duration": 0.07411,
     "end_time": "2021-07-10T07:09:25.730136",
     "exception": false,
     "start_time": "2021-07-10T07:09:25.656026",
     "status": "completed"
    },
    "tags": []
   },
   "outputs": [],
   "source": [
    "# class sklearn.model_selection.GridSearchCV(estimator, param_grid....)\n",
    "from sklearn.model_selection import GridSearchCV  # GridSearchCV는 분류 알고리즘이나 회귀 알고리즘에 사용되는 하이퍼파라미터를 순차적으로 입력해 학습을 하고 측정을 하면서 가장 좋은 파라미터를 알려준다.\n",
    "                                                  # GridSearchCV(estimator, param_grid)"
   ]
  },
  {
   "cell_type": "code",
   "execution_count": 39,
   "id": "99144ce0",
   "metadata": {
    "execution": {
     "iopub.execute_input": "2021-07-10T07:09:25.867614Z",
     "iopub.status.busy": "2021-07-10T07:09:25.866576Z",
     "iopub.status.idle": "2021-07-10T07:09:25.871637Z",
     "shell.execute_reply": "2021-07-10T07:09:25.872312Z",
     "shell.execute_reply.started": "2021-07-10T05:04:45.945425Z"
    },
    "papermill": {
     "duration": 0.076212,
     "end_time": "2021-07-10T07:09:25.872493",
     "exception": false,
     "start_time": "2021-07-10T07:09:25.796281",
     "status": "completed"
    },
    "tags": []
   },
   "outputs": [],
   "source": [
    "params = {'max_depth':[10,15,20],\n",
    "         'min_child_samples':[20,40,60],\n",
    "         'subsample':[0.8,1],\n",
    "         }\n",
    "# map(func, param01, param02)"
   ]
  },
  {
   "cell_type": "code",
   "execution_count": 40,
   "id": "2c9d16c1",
   "metadata": {
    "execution": {
     "iopub.execute_input": "2021-07-10T07:09:26.013340Z",
     "iopub.status.busy": "2021-07-10T07:09:26.012359Z",
     "iopub.status.idle": "2021-07-10T07:09:26.016584Z",
     "shell.execute_reply": "2021-07-10T07:09:26.017186Z",
     "shell.execute_reply.started": "2021-07-10T05:04:45.960256Z"
    },
    "papermill": {
     "duration": 0.075992,
     "end_time": "2021-07-10T07:09:26.017399",
     "exception": false,
     "start_time": "2021-07-10T07:09:25.941407",
     "status": "completed"
    },
    "tags": []
   },
   "outputs": [],
   "source": [
    "grid = GridSearchCV(lgbm, param_grid=params)"
   ]
  },
  {
   "cell_type": "code",
   "execution_count": 41,
   "id": "7ad28b40",
   "metadata": {
    "execution": {
     "iopub.execute_input": "2021-07-10T07:09:26.155692Z",
     "iopub.status.busy": "2021-07-10T07:09:26.154581Z",
     "iopub.status.idle": "2021-07-10T07:10:08.937798Z",
     "shell.execute_reply": "2021-07-10T07:10:08.938307Z",
     "shell.execute_reply.started": "2021-07-10T05:04:45.974322Z"
    },
    "papermill": {
     "duration": 42.854314,
     "end_time": "2021-07-10T07:10:08.938469",
     "exception": false,
     "start_time": "2021-07-10T07:09:26.084155",
     "status": "completed"
    },
    "tags": []
   },
   "outputs": [
    {
     "data": {
      "text/plain": [
       "GridSearchCV(estimator=LGBMClassifier(),\n",
       "             param_grid={'max_depth': [10, 15, 20],\n",
       "                         'min_child_samples': [20, 40, 60],\n",
       "                         'subsample': [0.8, 1]})"
      ]
     },
     "execution_count": 41,
     "metadata": {},
     "output_type": "execute_result"
    }
   ],
   "source": [
    "grid.fit(X,Y)                   # 내부적으로는 여러번 돌린 것같은 효과가 있음"
   ]
  },
  {
   "cell_type": "code",
   "execution_count": 42,
   "id": "66e9f0ab",
   "metadata": {
    "execution": {
     "iopub.execute_input": "2021-07-10T07:10:09.078212Z",
     "iopub.status.busy": "2021-07-10T07:10:09.077365Z",
     "iopub.status.idle": "2021-07-10T07:10:09.081360Z",
     "shell.execute_reply": "2021-07-10T07:10:09.080796Z",
     "shell.execute_reply.started": "2021-07-10T05:05:33.631078Z"
    },
    "papermill": {
     "duration": 0.077839,
     "end_time": "2021-07-10T07:10:09.081493",
     "exception": false,
     "start_time": "2021-07-10T07:10:09.003654",
     "status": "completed"
    },
    "tags": []
   },
   "outputs": [
    {
     "data": {
      "text/plain": [
       "(0.619021235787524,\n",
       " {'max_depth': 15, 'min_child_samples': 40, 'subsample': 0.8})"
      ]
     },
     "execution_count": 42,
     "metadata": {},
     "output_type": "execute_result"
    }
   ],
   "source": [
    "grid.best_score_, grid.best_params_  # 파리미터를 조정해서 돌린 것. 그런데 디폴트보다 적게 나왔으므로 파라미터를 다시 조정해야 함. "
   ]
  },
  {
   "cell_type": "code",
   "execution_count": 43,
   "id": "6b2abf9b",
   "metadata": {
    "execution": {
     "iopub.execute_input": "2021-07-10T07:10:09.217967Z",
     "iopub.status.busy": "2021-07-10T07:10:09.217327Z",
     "iopub.status.idle": "2021-07-10T07:10:09.690881Z",
     "shell.execute_reply": "2021-07-10T07:10:09.691710Z",
     "shell.execute_reply.started": "2021-07-10T05:05:33.638395Z"
    },
    "papermill": {
     "duration": 0.543453,
     "end_time": "2021-07-10T07:10:09.691925",
     "exception": false,
     "start_time": "2021-07-10T07:10:09.148472",
     "status": "completed"
    },
    "tags": []
   },
   "outputs": [
    {
     "data": {
      "text/plain": [
       "LGBMClassifier(max_depth=15, min_child_samples=40, subsample=0.8)"
      ]
     },
     "execution_count": 43,
     "metadata": {},
     "output_type": "execute_result"
    }
   ],
   "source": [
    "lgbm_grid = LGBMClassifier(max_depth=15, min_child_samples=40, subsample=0.8)\n",
    "lgbm_grid.fit(X,Y)"
   ]
  },
  {
   "cell_type": "code",
   "execution_count": 44,
   "id": "49e19df7",
   "metadata": {
    "execution": {
     "iopub.execute_input": "2021-07-10T07:10:09.841968Z",
     "iopub.status.busy": "2021-07-10T07:10:09.831084Z",
     "iopub.status.idle": "2021-07-10T07:10:09.951604Z",
     "shell.execute_reply": "2021-07-10T07:10:09.952592Z",
     "shell.execute_reply.started": "2021-07-10T05:05:34.212342Z"
    },
    "papermill": {
     "duration": 0.192438,
     "end_time": "2021-07-10T07:10:09.952809",
     "exception": false,
     "start_time": "2021-07-10T07:10:09.760371",
     "status": "completed"
    },
    "tags": []
   },
   "outputs": [
    {
     "data": {
      "text/plain": [
       "0.6956157790101496"
      ]
     },
     "execution_count": 44,
     "metadata": {},
     "output_type": "execute_result"
    }
   ],
   "source": [
    "lgbm_grid.score(X,Y)"
   ]
  },
  {
   "cell_type": "markdown",
   "id": "2251b36a",
   "metadata": {
    "papermill": {
     "duration": 0.068506,
     "end_time": "2021-07-10T07:10:10.090954",
     "exception": false,
     "start_time": "2021-07-10T07:10:10.022448",
     "status": "completed"
    },
    "tags": []
   },
   "source": [
    "### Apply KFold\n",
    "class sklearn.model_selection.RepeatedStratifiedKFold(*, n_splits=5, n_repeats=10, random_state=None)"
   ]
  },
  {
   "cell_type": "code",
   "execution_count": 45,
   "id": "48dd6be8",
   "metadata": {
    "execution": {
     "iopub.execute_input": "2021-07-10T07:10:10.231083Z",
     "iopub.status.busy": "2021-07-10T07:10:10.230453Z",
     "iopub.status.idle": "2021-07-10T07:10:10.232268Z",
     "shell.execute_reply": "2021-07-10T07:10:10.232848Z",
     "shell.execute_reply.started": "2021-07-10T05:05:34.312022Z"
    },
    "papermill": {
     "duration": 0.073733,
     "end_time": "2021-07-10T07:10:10.233019",
     "exception": false,
     "start_time": "2021-07-10T07:10:10.159286",
     "status": "completed"
    },
    "tags": []
   },
   "outputs": [],
   "source": [
    "from sklearn.model_selection import RepeatedStratifiedKFold"
   ]
  },
  {
   "cell_type": "code",
   "execution_count": 46,
   "id": "7d9939c1",
   "metadata": {
    "execution": {
     "iopub.execute_input": "2021-07-10T07:10:10.369691Z",
     "iopub.status.busy": "2021-07-10T07:10:10.368987Z",
     "iopub.status.idle": "2021-07-10T07:10:10.372399Z",
     "shell.execute_reply": "2021-07-10T07:10:10.372929Z",
     "shell.execute_reply.started": "2021-07-10T05:05:34.317656Z"
    },
    "papermill": {
     "duration": 0.07334,
     "end_time": "2021-07-10T07:10:10.373092",
     "exception": false,
     "start_time": "2021-07-10T07:10:10.299752",
     "status": "completed"
    },
    "tags": []
   },
   "outputs": [],
   "source": [
    "kf = RepeatedStratifiedKFold(n_splits=10, n_repeats=5)"
   ]
  },
  {
   "cell_type": "markdown",
   "id": "f7f92092",
   "metadata": {
    "papermill": {
     "duration": 0.066243,
     "end_time": "2021-07-10T07:10:10.506453",
     "exception": false,
     "start_time": "2021-07-10T07:10:10.440210",
     "status": "completed"
    },
    "tags": []
   },
   "source": [
    "### sklearn.model_selection.cross_val_score(estimator, X, y=None, *, groups=None, scoring=None, cv=None, n_jobs=None, verbose=0, fit_params=None, pre_dispatch='2*n_jobs', error_score=nan)\n",
    "\n",
    "* estimator : 모델을 뜻함\n",
    "* KFold를 하지 않았으면 cv를 사용하면 됨. cv는 cross-validation의 약자\n",
    "* scoring"
   ]
  },
  {
   "cell_type": "code",
   "execution_count": 47,
   "id": "10af7100",
   "metadata": {
    "execution": {
     "iopub.execute_input": "2021-07-10T07:10:10.643146Z",
     "iopub.status.busy": "2021-07-10T07:10:10.642485Z",
     "iopub.status.idle": "2021-07-10T07:10:10.645990Z",
     "shell.execute_reply": "2021-07-10T07:10:10.646567Z",
     "shell.execute_reply.started": "2021-07-10T05:05:34.333692Z"
    },
    "papermill": {
     "duration": 0.073126,
     "end_time": "2021-07-10T07:10:10.646745",
     "exception": false,
     "start_time": "2021-07-10T07:10:10.573619",
     "status": "completed"
    },
    "tags": []
   },
   "outputs": [],
   "source": [
    "from sklearn.model_selection import cross_val_score     # cross_val_score가 내부적으로 for문을 돌려서 score가 나오도록 해준다.  "
   ]
  },
  {
   "cell_type": "code",
   "execution_count": 48,
   "id": "463caa7e",
   "metadata": {
    "execution": {
     "iopub.execute_input": "2021-07-10T07:10:10.783646Z",
     "iopub.status.busy": "2021-07-10T07:10:10.783026Z",
     "iopub.status.idle": "2021-07-10T07:10:35.231722Z",
     "shell.execute_reply": "2021-07-10T07:10:35.232549Z",
     "shell.execute_reply.started": "2021-07-10T05:05:34.346193Z"
    },
    "papermill": {
     "duration": 24.519187,
     "end_time": "2021-07-10T07:10:35.232780",
     "exception": false,
     "start_time": "2021-07-10T07:10:10.713593",
     "status": "completed"
    },
    "tags": []
   },
   "outputs": [],
   "source": [
    "n_scores = cross_val_score(lgbm_grid, X, Y, scoring='accuracy', cv=kf)"
   ]
  },
  {
   "cell_type": "code",
   "execution_count": 49,
   "id": "7c65d486",
   "metadata": {
    "execution": {
     "iopub.execute_input": "2021-07-10T07:10:35.374873Z",
     "iopub.status.busy": "2021-07-10T07:10:35.373941Z",
     "iopub.status.idle": "2021-07-10T07:10:35.377662Z",
     "shell.execute_reply": "2021-07-10T07:10:35.378171Z",
     "shell.execute_reply.started": "2021-07-10T05:06:01.028971Z"
    },
    "papermill": {
     "duration": 0.077137,
     "end_time": "2021-07-10T07:10:35.378337",
     "exception": false,
     "start_time": "2021-07-10T07:10:35.301200",
     "status": "completed"
    },
    "tags": []
   },
   "outputs": [
    {
     "data": {
      "text/plain": [
       "(array([0.67677824, 0.67468619, 0.68096234, 0.67991632, 0.67573222,\n",
       "        0.69351464, 0.66317992, 0.69319372, 0.67434555, 0.67853403,\n",
       "        0.68514644, 0.68305439, 0.68200837, 0.67782427, 0.66841004,\n",
       "        0.66945607, 0.68096234, 0.67643979, 0.67120419, 0.68691099,\n",
       "        0.67259414, 0.69665272, 0.68619247, 0.67154812, 0.66631799,\n",
       "        0.67573222, 0.67991632, 0.68272251, 0.68062827, 0.67853403,\n",
       "        0.69142259, 0.68723849, 0.67154812, 0.67782427, 0.67991632,\n",
       "        0.66736402, 0.67782427, 0.67120419, 0.68900524, 0.68272251,\n",
       "        0.67259414, 0.67050209, 0.68619247, 0.66736402, 0.68723849,\n",
       "        0.68096234, 0.68619247, 0.68586387, 0.68376963, 0.68795812]),\n",
       " (50,))"
      ]
     },
     "execution_count": 49,
     "metadata": {},
     "output_type": "execute_result"
    }
   ],
   "source": [
    "n_scores, n_scores.shape"
   ]
  },
  {
   "cell_type": "code",
   "execution_count": 50,
   "id": "0e7cd7a3",
   "metadata": {
    "execution": {
     "iopub.execute_input": "2021-07-10T07:10:35.516453Z",
     "iopub.status.busy": "2021-07-10T07:10:35.515455Z",
     "iopub.status.idle": "2021-07-10T07:10:35.519100Z",
     "shell.execute_reply": "2021-07-10T07:10:35.519582Z",
     "shell.execute_reply.started": "2021-07-10T05:06:01.039216Z"
    },
    "papermill": {
     "duration": 0.074235,
     "end_time": "2021-07-10T07:10:35.519781",
     "exception": false,
     "start_time": "2021-07-10T07:10:35.445546",
     "status": "completed"
    },
    "tags": []
   },
   "outputs": [],
   "source": [
    "import numpy as np"
   ]
  },
  {
   "cell_type": "code",
   "execution_count": 51,
   "id": "84b3a7c4",
   "metadata": {
    "execution": {
     "iopub.execute_input": "2021-07-10T07:10:35.658603Z",
     "iopub.status.busy": "2021-07-10T07:10:35.657632Z",
     "iopub.status.idle": "2021-07-10T07:10:35.664584Z",
     "shell.execute_reply": "2021-07-10T07:10:35.665052Z",
     "shell.execute_reply.started": "2021-07-10T05:06:01.051622Z"
    },
    "papermill": {
     "duration": 0.077703,
     "end_time": "2021-07-10T07:10:35.665221",
     "exception": false,
     "start_time": "2021-07-10T07:10:35.587518",
     "status": "completed"
    },
    "tags": []
   },
   "outputs": [
    {
     "data": {
      "text/plain": [
       "(0.679356130473833, 0.007658862205094442)"
      ]
     },
     "execution_count": 51,
     "metadata": {},
     "output_type": "execute_result"
    }
   ],
   "source": [
    "np.mean(n_scores), np.std(n_scores)        # n_scores의 평균과 표준편차를 알아본다. "
   ]
  },
  {
   "cell_type": "code",
   "execution_count": 52,
   "id": "7b2b96a7",
   "metadata": {
    "execution": {
     "iopub.execute_input": "2021-07-10T07:10:35.804050Z",
     "iopub.status.busy": "2021-07-10T07:10:35.803067Z",
     "iopub.status.idle": "2021-07-10T07:10:35.808893Z",
     "shell.execute_reply": "2021-07-10T07:10:35.809379Z",
     "shell.execute_reply.started": "2021-07-10T05:06:01.066354Z"
    },
    "papermill": {
     "duration": 0.076674,
     "end_time": "2021-07-10T07:10:35.809534",
     "exception": false,
     "start_time": "2021-07-10T07:10:35.732860",
     "status": "completed"
    },
    "tags": []
   },
   "outputs": [
    {
     "data": {
      "text/plain": [
       "array([ 543,  789, 3249, 3300, 1780,  159,  310,  313,  466,  369,  249,\n",
       "        161,  141,  104,   59,    8,    0,    0,    0,    0,    0,    0,\n",
       "          0,    0,    0,    0,    0,    0,    0,    0,    0,    0,    0,\n",
       "          0,    0,    0,    0,    0,    0,    0,    0,    0,    0,    0],\n",
       "      dtype=int32)"
      ]
     },
     "execution_count": 52,
     "metadata": {},
     "output_type": "execute_result"
    }
   ],
   "source": [
    "lgbm_grid.feature_importances_"
   ]
  },
  {
   "cell_type": "code",
   "execution_count": 53,
   "id": "1c6a6bfe",
   "metadata": {
    "execution": {
     "iopub.execute_input": "2021-07-10T07:10:35.948709Z",
     "iopub.status.busy": "2021-07-10T07:10:35.947717Z",
     "iopub.status.idle": "2021-07-10T07:10:35.951484Z",
     "shell.execute_reply": "2021-07-10T07:10:35.951954Z",
     "shell.execute_reply.started": "2021-07-10T05:06:01.081615Z"
    },
    "papermill": {
     "duration": 0.074971,
     "end_time": "2021-07-10T07:10:35.952122",
     "exception": false,
     "start_time": "2021-07-10T07:10:35.877151",
     "status": "completed"
    },
    "tags": []
   },
   "outputs": [],
   "source": [
    "from lightgbm import plot_importance"
   ]
  },
  {
   "cell_type": "code",
   "execution_count": 54,
   "id": "1906fb69",
   "metadata": {
    "execution": {
     "iopub.execute_input": "2021-07-10T07:10:36.093135Z",
     "iopub.status.busy": "2021-07-10T07:10:36.092146Z",
     "iopub.status.idle": "2021-07-10T07:10:36.407855Z",
     "shell.execute_reply": "2021-07-10T07:10:36.408360Z",
     "shell.execute_reply.started": "2021-07-10T05:06:01.093295Z"
    },
    "papermill": {
     "duration": 0.388372,
     "end_time": "2021-07-10T07:10:36.408541",
     "exception": false,
     "start_time": "2021-07-10T07:10:36.020169",
     "status": "completed"
    },
    "tags": []
   },
   "outputs": [
    {
     "name": "stdout",
     "output_type": "stream",
     "text": [
      "Index(['refrig', 'public', 'dependency', 'overcrowding', 'bedrooms',\n",
      "       'tamhog_1', 'tamhog_2', 'tamhog_3', 'tamhog_4', 'tamhog_5', 'tamhog_6',\n",
      "       'tamhog_7', 'tamhog_8', 'tamhog_9', 'tamhog_10', 'tamhog_11',\n",
      "       'tamhog_12', 'tamhog_13', 'hhsize_1', 'hhsize_2', 'hhsize_3',\n",
      "       'hhsize_4', 'hhsize_5', 'hhsize_6', 'hhsize_7', 'hhsize_8', 'hhsize_9',\n",
      "       'hhsize_10', 'hhsize_11', 'hhsize_12', 'hhsize_13', 'hogar_total_1',\n",
      "       'hogar_total_2', 'hogar_total_3', 'hogar_total_4', 'hogar_total_5',\n",
      "       'hogar_total_6', 'hogar_total_7', 'hogar_total_8', 'hogar_total_9',\n",
      "       'hogar_total_10', 'hogar_total_11', 'hogar_total_12', 'hogar_total_13'],\n",
      "      dtype='object')\n"
     ]
    },
    {
     "data": {
      "text/plain": [
       "<AxesSubplot:title={'center':'Feature importance'}, xlabel='Feature importance', ylabel='Features'>"
      ]
     },
     "execution_count": 54,
     "metadata": {},
     "output_type": "execute_result"
    },
    {
     "data": {
      "image/png": "[encoded data removed]",
      "text/plain": [
       "<Figure size 432x288 with 1 Axes>"
      ]
     },
     "metadata": {
      "needs_background": "light"
     },
     "output_type": "display_data"
    }
   ],
   "source": [
    "print(train_onehot.columns)\n",
    "plot_importance(lgbm_grid)"
   ]
  },
  {
   "cell_type": "code",
   "execution_count": 55,
   "id": "6ee0f26e",
   "metadata": {
    "execution": {
     "iopub.execute_input": "2021-07-10T07:10:36.553188Z",
     "iopub.status.busy": "2021-07-10T07:10:36.552472Z",
     "iopub.status.idle": "2021-07-10T07:10:36.669899Z",
     "shell.execute_reply": "2021-07-10T07:10:36.669241Z",
     "shell.execute_reply.started": "2021-07-10T05:06:01.342066Z"
    },
    "papermill": {
     "duration": 0.191447,
     "end_time": "2021-07-10T07:10:36.670078",
     "exception": false,
     "start_time": "2021-07-10T07:10:36.478631",
     "status": "completed"
    },
    "tags": []
   },
   "outputs": [],
   "source": [
    "Y_pred = lgbm_grid.predict(X)"
   ]
  },
  {
   "cell_type": "code",
   "execution_count": 56,
   "id": "df94a8a8",
   "metadata": {
    "execution": {
     "iopub.execute_input": "2021-07-10T07:10:36.819358Z",
     "iopub.status.busy": "2021-07-10T07:10:36.818544Z",
     "iopub.status.idle": "2021-07-10T07:10:36.821001Z",
     "shell.execute_reply": "2021-07-10T07:10:36.821432Z",
     "shell.execute_reply.started": "2021-07-10T05:06:01.435528Z"
    },
    "papermill": {
     "duration": 0.07765,
     "end_time": "2021-07-10T07:10:36.821615",
     "exception": false,
     "start_time": "2021-07-10T07:10:36.743965",
     "status": "completed"
    },
    "tags": []
   },
   "outputs": [],
   "source": [
    "from sklearn import metrics"
   ]
  },
  {
   "cell_type": "code",
   "execution_count": 57,
   "id": "ecb7d2f2",
   "metadata": {
    "execution": {
     "iopub.execute_input": "2021-07-10T07:10:36.966604Z",
     "iopub.status.busy": "2021-07-10T07:10:36.965965Z",
     "iopub.status.idle": "2021-07-10T07:10:36.984088Z",
     "shell.execute_reply": "2021-07-10T07:10:36.984564Z",
     "shell.execute_reply.started": "2021-07-10T05:06:01.445007Z"
    },
    "papermill": {
     "duration": 0.092642,
     "end_time": "2021-07-10T07:10:36.984738",
     "exception": false,
     "start_time": "2021-07-10T07:10:36.892096",
     "status": "completed"
    },
    "tags": []
   },
   "outputs": [
    {
     "name": "stdout",
     "output_type": "stream",
     "text": [
      "              precision    recall  f1-score   support\n",
      "\n",
      "           1       0.78      0.26      0.39       755\n",
      "           2       0.54      0.32      0.40      1597\n",
      "           3       0.72      0.15      0.25      1209\n",
      "           4       0.71      0.96      0.82      5996\n",
      "\n",
      "    accuracy                           0.70      9557\n",
      "   macro avg       0.69      0.42      0.46      9557\n",
      "weighted avg       0.69      0.70      0.64      9557\n",
      "\n"
     ]
    }
   ],
   "source": [
    "print(metrics.classification_report(Y,Y_pred))"
   ]
  },
  {
   "cell_type": "code",
   "execution_count": 58,
   "id": "11e71f3f",
   "metadata": {
    "execution": {
     "iopub.execute_input": "2021-07-10T07:10:37.131675Z",
     "iopub.status.busy": "2021-07-10T07:10:37.131013Z",
     "iopub.status.idle": "2021-07-10T07:10:37.589264Z",
     "shell.execute_reply": "2021-07-10T07:10:37.590159Z",
     "shell.execute_reply.started": "2021-07-10T05:06:01.470152Z"
    },
    "papermill": {
     "duration": 0.534073,
     "end_time": "2021-07-10T07:10:37.590363",
     "exception": false,
     "start_time": "2021-07-10T07:10:37.056290",
     "status": "completed"
    },
    "tags": []
   },
   "outputs": [
    {
     "data": {
      "text/plain": [
       "LGBMClassifier()"
      ]
     },
     "execution_count": 58,
     "metadata": {},
     "output_type": "execute_result"
    }
   ],
   "source": [
    "lgbm.fit(X,Y)"
   ]
  },
  {
   "cell_type": "code",
   "execution_count": 59,
   "id": "407cd50f",
   "metadata": {
    "execution": {
     "iopub.execute_input": "2021-07-10T07:10:37.738952Z",
     "iopub.status.busy": "2021-07-10T07:10:37.737991Z",
     "iopub.status.idle": "2021-07-10T07:10:37.843517Z",
     "shell.execute_reply": "2021-07-10T07:10:37.844421Z",
     "shell.execute_reply.started": "2021-07-10T05:06:02.080613Z"
    },
    "papermill": {
     "duration": 0.182084,
     "end_time": "2021-07-10T07:10:37.844617",
     "exception": false,
     "start_time": "2021-07-10T07:10:37.662533",
     "status": "completed"
    },
    "tags": []
   },
   "outputs": [
    {
     "data": {
      "text/plain": [
       "0.6987548393847441"
      ]
     },
     "execution_count": 59,
     "metadata": {},
     "output_type": "execute_result"
    }
   ],
   "source": [
    "lgbm.score(X,Y)"
   ]
  },
  {
   "cell_type": "code",
   "execution_count": 60,
   "id": "77b3c5b0",
   "metadata": {
    "execution": {
     "iopub.execute_input": "2021-07-10T07:10:37.993003Z",
     "iopub.status.busy": "2021-07-10T07:10:37.992267Z",
     "iopub.status.idle": "2021-07-10T07:10:38.093190Z",
     "shell.execute_reply": "2021-07-10T07:10:38.093794Z",
     "shell.execute_reply.started": "2021-07-10T05:06:02.170263Z"
    },
    "papermill": {
     "duration": 0.176686,
     "end_time": "2021-07-10T07:10:38.093998",
     "exception": false,
     "start_time": "2021-07-10T07:10:37.917312",
     "status": "completed"
    },
    "tags": []
   },
   "outputs": [],
   "source": [
    "Y_pred = lgbm.predict(X)"
   ]
  },
  {
   "cell_type": "code",
   "execution_count": 61,
   "id": "14351ff6",
   "metadata": {
    "execution": {
     "iopub.execute_input": "2021-07-10T07:10:38.242990Z",
     "iopub.status.busy": "2021-07-10T07:10:38.242316Z",
     "iopub.status.idle": "2021-07-10T07:10:38.244850Z",
     "shell.execute_reply": "2021-07-10T07:10:38.244223Z",
     "shell.execute_reply.started": "2021-07-10T05:06:02.258452Z"
    },
    "papermill": {
     "duration": 0.077559,
     "end_time": "2021-07-10T07:10:38.244985",
     "exception": false,
     "start_time": "2021-07-10T07:10:38.167426",
     "status": "completed"
    },
    "tags": []
   },
   "outputs": [],
   "source": [
    "from sklearn import metrics"
   ]
  },
  {
   "cell_type": "code",
   "execution_count": 62,
   "id": "ce32716d",
   "metadata": {
    "execution": {
     "iopub.execute_input": "2021-07-10T07:10:38.390330Z",
     "iopub.status.busy": "2021-07-10T07:10:38.389763Z",
     "iopub.status.idle": "2021-07-10T07:10:38.409242Z",
     "shell.execute_reply": "2021-07-10T07:10:38.409749Z",
     "shell.execute_reply.started": "2021-07-10T05:06:02.264990Z"
    },
    "papermill": {
     "duration": 0.093398,
     "end_time": "2021-07-10T07:10:38.409933",
     "exception": false,
     "start_time": "2021-07-10T07:10:38.316535",
     "status": "completed"
    },
    "tags": []
   },
   "outputs": [
    {
     "name": "stdout",
     "output_type": "stream",
     "text": [
      "              precision    recall  f1-score   support\n",
      "\n",
      "           1       0.78      0.27      0.40       755\n",
      "           2       0.56      0.32      0.41      1597\n",
      "           3       0.66      0.17      0.27      1209\n",
      "           4       0.71      0.96      0.82      5996\n",
      "\n",
      "    accuracy                           0.70      9557\n",
      "   macro avg       0.68      0.43      0.47      9557\n",
      "weighted avg       0.69      0.70      0.65      9557\n",
      "\n"
     ]
    }
   ],
   "source": [
    "print(metrics.classification_report(Y,Y_pred))"
   ]
  },
  {
   "cell_type": "code",
   "execution_count": null,
   "id": "718c8b1f",
   "metadata": {
    "papermill": {
     "duration": 0.070717,
     "end_time": "2021-07-10T07:10:38.551407",
     "exception": false,
     "start_time": "2021-07-10T07:10:38.480690",
     "status": "completed"
    },
    "tags": []
   },
   "outputs": [],
   "source": []
  }
 ],
 "metadata": {
  "kernelspec": {
   "display_name": "Python 3",
   "language": "python",
   "name": "python3"
  },
  "language_info": {
   "codemirror_mode": {
    "name": "ipython",
    "version": 3
   },
   "file_extension": ".py",
   "mimetype": "text/x-python",
   "name": "python",
   "nbconvert_exporter": "python",
   "pygments_lexer": "ipython3",
   "version": "3.7.10"
  },
  "papermill": {
   "default_parameters": {},
   "duration": 91.850437,
   "end_time": "2021-07-10T07:10:40.057161",
   "environment_variables": {},
   "exception": null,
   "input_path": "__notebook__.ipynb",
   "output_path": "__notebook__.ipynb",
   "parameters": {},
   "start_time": "2021-07-10T07:09:08.206724",
   "version": "2.3.3"
  }
 },
 "nbformat": 4,
 "nbformat_minor": 5
}
