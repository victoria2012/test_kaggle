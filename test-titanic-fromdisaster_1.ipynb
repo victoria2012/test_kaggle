{
 "cells": [
  {
   "cell_type": "code",
   "execution_count": 1,
   "id": "sixth-deployment",
   "metadata": {
    "_cell_guid": "b1076dfc-b9ad-4769-8c92-a6c4dae69d19",
    "_uuid": "8f2839f25d086af736a60e9eeb907d3b93b6e0e5",
    "execution": {
     "iopub.execute_input": "2021-07-07T23:15:04.624718Z",
     "iopub.status.busy": "2021-07-07T23:15:04.623578Z",
     "iopub.status.idle": "2021-07-07T23:15:04.633194Z",
     "shell.execute_reply": "2021-07-07T23:15:04.633689Z",
     "shell.execute_reply.started": "2021-07-07T22:43:44.439729Z"
    },
    "papermill": {
     "duration": 0.052177,
     "end_time": "2021-07-07T23:15:04.633927",
     "exception": false,
     "start_time": "2021-07-07T23:15:04.581750",
     "status": "completed"
    },
    "tags": []
   },
   "outputs": [
    {
     "name": "stdout",
     "output_type": "stream",
     "text": [
      "/kaggle/input/titanic/train.csv\n",
      "/kaggle/input/titanic/test.csv\n",
      "/kaggle/input/titanic/gender_submission.csv\n"
     ]
    }
   ],
   "source": [
    "# This Python 3 environment comes with many helpful analytics libraries installed\n",
    "# It is defined by the kaggle/python Docker image: https://github.com/kaggle/docker-python\n",
    "# For example, here's several helpful packages to load\n",
    "\n",
    "import numpy as np # linear algebra\n",
    "import pandas as pd # data processing, CSV file I/O (e.g. pd.read_csv)\n",
    "\n",
    "# Input data files are available in the read-only \"../input/\" directory\n",
    "# For example, running this (by clicking run or pressing Shift+Enter) will list all files under the input directory\n",
    "\n",
    "import os\n",
    "for dirname, _, filenames in os.walk('/kaggle/input'):\n",
    "    for filename in filenames:\n",
    "        print(os.path.join(dirname, filename))\n",
    "\n",
    "# You can write up to 20GB to the current directory (/kaggle/working/) that gets preserved as output when you create a version using \"Save & Run All\" \n",
    "# You can also write temporary files to /kaggle/temp/, but they won't be saved outside of the current session"
   ]
  },
  {
   "cell_type": "code",
   "execution_count": 2,
   "id": "increasing-painting",
   "metadata": {
    "execution": {
     "iopub.execute_input": "2021-07-07T23:15:04.710149Z",
     "iopub.status.busy": "2021-07-07T23:15:04.709558Z",
     "iopub.status.idle": "2021-07-07T23:15:04.753010Z",
     "shell.execute_reply": "2021-07-07T23:15:04.753496Z",
     "shell.execute_reply.started": "2021-07-07T22:43:44.450488Z"
    },
    "papermill": {
     "duration": 0.082733,
     "end_time": "2021-07-07T23:15:04.753692",
     "exception": false,
     "start_time": "2021-07-07T23:15:04.670959",
     "status": "completed"
    },
    "tags": []
   },
   "outputs": [
    {
     "data": {
      "text/html": [
       "<div>\n",
       "<style scoped>\n",
       "    .dataframe tbody tr th:only-of-type {\n",
       "        vertical-align: middle;\n",
       "    }\n",
       "\n",
       "    .dataframe tbody tr th {\n",
       "        vertical-align: top;\n",
       "    }\n",
       "\n",
       "    .dataframe thead th {\n",
       "        text-align: right;\n",
       "    }\n",
       "</style>\n",
       "<table border=\"1\" class=\"dataframe\">\n",
       "  <thead>\n",
       "    <tr style=\"text-align: right;\">\n",
       "      <th></th>\n",
       "      <th>PassengerId</th>\n",
       "      <th>Survived</th>\n",
       "      <th>Pclass</th>\n",
       "      <th>Name</th>\n",
       "      <th>Sex</th>\n",
       "      <th>Age</th>\n",
       "      <th>SibSp</th>\n",
       "      <th>Parch</th>\n",
       "      <th>Ticket</th>\n",
       "      <th>Fare</th>\n",
       "      <th>Cabin</th>\n",
       "      <th>Embarked</th>\n",
       "    </tr>\n",
       "  </thead>\n",
       "  <tbody>\n",
       "    <tr>\n",
       "      <th>0</th>\n",
       "      <td>1</td>\n",
       "      <td>0</td>\n",
       "      <td>3</td>\n",
       "      <td>Braund, Mr. Owen Harris</td>\n",
       "      <td>male</td>\n",
       "      <td>22.0</td>\n",
       "      <td>1</td>\n",
       "      <td>0</td>\n",
       "      <td>A/5 21171</td>\n",
       "      <td>7.2500</td>\n",
       "      <td>NaN</td>\n",
       "      <td>S</td>\n",
       "    </tr>\n",
       "    <tr>\n",
       "      <th>1</th>\n",
       "      <td>2</td>\n",
       "      <td>1</td>\n",
       "      <td>1</td>\n",
       "      <td>Cumings, Mrs. John Bradley (Florence Briggs Th...</td>\n",
       "      <td>female</td>\n",
       "      <td>38.0</td>\n",
       "      <td>1</td>\n",
       "      <td>0</td>\n",
       "      <td>PC 17599</td>\n",
       "      <td>71.2833</td>\n",
       "      <td>C85</td>\n",
       "      <td>C</td>\n",
       "    </tr>\n",
       "    <tr>\n",
       "      <th>2</th>\n",
       "      <td>3</td>\n",
       "      <td>1</td>\n",
       "      <td>3</td>\n",
       "      <td>Heikkinen, Miss. Laina</td>\n",
       "      <td>female</td>\n",
       "      <td>26.0</td>\n",
       "      <td>0</td>\n",
       "      <td>0</td>\n",
       "      <td>STON/O2. 3101282</td>\n",
       "      <td>7.9250</td>\n",
       "      <td>NaN</td>\n",
       "      <td>S</td>\n",
       "    </tr>\n",
       "  </tbody>\n",
       "</table>\n",
       "</div>"
      ],
      "text/plain": [
       "   PassengerId  Survived  Pclass  \\\n",
       "0            1         0       3   \n",
       "1            2         1       1   \n",
       "2            3         1       3   \n",
       "\n",
       "                                                Name     Sex   Age  SibSp  \\\n",
       "0                            Braund, Mr. Owen Harris    male  22.0      1   \n",
       "1  Cumings, Mrs. John Bradley (Florence Briggs Th...  female  38.0      1   \n",
       "2                             Heikkinen, Miss. Laina  female  26.0      0   \n",
       "\n",
       "   Parch            Ticket     Fare Cabin Embarked  \n",
       "0      0         A/5 21171   7.2500   NaN        S  \n",
       "1      0          PC 17599  71.2833   C85        C  \n",
       "2      0  STON/O2. 3101282   7.9250   NaN        S  "
      ]
     },
     "execution_count": 2,
     "metadata": {},
     "output_type": "execute_result"
    }
   ],
   "source": [
    "df = pd.read_csv('/kaggle/input/titanic/train.csv')\n",
    "df.head(3)"
   ]
  },
  {
   "cell_type": "code",
   "execution_count": 3,
   "id": "chubby-investor",
   "metadata": {
    "execution": {
     "iopub.execute_input": "2021-07-07T23:15:04.832858Z",
     "iopub.status.busy": "2021-07-07T23:15:04.832048Z",
     "iopub.status.idle": "2021-07-07T23:15:04.888208Z",
     "shell.execute_reply": "2021-07-07T23:15:04.888688Z",
     "shell.execute_reply.started": "2021-07-07T22:43:44.479063Z"
    },
    "papermill": {
     "duration": 0.096654,
     "end_time": "2021-07-07T23:15:04.888863",
     "exception": false,
     "start_time": "2021-07-07T23:15:04.792209",
     "status": "completed"
    },
    "tags": []
   },
   "outputs": [
    {
     "data": {
      "text/html": [
       "<div>\n",
       "<style scoped>\n",
       "    .dataframe tbody tr th:only-of-type {\n",
       "        vertical-align: middle;\n",
       "    }\n",
       "\n",
       "    .dataframe tbody tr th {\n",
       "        vertical-align: top;\n",
       "    }\n",
       "\n",
       "    .dataframe thead th {\n",
       "        text-align: right;\n",
       "    }\n",
       "</style>\n",
       "<table border=\"1\" class=\"dataframe\">\n",
       "  <thead>\n",
       "    <tr style=\"text-align: right;\">\n",
       "      <th></th>\n",
       "      <th>PassengerId</th>\n",
       "      <th>Survived</th>\n",
       "      <th>Pclass</th>\n",
       "      <th>Name</th>\n",
       "      <th>Sex</th>\n",
       "      <th>Age</th>\n",
       "      <th>SibSp</th>\n",
       "      <th>Parch</th>\n",
       "      <th>Ticket</th>\n",
       "      <th>Fare</th>\n",
       "      <th>Cabin</th>\n",
       "      <th>Embarked</th>\n",
       "    </tr>\n",
       "  </thead>\n",
       "  <tbody>\n",
       "    <tr>\n",
       "      <th>count</th>\n",
       "      <td>891.000000</td>\n",
       "      <td>891.000000</td>\n",
       "      <td>891.000000</td>\n",
       "      <td>891</td>\n",
       "      <td>891</td>\n",
       "      <td>714.000000</td>\n",
       "      <td>891.000000</td>\n",
       "      <td>891.000000</td>\n",
       "      <td>891</td>\n",
       "      <td>891.000000</td>\n",
       "      <td>204</td>\n",
       "      <td>889</td>\n",
       "    </tr>\n",
       "    <tr>\n",
       "      <th>unique</th>\n",
       "      <td>NaN</td>\n",
       "      <td>NaN</td>\n",
       "      <td>NaN</td>\n",
       "      <td>891</td>\n",
       "      <td>2</td>\n",
       "      <td>NaN</td>\n",
       "      <td>NaN</td>\n",
       "      <td>NaN</td>\n",
       "      <td>681</td>\n",
       "      <td>NaN</td>\n",
       "      <td>147</td>\n",
       "      <td>3</td>\n",
       "    </tr>\n",
       "    <tr>\n",
       "      <th>top</th>\n",
       "      <td>NaN</td>\n",
       "      <td>NaN</td>\n",
       "      <td>NaN</td>\n",
       "      <td>Francatelli, Miss. Laura Mabel</td>\n",
       "      <td>male</td>\n",
       "      <td>NaN</td>\n",
       "      <td>NaN</td>\n",
       "      <td>NaN</td>\n",
       "      <td>CA. 2343</td>\n",
       "      <td>NaN</td>\n",
       "      <td>C23 C25 C27</td>\n",
       "      <td>S</td>\n",
       "    </tr>\n",
       "    <tr>\n",
       "      <th>freq</th>\n",
       "      <td>NaN</td>\n",
       "      <td>NaN</td>\n",
       "      <td>NaN</td>\n",
       "      <td>1</td>\n",
       "      <td>577</td>\n",
       "      <td>NaN</td>\n",
       "      <td>NaN</td>\n",
       "      <td>NaN</td>\n",
       "      <td>7</td>\n",
       "      <td>NaN</td>\n",
       "      <td>4</td>\n",
       "      <td>644</td>\n",
       "    </tr>\n",
       "    <tr>\n",
       "      <th>mean</th>\n",
       "      <td>446.000000</td>\n",
       "      <td>0.383838</td>\n",
       "      <td>2.308642</td>\n",
       "      <td>NaN</td>\n",
       "      <td>NaN</td>\n",
       "      <td>29.699118</td>\n",
       "      <td>0.523008</td>\n",
       "      <td>0.381594</td>\n",
       "      <td>NaN</td>\n",
       "      <td>32.204208</td>\n",
       "      <td>NaN</td>\n",
       "      <td>NaN</td>\n",
       "    </tr>\n",
       "    <tr>\n",
       "      <th>std</th>\n",
       "      <td>257.353842</td>\n",
       "      <td>0.486592</td>\n",
       "      <td>0.836071</td>\n",
       "      <td>NaN</td>\n",
       "      <td>NaN</td>\n",
       "      <td>14.526497</td>\n",
       "      <td>1.102743</td>\n",
       "      <td>0.806057</td>\n",
       "      <td>NaN</td>\n",
       "      <td>49.693429</td>\n",
       "      <td>NaN</td>\n",
       "      <td>NaN</td>\n",
       "    </tr>\n",
       "    <tr>\n",
       "      <th>min</th>\n",
       "      <td>1.000000</td>\n",
       "      <td>0.000000</td>\n",
       "      <td>1.000000</td>\n",
       "      <td>NaN</td>\n",
       "      <td>NaN</td>\n",
       "      <td>0.420000</td>\n",
       "      <td>0.000000</td>\n",
       "      <td>0.000000</td>\n",
       "      <td>NaN</td>\n",
       "      <td>0.000000</td>\n",
       "      <td>NaN</td>\n",
       "      <td>NaN</td>\n",
       "    </tr>\n",
       "    <tr>\n",
       "      <th>25%</th>\n",
       "      <td>223.500000</td>\n",
       "      <td>0.000000</td>\n",
       "      <td>2.000000</td>\n",
       "      <td>NaN</td>\n",
       "      <td>NaN</td>\n",
       "      <td>20.125000</td>\n",
       "      <td>0.000000</td>\n",
       "      <td>0.000000</td>\n",
       "      <td>NaN</td>\n",
       "      <td>7.910400</td>\n",
       "      <td>NaN</td>\n",
       "      <td>NaN</td>\n",
       "    </tr>\n",
       "    <tr>\n",
       "      <th>50%</th>\n",
       "      <td>446.000000</td>\n",
       "      <td>0.000000</td>\n",
       "      <td>3.000000</td>\n",
       "      <td>NaN</td>\n",
       "      <td>NaN</td>\n",
       "      <td>28.000000</td>\n",
       "      <td>0.000000</td>\n",
       "      <td>0.000000</td>\n",
       "      <td>NaN</td>\n",
       "      <td>14.454200</td>\n",
       "      <td>NaN</td>\n",
       "      <td>NaN</td>\n",
       "    </tr>\n",
       "    <tr>\n",
       "      <th>75%</th>\n",
       "      <td>668.500000</td>\n",
       "      <td>1.000000</td>\n",
       "      <td>3.000000</td>\n",
       "      <td>NaN</td>\n",
       "      <td>NaN</td>\n",
       "      <td>38.000000</td>\n",
       "      <td>1.000000</td>\n",
       "      <td>0.000000</td>\n",
       "      <td>NaN</td>\n",
       "      <td>31.000000</td>\n",
       "      <td>NaN</td>\n",
       "      <td>NaN</td>\n",
       "    </tr>\n",
       "    <tr>\n",
       "      <th>max</th>\n",
       "      <td>891.000000</td>\n",
       "      <td>1.000000</td>\n",
       "      <td>3.000000</td>\n",
       "      <td>NaN</td>\n",
       "      <td>NaN</td>\n",
       "      <td>80.000000</td>\n",
       "      <td>8.000000</td>\n",
       "      <td>6.000000</td>\n",
       "      <td>NaN</td>\n",
       "      <td>512.329200</td>\n",
       "      <td>NaN</td>\n",
       "      <td>NaN</td>\n",
       "    </tr>\n",
       "  </tbody>\n",
       "</table>\n",
       "</div>"
      ],
      "text/plain": [
       "        PassengerId    Survived      Pclass                            Name  \\\n",
       "count    891.000000  891.000000  891.000000                             891   \n",
       "unique          NaN         NaN         NaN                             891   \n",
       "top             NaN         NaN         NaN  Francatelli, Miss. Laura Mabel   \n",
       "freq            NaN         NaN         NaN                               1   \n",
       "mean     446.000000    0.383838    2.308642                             NaN   \n",
       "std      257.353842    0.486592    0.836071                             NaN   \n",
       "min        1.000000    0.000000    1.000000                             NaN   \n",
       "25%      223.500000    0.000000    2.000000                             NaN   \n",
       "50%      446.000000    0.000000    3.000000                             NaN   \n",
       "75%      668.500000    1.000000    3.000000                             NaN   \n",
       "max      891.000000    1.000000    3.000000                             NaN   \n",
       "\n",
       "         Sex         Age       SibSp       Parch    Ticket        Fare  \\\n",
       "count    891  714.000000  891.000000  891.000000       891  891.000000   \n",
       "unique     2         NaN         NaN         NaN       681         NaN   \n",
       "top     male         NaN         NaN         NaN  CA. 2343         NaN   \n",
       "freq     577         NaN         NaN         NaN         7         NaN   \n",
       "mean     NaN   29.699118    0.523008    0.381594       NaN   32.204208   \n",
       "std      NaN   14.526497    1.102743    0.806057       NaN   49.693429   \n",
       "min      NaN    0.420000    0.000000    0.000000       NaN    0.000000   \n",
       "25%      NaN   20.125000    0.000000    0.000000       NaN    7.910400   \n",
       "50%      NaN   28.000000    0.000000    0.000000       NaN   14.454200   \n",
       "75%      NaN   38.000000    1.000000    0.000000       NaN   31.000000   \n",
       "max      NaN   80.000000    8.000000    6.000000       NaN  512.329200   \n",
       "\n",
       "              Cabin Embarked  \n",
       "count           204      889  \n",
       "unique          147        3  \n",
       "top     C23 C25 C27        S  \n",
       "freq              4      644  \n",
       "mean            NaN      NaN  \n",
       "std             NaN      NaN  \n",
       "min             NaN      NaN  \n",
       "25%             NaN      NaN  \n",
       "50%             NaN      NaN  \n",
       "75%             NaN      NaN  \n",
       "max             NaN      NaN  "
      ]
     },
     "execution_count": 3,
     "metadata": {},
     "output_type": "execute_result"
    }
   ],
   "source": [
    "df.describe(include='all')"
   ]
  },
  {
   "cell_type": "code",
   "execution_count": 4,
   "id": "cosmetic-lebanon",
   "metadata": {
    "execution": {
     "iopub.execute_input": "2021-07-07T23:15:04.969210Z",
     "iopub.status.busy": "2021-07-07T23:15:04.968631Z",
     "iopub.status.idle": "2021-07-07T23:15:04.984895Z",
     "shell.execute_reply": "2021-07-07T23:15:04.984332Z",
     "shell.execute_reply.started": "2021-07-07T22:43:44.527308Z"
    },
    "papermill": {
     "duration": 0.056671,
     "end_time": "2021-07-07T23:15:04.985041",
     "exception": false,
     "start_time": "2021-07-07T23:15:04.928370",
     "status": "completed"
    },
    "tags": []
   },
   "outputs": [
    {
     "name": "stdout",
     "output_type": "stream",
     "text": [
      "<class 'pandas.core.frame.DataFrame'>\n",
      "RangeIndex: 891 entries, 0 to 890\n",
      "Data columns (total 12 columns):\n",
      " #   Column       Non-Null Count  Dtype  \n",
      "---  ------       --------------  -----  \n",
      " 0   PassengerId  891 non-null    int64  \n",
      " 1   Survived     891 non-null    int64  \n",
      " 2   Pclass       891 non-null    int64  \n",
      " 3   Name         891 non-null    object \n",
      " 4   Sex          891 non-null    object \n",
      " 5   Age          714 non-null    float64\n",
      " 6   SibSp        891 non-null    int64  \n",
      " 7   Parch        891 non-null    int64  \n",
      " 8   Ticket       891 non-null    object \n",
      " 9   Fare         891 non-null    float64\n",
      " 10  Cabin        204 non-null    object \n",
      " 11  Embarked     889 non-null    object \n",
      "dtypes: float64(2), int64(5), object(5)\n",
      "memory usage: 83.7+ KB\n"
     ]
    }
   ],
   "source": [
    "df.info()"
   ]
  },
  {
   "cell_type": "markdown",
   "id": "varied-judges",
   "metadata": {
    "papermill": {
     "duration": 0.024914,
     "end_time": "2021-07-07T23:15:05.036249",
     "exception": false,
     "start_time": "2021-07-07T23:15:05.011335",
     "status": "completed"
    },
    "tags": []
   },
   "source": [
    "Survived\tPclass\tSex \tAge\tSibSp\tParch\tFare\tCabin\tEmbarked"
   ]
  },
  {
   "cell_type": "code",
   "execution_count": 5,
   "id": "remarkable-audit",
   "metadata": {
    "execution": {
     "iopub.execute_input": "2021-07-07T23:15:05.090088Z",
     "iopub.status.busy": "2021-07-07T23:15:05.089449Z",
     "iopub.status.idle": "2021-07-07T23:15:05.098828Z",
     "shell.execute_reply": "2021-07-07T23:15:05.099239Z",
     "shell.execute_reply.started": "2021-07-07T22:43:44.541222Z"
    },
    "papermill": {
     "duration": 0.037601,
     "end_time": "2021-07-07T23:15:05.099374",
     "exception": false,
     "start_time": "2021-07-07T23:15:05.061773",
     "status": "completed"
    },
    "tags": []
   },
   "outputs": [
    {
     "data": {
      "text/plain": [
       "array([  1,   2,   3,   4,   5,   6,   7,   8,   9,  10,  11,  12,  13,\n",
       "        14,  15,  16,  17,  18,  19,  20,  21,  22,  23,  24,  25,  26,\n",
       "        27,  28,  29,  30,  31,  32,  33,  34,  35,  36,  37,  38,  39,\n",
       "        40,  41,  42,  43,  44,  45,  46,  47,  48,  49,  50,  51,  52,\n",
       "        53,  54,  55,  56,  57,  58,  59,  60,  61,  62,  63,  64,  65,\n",
       "        66,  67,  68,  69,  70,  71,  72,  73,  74,  75,  76,  77,  78,\n",
       "        79,  80,  81,  82,  83,  84,  85,  86,  87,  88,  89,  90,  91,\n",
       "        92,  93,  94,  95,  96,  97,  98,  99, 100, 101, 102, 103, 104,\n",
       "       105, 106, 107, 108, 109, 110, 111, 112, 113, 114, 115, 116, 117,\n",
       "       118, 119, 120, 121, 122, 123, 124, 125, 126, 127, 128, 129, 130,\n",
       "       131, 132, 133, 134, 135, 136, 137, 138, 139, 140, 141, 142, 143,\n",
       "       144, 145, 146, 147, 148, 149, 150, 151, 152, 153, 154, 155, 156,\n",
       "       157, 158, 159, 160, 161, 162, 163, 164, 165, 166, 167, 168, 169,\n",
       "       170, 171, 172, 173, 174, 175, 176, 177, 178, 179, 180, 181, 182,\n",
       "       183, 184, 185, 186, 187, 188, 189, 190, 191, 192, 193, 194, 195,\n",
       "       196, 197, 198, 199, 200, 201, 202, 203, 204, 205, 206, 207, 208,\n",
       "       209, 210, 211, 212, 213, 214, 215, 216, 217, 218, 219, 220, 221,\n",
       "       222, 223, 224, 225, 226, 227, 228, 229, 230, 231, 232, 233, 234,\n",
       "       235, 236, 237, 238, 239, 240, 241, 242, 243, 244, 245, 246, 247,\n",
       "       248, 249, 250, 251, 252, 253, 254, 255, 256, 257, 258, 259, 260,\n",
       "       261, 262, 263, 264, 265, 266, 267, 268, 269, 270, 271, 272, 273,\n",
       "       274, 275, 276, 277, 278, 279, 280, 281, 282, 283, 284, 285, 286,\n",
       "       287, 288, 289, 290, 291, 292, 293, 294, 295, 296, 297, 298, 299,\n",
       "       300, 301, 302, 303, 304, 305, 306, 307, 308, 309, 310, 311, 312,\n",
       "       313, 314, 315, 316, 317, 318, 319, 320, 321, 322, 323, 324, 325,\n",
       "       326, 327, 328, 329, 330, 331, 332, 333, 334, 335, 336, 337, 338,\n",
       "       339, 340, 341, 342, 343, 344, 345, 346, 347, 348, 349, 350, 351,\n",
       "       352, 353, 354, 355, 356, 357, 358, 359, 360, 361, 362, 363, 364,\n",
       "       365, 366, 367, 368, 369, 370, 371, 372, 373, 374, 375, 376, 377,\n",
       "       378, 379, 380, 381, 382, 383, 384, 385, 386, 387, 388, 389, 390,\n",
       "       391, 392, 393, 394, 395, 396, 397, 398, 399, 400, 401, 402, 403,\n",
       "       404, 405, 406, 407, 408, 409, 410, 411, 412, 413, 414, 415, 416,\n",
       "       417, 418, 419, 420, 421, 422, 423, 424, 425, 426, 427, 428, 429,\n",
       "       430, 431, 432, 433, 434, 435, 436, 437, 438, 439, 440, 441, 442,\n",
       "       443, 444, 445, 446, 447, 448, 449, 450, 451, 452, 453, 454, 455,\n",
       "       456, 457, 458, 459, 460, 461, 462, 463, 464, 465, 466, 467, 468,\n",
       "       469, 470, 471, 472, 473, 474, 475, 476, 477, 478, 479, 480, 481,\n",
       "       482, 483, 484, 485, 486, 487, 488, 489, 490, 491, 492, 493, 494,\n",
       "       495, 496, 497, 498, 499, 500, 501, 502, 503, 504, 505, 506, 507,\n",
       "       508, 509, 510, 511, 512, 513, 514, 515, 516, 517, 518, 519, 520,\n",
       "       521, 522, 523, 524, 525, 526, 527, 528, 529, 530, 531, 532, 533,\n",
       "       534, 535, 536, 537, 538, 539, 540, 541, 542, 543, 544, 545, 546,\n",
       "       547, 548, 549, 550, 551, 552, 553, 554, 555, 556, 557, 558, 559,\n",
       "       560, 561, 562, 563, 564, 565, 566, 567, 568, 569, 570, 571, 572,\n",
       "       573, 574, 575, 576, 577, 578, 579, 580, 581, 582, 583, 584, 585,\n",
       "       586, 587, 588, 589, 590, 591, 592, 593, 594, 595, 596, 597, 598,\n",
       "       599, 600, 601, 602, 603, 604, 605, 606, 607, 608, 609, 610, 611,\n",
       "       612, 613, 614, 615, 616, 617, 618, 619, 620, 621, 622, 623, 624,\n",
       "       625, 626, 627, 628, 629, 630, 631, 632, 633, 634, 635, 636, 637,\n",
       "       638, 639, 640, 641, 642, 643, 644, 645, 646, 647, 648, 649, 650,\n",
       "       651, 652, 653, 654, 655, 656, 657, 658, 659, 660, 661, 662, 663,\n",
       "       664, 665, 666, 667, 668, 669, 670, 671, 672, 673, 674, 675, 676,\n",
       "       677, 678, 679, 680, 681, 682, 683, 684, 685, 686, 687, 688, 689,\n",
       "       690, 691, 692, 693, 694, 695, 696, 697, 698, 699, 700, 701, 702,\n",
       "       703, 704, 705, 706, 707, 708, 709, 710, 711, 712, 713, 714, 715,\n",
       "       716, 717, 718, 719, 720, 721, 722, 723, 724, 725, 726, 727, 728,\n",
       "       729, 730, 731, 732, 733, 734, 735, 736, 737, 738, 739, 740, 741,\n",
       "       742, 743, 744, 745, 746, 747, 748, 749, 750, 751, 752, 753, 754,\n",
       "       755, 756, 757, 758, 759, 760, 761, 762, 763, 764, 765, 766, 767,\n",
       "       768, 769, 770, 771, 772, 773, 774, 775, 776, 777, 778, 779, 780,\n",
       "       781, 782, 783, 784, 785, 786, 787, 788, 789, 790, 791, 792, 793,\n",
       "       794, 795, 796, 797, 798, 799, 800, 801, 802, 803, 804, 805, 806,\n",
       "       807, 808, 809, 810, 811, 812, 813, 814, 815, 816, 817, 818, 819,\n",
       "       820, 821, 822, 823, 824, 825, 826, 827, 828, 829, 830, 831, 832,\n",
       "       833, 834, 835, 836, 837, 838, 839, 840, 841, 842, 843, 844, 845,\n",
       "       846, 847, 848, 849, 850, 851, 852, 853, 854, 855, 856, 857, 858,\n",
       "       859, 860, 861, 862, 863, 864, 865, 866, 867, 868, 869, 870, 871,\n",
       "       872, 873, 874, 875, 876, 877, 878, 879, 880, 881, 882, 883, 884,\n",
       "       885, 886, 887, 888, 889, 890, 891])"
      ]
     },
     "execution_count": 5,
     "metadata": {},
     "output_type": "execute_result"
    }
   ],
   "source": [
    "df['PassengerId'].unique()"
   ]
  },
  {
   "cell_type": "code",
   "execution_count": 6,
   "id": "motivated-horizontal",
   "metadata": {
    "execution": {
     "iopub.execute_input": "2021-07-07T23:15:05.154878Z",
     "iopub.status.busy": "2021-07-07T23:15:05.154234Z",
     "iopub.status.idle": "2021-07-07T23:15:05.170607Z",
     "shell.execute_reply": "2021-07-07T23:15:05.171170Z",
     "shell.execute_reply.started": "2021-07-07T22:43:44.549777Z"
    },
    "papermill": {
     "duration": 0.045756,
     "end_time": "2021-07-07T23:15:05.171343",
     "exception": false,
     "start_time": "2021-07-07T23:15:05.125587",
     "status": "completed"
    },
    "tags": []
   },
   "outputs": [
    {
     "name": "stdout",
     "output_type": "stream",
     "text": [
      "<class 'pandas.core.frame.DataFrame'>\n",
      "RangeIndex: 891 entries, 0 to 890\n",
      "Data columns (total 5 columns):\n",
      " #   Column    Non-Null Count  Dtype  \n",
      "---  ------    --------------  -----  \n",
      " 0   Survived  891 non-null    int64  \n",
      " 1   Pclass    891 non-null    int64  \n",
      " 2   Sex       891 non-null    object \n",
      " 3   SibSp     891 non-null    int64  \n",
      " 4   Fare      891 non-null    float64\n",
      "dtypes: float64(1), int64(3), object(1)\n",
      "memory usage: 34.9+ KB\n"
     ]
    }
   ],
   "source": [
    "df = df[['Survived', 'Pclass', 'Sex', 'SibSp', 'Fare']]\n",
    "df.info()"
   ]
  },
  {
   "cell_type": "code",
   "execution_count": 7,
   "id": "rapid-explanation",
   "metadata": {
    "execution": {
     "iopub.execute_input": "2021-07-07T23:15:05.232659Z",
     "iopub.status.busy": "2021-07-07T23:15:05.232003Z",
     "iopub.status.idle": "2021-07-07T23:15:05.236782Z",
     "shell.execute_reply": "2021-07-07T23:15:05.236308Z",
     "shell.execute_reply.started": "2021-07-07T22:43:44.573619Z"
    },
    "papermill": {
     "duration": 0.038057,
     "end_time": "2021-07-07T23:15:05.236887",
     "exception": false,
     "start_time": "2021-07-07T23:15:05.198830",
     "status": "completed"
    },
    "tags": []
   },
   "outputs": [
    {
     "data": {
      "text/plain": [
       "3    491\n",
       "1    216\n",
       "2    184\n",
       "Name: Pclass, dtype: int64"
      ]
     },
     "execution_count": 7,
     "metadata": {},
     "output_type": "execute_result"
    }
   ],
   "source": [
    "df['Pclass'].value_counts()          # Age, Cabin, Embarked는 데이터를 채워넣어서 진행해야 함."
   ]
  },
  {
   "cell_type": "markdown",
   "id": "actual-marketplace",
   "metadata": {
    "papermill": {
     "duration": 0.026327,
     "end_time": "2021-07-07T23:15:05.289683",
     "exception": false,
     "start_time": "2021-07-07T23:15:05.263356",
     "status": "completed"
    },
    "tags": []
   },
   "source": [
    "* 연속형 : Fare\n",
    "* 분류형 : Sex, SibSp, Survived, Pclass, Parch,\n",
    "* label : Survived"
   ]
  },
  {
   "cell_type": "code",
   "execution_count": 8,
   "id": "spanish-guide",
   "metadata": {
    "execution": {
     "iopub.execute_input": "2021-07-07T23:15:05.345671Z",
     "iopub.status.busy": "2021-07-07T23:15:05.345205Z",
     "iopub.status.idle": "2021-07-07T23:15:05.371697Z",
     "shell.execute_reply": "2021-07-07T23:15:05.371287Z",
     "shell.execute_reply.started": "2021-07-07T22:43:44.590341Z"
    },
    "papermill": {
     "duration": 0.055631,
     "end_time": "2021-07-07T23:15:05.371813",
     "exception": false,
     "start_time": "2021-07-07T23:15:05.316182",
     "status": "completed"
    },
    "tags": []
   },
   "outputs": [
    {
     "data": {
      "text/html": [
       "<div>\n",
       "<style scoped>\n",
       "    .dataframe tbody tr th:only-of-type {\n",
       "        vertical-align: middle;\n",
       "    }\n",
       "\n",
       "    .dataframe tbody tr th {\n",
       "        vertical-align: top;\n",
       "    }\n",
       "\n",
       "    .dataframe thead th {\n",
       "        text-align: right;\n",
       "    }\n",
       "</style>\n",
       "<table border=\"1\" class=\"dataframe\">\n",
       "  <thead>\n",
       "    <tr style=\"text-align: right;\">\n",
       "      <th></th>\n",
       "      <th>Survived</th>\n",
       "      <th>Pclass</th>\n",
       "      <th>Sex</th>\n",
       "      <th>SibSp</th>\n",
       "      <th>Fare</th>\n",
       "    </tr>\n",
       "  </thead>\n",
       "  <tbody>\n",
       "    <tr>\n",
       "      <th>count</th>\n",
       "      <td>891.000000</td>\n",
       "      <td>891.000000</td>\n",
       "      <td>891</td>\n",
       "      <td>891.000000</td>\n",
       "      <td>891.000000</td>\n",
       "    </tr>\n",
       "    <tr>\n",
       "      <th>unique</th>\n",
       "      <td>NaN</td>\n",
       "      <td>NaN</td>\n",
       "      <td>2</td>\n",
       "      <td>NaN</td>\n",
       "      <td>NaN</td>\n",
       "    </tr>\n",
       "    <tr>\n",
       "      <th>top</th>\n",
       "      <td>NaN</td>\n",
       "      <td>NaN</td>\n",
       "      <td>male</td>\n",
       "      <td>NaN</td>\n",
       "      <td>NaN</td>\n",
       "    </tr>\n",
       "    <tr>\n",
       "      <th>freq</th>\n",
       "      <td>NaN</td>\n",
       "      <td>NaN</td>\n",
       "      <td>577</td>\n",
       "      <td>NaN</td>\n",
       "      <td>NaN</td>\n",
       "    </tr>\n",
       "    <tr>\n",
       "      <th>mean</th>\n",
       "      <td>0.383838</td>\n",
       "      <td>2.308642</td>\n",
       "      <td>NaN</td>\n",
       "      <td>0.523008</td>\n",
       "      <td>32.204208</td>\n",
       "    </tr>\n",
       "    <tr>\n",
       "      <th>std</th>\n",
       "      <td>0.486592</td>\n",
       "      <td>0.836071</td>\n",
       "      <td>NaN</td>\n",
       "      <td>1.102743</td>\n",
       "      <td>49.693429</td>\n",
       "    </tr>\n",
       "    <tr>\n",
       "      <th>min</th>\n",
       "      <td>0.000000</td>\n",
       "      <td>1.000000</td>\n",
       "      <td>NaN</td>\n",
       "      <td>0.000000</td>\n",
       "      <td>0.000000</td>\n",
       "    </tr>\n",
       "    <tr>\n",
       "      <th>25%</th>\n",
       "      <td>0.000000</td>\n",
       "      <td>2.000000</td>\n",
       "      <td>NaN</td>\n",
       "      <td>0.000000</td>\n",
       "      <td>7.910400</td>\n",
       "    </tr>\n",
       "    <tr>\n",
       "      <th>50%</th>\n",
       "      <td>0.000000</td>\n",
       "      <td>3.000000</td>\n",
       "      <td>NaN</td>\n",
       "      <td>0.000000</td>\n",
       "      <td>14.454200</td>\n",
       "    </tr>\n",
       "    <tr>\n",
       "      <th>75%</th>\n",
       "      <td>1.000000</td>\n",
       "      <td>3.000000</td>\n",
       "      <td>NaN</td>\n",
       "      <td>1.000000</td>\n",
       "      <td>31.000000</td>\n",
       "    </tr>\n",
       "    <tr>\n",
       "      <th>max</th>\n",
       "      <td>1.000000</td>\n",
       "      <td>3.000000</td>\n",
       "      <td>NaN</td>\n",
       "      <td>8.000000</td>\n",
       "      <td>512.329200</td>\n",
       "    </tr>\n",
       "  </tbody>\n",
       "</table>\n",
       "</div>"
      ],
      "text/plain": [
       "          Survived      Pclass   Sex       SibSp        Fare\n",
       "count   891.000000  891.000000   891  891.000000  891.000000\n",
       "unique         NaN         NaN     2         NaN         NaN\n",
       "top            NaN         NaN  male         NaN         NaN\n",
       "freq           NaN         NaN   577         NaN         NaN\n",
       "mean      0.383838    2.308642   NaN    0.523008   32.204208\n",
       "std       0.486592    0.836071   NaN    1.102743   49.693429\n",
       "min       0.000000    1.000000   NaN    0.000000    0.000000\n",
       "25%       0.000000    2.000000   NaN    0.000000    7.910400\n",
       "50%       0.000000    3.000000   NaN    0.000000   14.454200\n",
       "75%       1.000000    3.000000   NaN    1.000000   31.000000\n",
       "max       1.000000    3.000000   NaN    8.000000  512.329200"
      ]
     },
     "execution_count": 8,
     "metadata": {},
     "output_type": "execute_result"
    }
   ],
   "source": [
    "df.describe(include='all')"
   ]
  },
  {
   "cell_type": "code",
   "execution_count": 9,
   "id": "domestic-andrew",
   "metadata": {
    "execution": {
     "iopub.execute_input": "2021-07-07T23:15:05.431434Z",
     "iopub.status.busy": "2021-07-07T23:15:05.431000Z",
     "iopub.status.idle": "2021-07-07T23:15:05.433599Z",
     "shell.execute_reply": "2021-07-07T23:15:05.434014Z",
     "shell.execute_reply.started": "2021-07-07T22:43:44.625264Z"
    },
    "papermill": {
     "duration": 0.035717,
     "end_time": "2021-07-07T23:15:05.434127",
     "exception": false,
     "start_time": "2021-07-07T23:15:05.398410",
     "status": "completed"
    },
    "tags": []
   },
   "outputs": [
    {
     "data": {
      "text/plain": [
       "3    491\n",
       "1    216\n",
       "2    184\n",
       "Name: Pclass, dtype: int64"
      ]
     },
     "execution_count": 9,
     "metadata": {},
     "output_type": "execute_result"
    }
   ],
   "source": [
    "df['Pclass'].value_counts()"
   ]
  },
  {
   "cell_type": "code",
   "execution_count": 10,
   "id": "careful-hundred",
   "metadata": {
    "execution": {
     "iopub.execute_input": "2021-07-07T23:15:05.489382Z",
     "iopub.status.busy": "2021-07-07T23:15:05.488954Z",
     "iopub.status.idle": "2021-07-07T23:15:05.513339Z",
     "shell.execute_reply": "2021-07-07T23:15:05.512962Z",
     "shell.execute_reply.started": "2021-07-07T22:43:44.698210Z"
    },
    "papermill": {
     "duration": 0.05285,
     "end_time": "2021-07-07T23:15:05.513439",
     "exception": false,
     "start_time": "2021-07-07T23:15:05.460589",
     "status": "completed"
    },
    "tags": []
   },
   "outputs": [
    {
     "data": {
      "text/html": [
       "<div>\n",
       "<style scoped>\n",
       "    .dataframe tbody tr th:only-of-type {\n",
       "        vertical-align: middle;\n",
       "    }\n",
       "\n",
       "    .dataframe tbody tr th {\n",
       "        vertical-align: top;\n",
       "    }\n",
       "\n",
       "    .dataframe thead th {\n",
       "        text-align: right;\n",
       "    }\n",
       "</style>\n",
       "<table border=\"1\" class=\"dataframe\">\n",
       "  <thead>\n",
       "    <tr style=\"text-align: right;\">\n",
       "      <th></th>\n",
       "      <th>Survived</th>\n",
       "      <th>Fare</th>\n",
       "      <th>Pclass_1</th>\n",
       "      <th>Pclass_2</th>\n",
       "      <th>Pclass_3</th>\n",
       "      <th>Sex_female</th>\n",
       "      <th>Sex_male</th>\n",
       "      <th>SibSp_0</th>\n",
       "      <th>SibSp_1</th>\n",
       "      <th>SibSp_2</th>\n",
       "      <th>SibSp_3</th>\n",
       "      <th>SibSp_4</th>\n",
       "      <th>SibSp_5</th>\n",
       "      <th>SibSp_8</th>\n",
       "    </tr>\n",
       "  </thead>\n",
       "  <tbody>\n",
       "    <tr>\n",
       "      <th>0</th>\n",
       "      <td>0</td>\n",
       "      <td>7.2500</td>\n",
       "      <td>0</td>\n",
       "      <td>0</td>\n",
       "      <td>1</td>\n",
       "      <td>0</td>\n",
       "      <td>1</td>\n",
       "      <td>0</td>\n",
       "      <td>1</td>\n",
       "      <td>0</td>\n",
       "      <td>0</td>\n",
       "      <td>0</td>\n",
       "      <td>0</td>\n",
       "      <td>0</td>\n",
       "    </tr>\n",
       "    <tr>\n",
       "      <th>1</th>\n",
       "      <td>1</td>\n",
       "      <td>71.2833</td>\n",
       "      <td>1</td>\n",
       "      <td>0</td>\n",
       "      <td>0</td>\n",
       "      <td>1</td>\n",
       "      <td>0</td>\n",
       "      <td>0</td>\n",
       "      <td>1</td>\n",
       "      <td>0</td>\n",
       "      <td>0</td>\n",
       "      <td>0</td>\n",
       "      <td>0</td>\n",
       "      <td>0</td>\n",
       "    </tr>\n",
       "    <tr>\n",
       "      <th>2</th>\n",
       "      <td>1</td>\n",
       "      <td>7.9250</td>\n",
       "      <td>0</td>\n",
       "      <td>0</td>\n",
       "      <td>1</td>\n",
       "      <td>1</td>\n",
       "      <td>0</td>\n",
       "      <td>1</td>\n",
       "      <td>0</td>\n",
       "      <td>0</td>\n",
       "      <td>0</td>\n",
       "      <td>0</td>\n",
       "      <td>0</td>\n",
       "      <td>0</td>\n",
       "    </tr>\n",
       "    <tr>\n",
       "      <th>3</th>\n",
       "      <td>1</td>\n",
       "      <td>53.1000</td>\n",
       "      <td>1</td>\n",
       "      <td>0</td>\n",
       "      <td>0</td>\n",
       "      <td>1</td>\n",
       "      <td>0</td>\n",
       "      <td>0</td>\n",
       "      <td>1</td>\n",
       "      <td>0</td>\n",
       "      <td>0</td>\n",
       "      <td>0</td>\n",
       "      <td>0</td>\n",
       "      <td>0</td>\n",
       "    </tr>\n",
       "    <tr>\n",
       "      <th>4</th>\n",
       "      <td>0</td>\n",
       "      <td>8.0500</td>\n",
       "      <td>0</td>\n",
       "      <td>0</td>\n",
       "      <td>1</td>\n",
       "      <td>0</td>\n",
       "      <td>1</td>\n",
       "      <td>1</td>\n",
       "      <td>0</td>\n",
       "      <td>0</td>\n",
       "      <td>0</td>\n",
       "      <td>0</td>\n",
       "      <td>0</td>\n",
       "      <td>0</td>\n",
       "    </tr>\n",
       "    <tr>\n",
       "      <th>...</th>\n",
       "      <td>...</td>\n",
       "      <td>...</td>\n",
       "      <td>...</td>\n",
       "      <td>...</td>\n",
       "      <td>...</td>\n",
       "      <td>...</td>\n",
       "      <td>...</td>\n",
       "      <td>...</td>\n",
       "      <td>...</td>\n",
       "      <td>...</td>\n",
       "      <td>...</td>\n",
       "      <td>...</td>\n",
       "      <td>...</td>\n",
       "      <td>...</td>\n",
       "    </tr>\n",
       "    <tr>\n",
       "      <th>886</th>\n",
       "      <td>0</td>\n",
       "      <td>13.0000</td>\n",
       "      <td>0</td>\n",
       "      <td>1</td>\n",
       "      <td>0</td>\n",
       "      <td>0</td>\n",
       "      <td>1</td>\n",
       "      <td>1</td>\n",
       "      <td>0</td>\n",
       "      <td>0</td>\n",
       "      <td>0</td>\n",
       "      <td>0</td>\n",
       "      <td>0</td>\n",
       "      <td>0</td>\n",
       "    </tr>\n",
       "    <tr>\n",
       "      <th>887</th>\n",
       "      <td>1</td>\n",
       "      <td>30.0000</td>\n",
       "      <td>1</td>\n",
       "      <td>0</td>\n",
       "      <td>0</td>\n",
       "      <td>1</td>\n",
       "      <td>0</td>\n",
       "      <td>1</td>\n",
       "      <td>0</td>\n",
       "      <td>0</td>\n",
       "      <td>0</td>\n",
       "      <td>0</td>\n",
       "      <td>0</td>\n",
       "      <td>0</td>\n",
       "    </tr>\n",
       "    <tr>\n",
       "      <th>888</th>\n",
       "      <td>0</td>\n",
       "      <td>23.4500</td>\n",
       "      <td>0</td>\n",
       "      <td>0</td>\n",
       "      <td>1</td>\n",
       "      <td>1</td>\n",
       "      <td>0</td>\n",
       "      <td>0</td>\n",
       "      <td>1</td>\n",
       "      <td>0</td>\n",
       "      <td>0</td>\n",
       "      <td>0</td>\n",
       "      <td>0</td>\n",
       "      <td>0</td>\n",
       "    </tr>\n",
       "    <tr>\n",
       "      <th>889</th>\n",
       "      <td>1</td>\n",
       "      <td>30.0000</td>\n",
       "      <td>1</td>\n",
       "      <td>0</td>\n",
       "      <td>0</td>\n",
       "      <td>0</td>\n",
       "      <td>1</td>\n",
       "      <td>1</td>\n",
       "      <td>0</td>\n",
       "      <td>0</td>\n",
       "      <td>0</td>\n",
       "      <td>0</td>\n",
       "      <td>0</td>\n",
       "      <td>0</td>\n",
       "    </tr>\n",
       "    <tr>\n",
       "      <th>890</th>\n",
       "      <td>0</td>\n",
       "      <td>7.7500</td>\n",
       "      <td>0</td>\n",
       "      <td>0</td>\n",
       "      <td>1</td>\n",
       "      <td>0</td>\n",
       "      <td>1</td>\n",
       "      <td>1</td>\n",
       "      <td>0</td>\n",
       "      <td>0</td>\n",
       "      <td>0</td>\n",
       "      <td>0</td>\n",
       "      <td>0</td>\n",
       "      <td>0</td>\n",
       "    </tr>\n",
       "  </tbody>\n",
       "</table>\n",
       "<p>891 rows × 14 columns</p>\n",
       "</div>"
      ],
      "text/plain": [
       "     Survived     Fare  Pclass_1  Pclass_2  Pclass_3  Sex_female  Sex_male  \\\n",
       "0           0   7.2500         0         0         1           0         1   \n",
       "1           1  71.2833         1         0         0           1         0   \n",
       "2           1   7.9250         0         0         1           1         0   \n",
       "3           1  53.1000         1         0         0           1         0   \n",
       "4           0   8.0500         0         0         1           0         1   \n",
       "..        ...      ...       ...       ...       ...         ...       ...   \n",
       "886         0  13.0000         0         1         0           0         1   \n",
       "887         1  30.0000         1         0         0           1         0   \n",
       "888         0  23.4500         0         0         1           1         0   \n",
       "889         1  30.0000         1         0         0           0         1   \n",
       "890         0   7.7500         0         0         1           0         1   \n",
       "\n",
       "     SibSp_0  SibSp_1  SibSp_2  SibSp_3  SibSp_4  SibSp_5  SibSp_8  \n",
       "0          0        1        0        0        0        0        0  \n",
       "1          0        1        0        0        0        0        0  \n",
       "2          1        0        0        0        0        0        0  \n",
       "3          0        1        0        0        0        0        0  \n",
       "4          1        0        0        0        0        0        0  \n",
       "..       ...      ...      ...      ...      ...      ...      ...  \n",
       "886        1        0        0        0        0        0        0  \n",
       "887        1        0        0        0        0        0        0  \n",
       "888        0        1        0        0        0        0        0  \n",
       "889        1        0        0        0        0        0        0  \n",
       "890        1        0        0        0        0        0        0  \n",
       "\n",
       "[891 rows x 14 columns]"
      ]
     },
     "execution_count": 10,
     "metadata": {},
     "output_type": "execute_result"
    }
   ],
   "source": [
    "df_train = pd.get_dummies(df, columns = ['Pclass', 'Sex','SibSp'])\n",
    "df_train"
   ]
  },
  {
   "cell_type": "code",
   "execution_count": 11,
   "id": "digital-triangle",
   "metadata": {
    "execution": {
     "iopub.execute_input": "2021-07-07T23:15:05.572468Z",
     "iopub.status.busy": "2021-07-07T23:15:05.572059Z",
     "iopub.status.idle": "2021-07-07T23:15:05.575706Z",
     "shell.execute_reply": "2021-07-07T23:15:05.576157Z",
     "shell.execute_reply.started": "2021-07-07T22:43:44.730491Z"
    },
    "papermill": {
     "duration": 0.035906,
     "end_time": "2021-07-07T23:15:05.576273",
     "exception": false,
     "start_time": "2021-07-07T23:15:05.540367",
     "status": "completed"
    },
    "tags": []
   },
   "outputs": [
    {
     "data": {
      "text/plain": [
       "(Index(['Survived', 'Fare', 'Pclass_1', 'Pclass_2', 'Pclass_3', 'Sex_female',\n",
       "        'Sex_male', 'SibSp_0', 'SibSp_1', 'SibSp_2', 'SibSp_3', 'SibSp_4',\n",
       "        'SibSp_5', 'SibSp_8'],\n",
       "       dtype='object'),\n",
       " (891, 14))"
      ]
     },
     "execution_count": 11,
     "metadata": {},
     "output_type": "execute_result"
    }
   ],
   "source": [
    "df_train.columns, df_train.shape"
   ]
  },
  {
   "cell_type": "code",
   "execution_count": 12,
   "id": "legendary-trinity",
   "metadata": {
    "execution": {
     "iopub.execute_input": "2021-07-07T23:15:05.632880Z",
     "iopub.status.busy": "2021-07-07T23:15:05.632442Z",
     "iopub.status.idle": "2021-07-07T23:15:05.638760Z",
     "shell.execute_reply": "2021-07-07T23:15:05.639190Z",
     "shell.execute_reply.started": "2021-07-07T22:43:44.740097Z"
    },
    "papermill": {
     "duration": 0.035869,
     "end_time": "2021-07-07T23:15:05.639300",
     "exception": false,
     "start_time": "2021-07-07T23:15:05.603431",
     "status": "completed"
    },
    "tags": []
   },
   "outputs": [],
   "source": [
    "Y = df_train['Survived']\n",
    "X = df_train[['Fare', 'Pclass_1', 'Pclass_2', 'Pclass_3', 'Sex_female',\n",
    "        'Sex_male', 'SibSp_0', 'SibSp_1', 'SibSp_2', 'SibSp_3', 'SibSp_4',\n",
    "        'SibSp_5', 'SibSp_8']]\n",
    "_X = df_train.drop(['Survived'], axis=1)"
   ]
  },
  {
   "cell_type": "code",
   "execution_count": 13,
   "id": "spread-marsh",
   "metadata": {
    "execution": {
     "iopub.execute_input": "2021-07-07T23:15:05.695872Z",
     "iopub.status.busy": "2021-07-07T23:15:05.695438Z",
     "iopub.status.idle": "2021-07-07T23:15:05.700373Z",
     "shell.execute_reply": "2021-07-07T23:15:05.700792Z",
     "shell.execute_reply.started": "2021-07-07T22:43:44.754472Z"
    },
    "papermill": {
     "duration": 0.034573,
     "end_time": "2021-07-07T23:15:05.700899",
     "exception": false,
     "start_time": "2021-07-07T23:15:05.666326",
     "status": "completed"
    },
    "tags": []
   },
   "outputs": [
    {
     "data": {
      "text/plain": [
       "((891,), (891, 13), (891, 13))"
      ]
     },
     "execution_count": 13,
     "metadata": {},
     "output_type": "execute_result"
    }
   ],
   "source": [
    "Y.shape, X.shape, _X.shape"
   ]
  },
  {
   "cell_type": "code",
   "execution_count": 14,
   "id": "breathing-china",
   "metadata": {
    "execution": {
     "iopub.execute_input": "2021-07-07T23:15:05.758563Z",
     "iopub.status.busy": "2021-07-07T23:15:05.758137Z",
     "iopub.status.idle": "2021-07-07T23:15:06.644410Z",
     "shell.execute_reply": "2021-07-07T23:15:06.644783Z",
     "shell.execute_reply.started": "2021-07-07T22:43:44.770349Z"
    },
    "papermill": {
     "duration": 0.916657,
     "end_time": "2021-07-07T23:15:06.644918",
     "exception": false,
     "start_time": "2021-07-07T23:15:05.728261",
     "status": "completed"
    },
    "tags": []
   },
   "outputs": [],
   "source": [
    "from sklearn import preprocessing"
   ]
  },
  {
   "cell_type": "code",
   "execution_count": 15,
   "id": "social-brown",
   "metadata": {
    "execution": {
     "iopub.execute_input": "2021-07-07T23:15:06.705574Z",
     "iopub.status.busy": "2021-07-07T23:15:06.705091Z",
     "iopub.status.idle": "2021-07-07T23:15:06.708028Z",
     "shell.execute_reply": "2021-07-07T23:15:06.707589Z",
     "shell.execute_reply.started": "2021-07-07T22:43:44.782596Z"
    },
    "papermill": {
     "duration": 0.035544,
     "end_time": "2021-07-07T23:15:06.708133",
     "exception": false,
     "start_time": "2021-07-07T23:15:06.672589",
     "status": "completed"
    },
    "tags": []
   },
   "outputs": [],
   "source": [
    "scaler = preprocessing.StandardScaler()"
   ]
  },
  {
   "cell_type": "code",
   "execution_count": 16,
   "id": "quiet-kentucky",
   "metadata": {
    "execution": {
     "iopub.execute_input": "2021-07-07T23:15:06.767215Z",
     "iopub.status.busy": "2021-07-07T23:15:06.766754Z",
     "iopub.status.idle": "2021-07-07T23:15:06.778206Z",
     "shell.execute_reply": "2021-07-07T23:15:06.777778Z",
     "shell.execute_reply.started": "2021-07-07T22:43:44.792320Z"
    },
    "papermill": {
     "duration": 0.041426,
     "end_time": "2021-07-07T23:15:06.778313",
     "exception": false,
     "start_time": "2021-07-07T23:15:06.736887",
     "status": "completed"
    },
    "tags": []
   },
   "outputs": [
    {
     "data": {
      "text/plain": [
       "StandardScaler()"
      ]
     },
     "execution_count": 16,
     "metadata": {},
     "output_type": "execute_result"
    }
   ],
   "source": [
    "scaler.fit(X)"
   ]
  },
  {
   "cell_type": "code",
   "execution_count": 17,
   "id": "going-atlanta",
   "metadata": {
    "execution": {
     "iopub.execute_input": "2021-07-07T23:15:06.860661Z",
     "iopub.status.busy": "2021-07-07T23:15:06.859974Z",
     "iopub.status.idle": "2021-07-07T23:15:06.863945Z",
     "shell.execute_reply": "2021-07-07T23:15:06.863308Z",
     "shell.execute_reply.started": "2021-07-07T22:43:44.808983Z"
    },
    "papermill": {
     "duration": 0.053041,
     "end_time": "2021-07-07T23:15:06.864074",
     "exception": false,
     "start_time": "2021-07-07T23:15:06.811033",
     "status": "completed"
    },
    "tags": []
   },
   "outputs": [],
   "source": [
    "X = scaler.transform(X)"
   ]
  },
  {
   "cell_type": "code",
   "execution_count": 18,
   "id": "unlikely-eugene",
   "metadata": {
    "execution": {
     "iopub.execute_input": "2021-07-07T23:15:06.952104Z",
     "iopub.status.busy": "2021-07-07T23:15:06.951655Z",
     "iopub.status.idle": "2021-07-07T23:15:06.958512Z",
     "shell.execute_reply": "2021-07-07T23:15:06.958027Z",
     "shell.execute_reply.started": "2021-07-07T22:43:44.822330Z"
    },
    "papermill": {
     "duration": 0.051891,
     "end_time": "2021-07-07T23:15:06.958651",
     "exception": false,
     "start_time": "2021-07-07T23:15:06.906760",
     "status": "completed"
    },
    "tags": []
   },
   "outputs": [
    {
     "data": {
      "text/plain": [
       "(891, 13)"
      ]
     },
     "execution_count": 18,
     "metadata": {},
     "output_type": "execute_result"
    }
   ],
   "source": [
    "X.shape"
   ]
  },
  {
   "cell_type": "code",
   "execution_count": 19,
   "id": "supposed-juice",
   "metadata": {
    "execution": {
     "iopub.execute_input": "2021-07-07T23:15:07.048490Z",
     "iopub.status.busy": "2021-07-07T23:15:07.047913Z",
     "iopub.status.idle": "2021-07-07T23:15:07.110333Z",
     "shell.execute_reply": "2021-07-07T23:15:07.109821Z",
     "shell.execute_reply.started": "2021-07-07T22:43:44.835876Z"
    },
    "papermill": {
     "duration": 0.108554,
     "end_time": "2021-07-07T23:15:07.110493",
     "exception": false,
     "start_time": "2021-07-07T23:15:07.001939",
     "status": "completed"
    },
    "tags": []
   },
   "outputs": [],
   "source": [
    "from sklearn.model_selection import train_test_split"
   ]
  },
  {
   "cell_type": "code",
   "execution_count": 20,
   "id": "chief-moderator",
   "metadata": {
    "execution": {
     "iopub.execute_input": "2021-07-07T23:15:07.201811Z",
     "iopub.status.busy": "2021-07-07T23:15:07.201103Z",
     "iopub.status.idle": "2021-07-07T23:15:07.204072Z",
     "shell.execute_reply": "2021-07-07T23:15:07.203576Z",
     "shell.execute_reply.started": "2021-07-07T22:43:44.845097Z"
    },
    "papermill": {
     "duration": 0.050311,
     "end_time": "2021-07-07T23:15:07.204190",
     "exception": false,
     "start_time": "2021-07-07T23:15:07.153879",
     "status": "completed"
    },
    "tags": []
   },
   "outputs": [],
   "source": [
    "x_train, x_test, y_train, y_test = train_test_split(X, Y)"
   ]
  },
  {
   "cell_type": "code",
   "execution_count": 21,
   "id": "eastern-production",
   "metadata": {
    "execution": {
     "iopub.execute_input": "2021-07-07T23:15:07.295205Z",
     "iopub.status.busy": "2021-07-07T23:15:07.294772Z",
     "iopub.status.idle": "2021-07-07T23:15:07.299477Z",
     "shell.execute_reply": "2021-07-07T23:15:07.298903Z",
     "shell.execute_reply.started": "2021-07-07T22:43:44.857040Z"
    },
    "papermill": {
     "duration": 0.052225,
     "end_time": "2021-07-07T23:15:07.299636",
     "exception": false,
     "start_time": "2021-07-07T23:15:07.247411",
     "status": "completed"
    },
    "tags": []
   },
   "outputs": [
    {
     "data": {
      "text/plain": [
       "((668, 13), (223, 13), (668,), (223,))"
      ]
     },
     "execution_count": 21,
     "metadata": {},
     "output_type": "execute_result"
    }
   ],
   "source": [
    "x_train.shape, x_test.shape, y_train.shape, y_test.shape"
   ]
  },
  {
   "cell_type": "code",
   "execution_count": 22,
   "id": "organizational-discipline",
   "metadata": {
    "execution": {
     "iopub.execute_input": "2021-07-07T23:15:07.393041Z",
     "iopub.status.busy": "2021-07-07T23:15:07.392368Z",
     "iopub.status.idle": "2021-07-07T23:15:07.469404Z",
     "shell.execute_reply": "2021-07-07T23:15:07.467935Z",
     "shell.execute_reply.started": "2021-07-07T22:43:44.870798Z"
    },
    "papermill": {
     "duration": 0.12533,
     "end_time": "2021-07-07T23:15:07.469600",
     "exception": false,
     "start_time": "2021-07-07T23:15:07.344270",
     "status": "completed"
    },
    "tags": []
   },
   "outputs": [],
   "source": [
    "import xgboost"
   ]
  },
  {
   "cell_type": "code",
   "execution_count": 23,
   "id": "accessible-programmer",
   "metadata": {
    "execution": {
     "iopub.execute_input": "2021-07-07T23:15:07.564963Z",
     "iopub.status.busy": "2021-07-07T23:15:07.564234Z",
     "iopub.status.idle": "2021-07-07T23:15:07.568701Z",
     "shell.execute_reply": "2021-07-07T23:15:07.568230Z",
     "shell.execute_reply.started": "2021-07-07T22:43:44.882939Z"
    },
    "papermill": {
     "duration": 0.054418,
     "end_time": "2021-07-07T23:15:07.568802",
     "exception": false,
     "start_time": "2021-07-07T23:15:07.514384",
     "status": "completed"
    },
    "tags": []
   },
   "outputs": [
    {
     "data": {
      "text/plain": [
       "XGBRegressor(base_score=None, booster=None, colsample_bylevel=None,\n",
       "             colsample_bynode=None, colsample_bytree=None, gamma=None,\n",
       "             gpu_id=None, importance_type='gain', interaction_constraints=None,\n",
       "             learning_rate=None, max_delta_step=None, max_depth=None,\n",
       "             min_child_weight=None, missing=nan, monotone_constraints=None,\n",
       "             n_estimators=100, n_jobs=None, num_parallel_tree=None,\n",
       "             random_state=None, reg_alpha=None, reg_lambda=None,\n",
       "             scale_pos_weight=None, subsample=None, tree_method=None,\n",
       "             validate_parameters=None, verbosity=None)"
      ]
     },
     "execution_count": 23,
     "metadata": {},
     "output_type": "execute_result"
    }
   ],
   "source": [
    "xgb = xgboost.XGBRegressor()\n",
    "xgb"
   ]
  },
  {
   "cell_type": "code",
   "execution_count": 24,
   "id": "rising-recipe",
   "metadata": {
    "execution": {
     "iopub.execute_input": "2021-07-07T23:15:07.631789Z",
     "iopub.status.busy": "2021-07-07T23:15:07.631134Z",
     "iopub.status.idle": "2021-07-07T23:15:07.800611Z",
     "shell.execute_reply": "2021-07-07T23:15:07.799273Z",
     "shell.execute_reply.started": "2021-07-07T22:43:44.898227Z"
    },
    "papermill": {
     "duration": 0.202585,
     "end_time": "2021-07-07T23:15:07.800748",
     "exception": false,
     "start_time": "2021-07-07T23:15:07.598163",
     "status": "completed"
    },
    "tags": []
   },
   "outputs": [
    {
     "data": {
      "text/plain": [
       "XGBRegressor(base_score=0.5, booster='gbtree', colsample_bylevel=1,\n",
       "             colsample_bynode=1, colsample_bytree=1, gamma=0, gpu_id=-1,\n",
       "             importance_type='gain', interaction_constraints='',\n",
       "             learning_rate=0.300000012, max_delta_step=0, max_depth=6,\n",
       "             min_child_weight=1, missing=nan, monotone_constraints='()',\n",
       "             n_estimators=100, n_jobs=4, num_parallel_tree=1, random_state=0,\n",
       "             reg_alpha=0, reg_lambda=1, scale_pos_weight=1, subsample=1,\n",
       "             tree_method='exact', validate_parameters=1, verbosity=None)"
      ]
     },
     "execution_count": 24,
     "metadata": {},
     "output_type": "execute_result"
    }
   ],
   "source": [
    "xgb.fit(x_train, y_train)"
   ]
  },
  {
   "cell_type": "code",
   "execution_count": 25,
   "id": "better-season",
   "metadata": {
    "execution": {
     "iopub.execute_input": "2021-07-07T23:15:07.907155Z",
     "iopub.status.busy": "2021-07-07T23:15:07.906402Z",
     "iopub.status.idle": "2021-07-07T23:15:07.926149Z",
     "shell.execute_reply": "2021-07-07T23:15:07.926837Z",
     "shell.execute_reply.started": "2021-07-07T22:43:44.992871Z"
    },
    "papermill": {
     "duration": 0.08061,
     "end_time": "2021-07-07T23:15:07.927016",
     "exception": false,
     "start_time": "2021-07-07T23:15:07.846406",
     "status": "completed"
    },
    "tags": []
   },
   "outputs": [
    {
     "data": {
      "text/plain": [
       "0.7701701335895167"
      ]
     },
     "execution_count": 25,
     "metadata": {},
     "output_type": "execute_result"
    }
   ],
   "source": [
    "xgb.score(x_train, y_train)"
   ]
  },
  {
   "cell_type": "code",
   "execution_count": 26,
   "id": "increasing-microphone",
   "metadata": {
    "execution": {
     "iopub.execute_input": "2021-07-07T23:15:08.035089Z",
     "iopub.status.busy": "2021-07-07T23:15:08.034490Z",
     "iopub.status.idle": "2021-07-07T23:15:08.041397Z",
     "shell.execute_reply": "2021-07-07T23:15:08.042075Z",
     "shell.execute_reply.started": "2021-07-07T22:43:45.011518Z"
    },
    "papermill": {
     "duration": 0.062943,
     "end_time": "2021-07-07T23:15:08.042226",
     "exception": false,
     "start_time": "2021-07-07T23:15:07.979283",
     "status": "completed"
    },
    "tags": []
   },
   "outputs": [
    {
     "data": {
      "text/plain": [
       "0.30757948754744757"
      ]
     },
     "execution_count": 26,
     "metadata": {},
     "output_type": "execute_result"
    }
   ],
   "source": [
    "xgb.score(x_test, y_test)"
   ]
  },
  {
   "cell_type": "markdown",
   "id": "functional-draft",
   "metadata": {
    "papermill": {
     "duration": 0.030698,
     "end_time": "2021-07-07T23:15:08.103925",
     "exception": false,
     "start_time": "2021-07-07T23:15:08.073227",
     "status": "completed"
    },
    "tags": []
   },
   "source": [
    "/kaggle/input/titanic/test.csv\n",
    "\n",
    "/kaggle/input/titanic/gender_submission.csv"
   ]
  },
  {
   "cell_type": "code",
   "execution_count": 27,
   "id": "preceding-alliance",
   "metadata": {
    "execution": {
     "iopub.execute_input": "2021-07-07T23:15:08.169085Z",
     "iopub.status.busy": "2021-07-07T23:15:08.168465Z",
     "iopub.status.idle": "2021-07-07T23:15:08.188406Z",
     "shell.execute_reply": "2021-07-07T23:15:08.188009Z",
     "shell.execute_reply.started": "2021-07-07T22:43:45.025874Z"
    },
    "papermill": {
     "duration": 0.053852,
     "end_time": "2021-07-07T23:15:08.188508",
     "exception": false,
     "start_time": "2021-07-07T23:15:08.134656",
     "status": "completed"
    },
    "tags": []
   },
   "outputs": [
    {
     "data": {
      "text/html": [
       "<div>\n",
       "<style scoped>\n",
       "    .dataframe tbody tr th:only-of-type {\n",
       "        vertical-align: middle;\n",
       "    }\n",
       "\n",
       "    .dataframe tbody tr th {\n",
       "        vertical-align: top;\n",
       "    }\n",
       "\n",
       "    .dataframe thead th {\n",
       "        text-align: right;\n",
       "    }\n",
       "</style>\n",
       "<table border=\"1\" class=\"dataframe\">\n",
       "  <thead>\n",
       "    <tr style=\"text-align: right;\">\n",
       "      <th></th>\n",
       "      <th>PassengerId</th>\n",
       "      <th>Pclass</th>\n",
       "      <th>Name</th>\n",
       "      <th>Sex</th>\n",
       "      <th>Age</th>\n",
       "      <th>SibSp</th>\n",
       "      <th>Parch</th>\n",
       "      <th>Ticket</th>\n",
       "      <th>Fare</th>\n",
       "      <th>Cabin</th>\n",
       "      <th>Embarked</th>\n",
       "    </tr>\n",
       "  </thead>\n",
       "  <tbody>\n",
       "    <tr>\n",
       "      <th>0</th>\n",
       "      <td>892</td>\n",
       "      <td>3</td>\n",
       "      <td>Kelly, Mr. James</td>\n",
       "      <td>male</td>\n",
       "      <td>34.5</td>\n",
       "      <td>0</td>\n",
       "      <td>0</td>\n",
       "      <td>330911</td>\n",
       "      <td>7.8292</td>\n",
       "      <td>NaN</td>\n",
       "      <td>Q</td>\n",
       "    </tr>\n",
       "    <tr>\n",
       "      <th>1</th>\n",
       "      <td>893</td>\n",
       "      <td>3</td>\n",
       "      <td>Wilkes, Mrs. James (Ellen Needs)</td>\n",
       "      <td>female</td>\n",
       "      <td>47.0</td>\n",
       "      <td>1</td>\n",
       "      <td>0</td>\n",
       "      <td>363272</td>\n",
       "      <td>7.0000</td>\n",
       "      <td>NaN</td>\n",
       "      <td>S</td>\n",
       "    </tr>\n",
       "    <tr>\n",
       "      <th>2</th>\n",
       "      <td>894</td>\n",
       "      <td>2</td>\n",
       "      <td>Myles, Mr. Thomas Francis</td>\n",
       "      <td>male</td>\n",
       "      <td>62.0</td>\n",
       "      <td>0</td>\n",
       "      <td>0</td>\n",
       "      <td>240276</td>\n",
       "      <td>9.6875</td>\n",
       "      <td>NaN</td>\n",
       "      <td>Q</td>\n",
       "    </tr>\n",
       "  </tbody>\n",
       "</table>\n",
       "</div>"
      ],
      "text/plain": [
       "   PassengerId  Pclass                              Name     Sex   Age  SibSp  \\\n",
       "0          892       3                  Kelly, Mr. James    male  34.5      0   \n",
       "1          893       3  Wilkes, Mrs. James (Ellen Needs)  female  47.0      1   \n",
       "2          894       2         Myles, Mr. Thomas Francis    male  62.0      0   \n",
       "\n",
       "   Parch  Ticket    Fare Cabin Embarked  \n",
       "0      0  330911  7.8292   NaN        Q  \n",
       "1      0  363272  7.0000   NaN        S  \n",
       "2      0  240276  9.6875   NaN        Q  "
      ]
     },
     "execution_count": 27,
     "metadata": {},
     "output_type": "execute_result"
    }
   ],
   "source": [
    "df_ = pd.read_csv('/kaggle/input/titanic/test.csv')\n",
    "df_.head(3)"
   ]
  },
  {
   "cell_type": "code",
   "execution_count": 28,
   "id": "forward-purchase",
   "metadata": {
    "execution": {
     "iopub.execute_input": "2021-07-07T23:15:08.252084Z",
     "iopub.status.busy": "2021-07-07T23:15:08.251654Z",
     "iopub.status.idle": "2021-07-07T23:15:08.263396Z",
     "shell.execute_reply": "2021-07-07T23:15:08.263838Z",
     "shell.execute_reply.started": "2021-07-07T22:43:45.050233Z"
    },
    "papermill": {
     "duration": 0.045013,
     "end_time": "2021-07-07T23:15:08.263984",
     "exception": false,
     "start_time": "2021-07-07T23:15:08.218971",
     "status": "completed"
    },
    "tags": []
   },
   "outputs": [
    {
     "data": {
      "text/html": [
       "<div>\n",
       "<style scoped>\n",
       "    .dataframe tbody tr th:only-of-type {\n",
       "        vertical-align: middle;\n",
       "    }\n",
       "\n",
       "    .dataframe tbody tr th {\n",
       "        vertical-align: top;\n",
       "    }\n",
       "\n",
       "    .dataframe thead th {\n",
       "        text-align: right;\n",
       "    }\n",
       "</style>\n",
       "<table border=\"1\" class=\"dataframe\">\n",
       "  <thead>\n",
       "    <tr style=\"text-align: right;\">\n",
       "      <th></th>\n",
       "      <th>Pclass</th>\n",
       "      <th>Sex</th>\n",
       "      <th>SibSp</th>\n",
       "      <th>Fare</th>\n",
       "    </tr>\n",
       "  </thead>\n",
       "  <tbody>\n",
       "    <tr>\n",
       "      <th>0</th>\n",
       "      <td>3</td>\n",
       "      <td>male</td>\n",
       "      <td>0</td>\n",
       "      <td>7.8292</td>\n",
       "    </tr>\n",
       "    <tr>\n",
       "      <th>1</th>\n",
       "      <td>3</td>\n",
       "      <td>female</td>\n",
       "      <td>1</td>\n",
       "      <td>7.0000</td>\n",
       "    </tr>\n",
       "    <tr>\n",
       "      <th>2</th>\n",
       "      <td>2</td>\n",
       "      <td>male</td>\n",
       "      <td>0</td>\n",
       "      <td>9.6875</td>\n",
       "    </tr>\n",
       "    <tr>\n",
       "      <th>3</th>\n",
       "      <td>3</td>\n",
       "      <td>male</td>\n",
       "      <td>0</td>\n",
       "      <td>8.6625</td>\n",
       "    </tr>\n",
       "    <tr>\n",
       "      <th>4</th>\n",
       "      <td>3</td>\n",
       "      <td>female</td>\n",
       "      <td>1</td>\n",
       "      <td>12.2875</td>\n",
       "    </tr>\n",
       "    <tr>\n",
       "      <th>...</th>\n",
       "      <td>...</td>\n",
       "      <td>...</td>\n",
       "      <td>...</td>\n",
       "      <td>...</td>\n",
       "    </tr>\n",
       "    <tr>\n",
       "      <th>413</th>\n",
       "      <td>3</td>\n",
       "      <td>male</td>\n",
       "      <td>0</td>\n",
       "      <td>8.0500</td>\n",
       "    </tr>\n",
       "    <tr>\n",
       "      <th>414</th>\n",
       "      <td>1</td>\n",
       "      <td>female</td>\n",
       "      <td>0</td>\n",
       "      <td>108.9000</td>\n",
       "    </tr>\n",
       "    <tr>\n",
       "      <th>415</th>\n",
       "      <td>3</td>\n",
       "      <td>male</td>\n",
       "      <td>0</td>\n",
       "      <td>7.2500</td>\n",
       "    </tr>\n",
       "    <tr>\n",
       "      <th>416</th>\n",
       "      <td>3</td>\n",
       "      <td>male</td>\n",
       "      <td>0</td>\n",
       "      <td>8.0500</td>\n",
       "    </tr>\n",
       "    <tr>\n",
       "      <th>417</th>\n",
       "      <td>3</td>\n",
       "      <td>male</td>\n",
       "      <td>1</td>\n",
       "      <td>22.3583</td>\n",
       "    </tr>\n",
       "  </tbody>\n",
       "</table>\n",
       "<p>418 rows × 4 columns</p>\n",
       "</div>"
      ],
      "text/plain": [
       "     Pclass     Sex  SibSp      Fare\n",
       "0         3    male      0    7.8292\n",
       "1         3  female      1    7.0000\n",
       "2         2    male      0    9.6875\n",
       "3         3    male      0    8.6625\n",
       "4         3  female      1   12.2875\n",
       "..      ...     ...    ...       ...\n",
       "413       3    male      0    8.0500\n",
       "414       1  female      0  108.9000\n",
       "415       3    male      0    7.2500\n",
       "416       3    male      0    8.0500\n",
       "417       3    male      1   22.3583\n",
       "\n",
       "[418 rows x 4 columns]"
      ]
     },
     "execution_count": 28,
     "metadata": {},
     "output_type": "execute_result"
    }
   ],
   "source": [
    "df_test = df_[['Pclass', 'Sex', 'SibSp', 'Fare']]\n",
    "df_test"
   ]
  },
  {
   "cell_type": "code",
   "execution_count": 29,
   "id": "registered-remainder",
   "metadata": {
    "execution": {
     "iopub.execute_input": "2021-07-07T23:15:08.327464Z",
     "iopub.status.busy": "2021-07-07T23:15:08.326991Z",
     "iopub.status.idle": "2021-07-07T23:15:08.335629Z",
     "shell.execute_reply": "2021-07-07T23:15:08.335217Z",
     "shell.execute_reply.started": "2021-07-07T22:43:45.070445Z"
    },
    "papermill": {
     "duration": 0.04126,
     "end_time": "2021-07-07T23:15:08.335734",
     "exception": false,
     "start_time": "2021-07-07T23:15:08.294474",
     "status": "completed"
    },
    "tags": []
   },
   "outputs": [
    {
     "data": {
      "text/plain": [
       "Index(['Fare', 'Pclass_1', 'Pclass_2', 'Pclass_3', 'Sex_female', 'Sex_male',\n",
       "       'SibSp_0', 'SibSp_1', 'SibSp_2', 'SibSp_3', 'SibSp_4', 'SibSp_5',\n",
       "       'SibSp_8'],\n",
       "      dtype='object')"
      ]
     },
     "execution_count": 29,
     "metadata": {},
     "output_type": "execute_result"
    }
   ],
   "source": [
    "df_test = pd.get_dummies(df_test, columns = ['Pclass','Sex','SibSp'])\n",
    "df_test.columns"
   ]
  },
  {
   "cell_type": "code",
   "execution_count": 30,
   "id": "exotic-frost",
   "metadata": {
    "execution": {
     "iopub.execute_input": "2021-07-07T23:15:08.408402Z",
     "iopub.status.busy": "2021-07-07T23:15:08.407816Z",
     "iopub.status.idle": "2021-07-07T23:15:08.412867Z",
     "shell.execute_reply": "2021-07-07T23:15:08.412383Z",
     "shell.execute_reply.started": "2021-07-07T22:50:23.265687Z"
    },
    "papermill": {
     "duration": 0.044871,
     "end_time": "2021-07-07T23:15:08.412978",
     "exception": false,
     "start_time": "2021-07-07T23:15:08.368107",
     "status": "completed"
    },
    "tags": []
   },
   "outputs": [
    {
     "data": {
      "text/plain": [
       "(array([[-0.49078316, -0.56568542, -0.51015154, ..., -0.14359163,\n",
       "         -0.07512217, -0.08898625],\n",
       "        [-0.50747884, -0.56568542, -0.51015154, ..., -0.14359163,\n",
       "         -0.07512217, -0.08898625],\n",
       "        [-0.45336687, -0.56568542,  1.96020185, ..., -0.14359163,\n",
       "         -0.07512217, -0.08898625],\n",
       "        ...,\n",
       "        [-0.50244517, -0.56568542, -0.51015154, ..., -0.14359163,\n",
       "         -0.07512217, -0.08898625],\n",
       "        [-0.48633742, -0.56568542, -0.51015154, ..., -0.14359163,\n",
       "         -0.07512217, -0.08898625],\n",
       "        [-0.19824428, -0.56568542, -0.51015154, ..., -0.14359163,\n",
       "         -0.07512217, -0.08898625]]),\n",
       " (418, 13))"
      ]
     },
     "execution_count": 30,
     "metadata": {},
     "output_type": "execute_result"
    }
   ],
   "source": [
    "X_TEST = scaler.transform(df_test)\n",
    "X_TEST, X_TEST.shape"
   ]
  },
  {
   "cell_type": "code",
   "execution_count": 31,
   "id": "cellular-thomas",
   "metadata": {
    "execution": {
     "iopub.execute_input": "2021-07-07T23:15:08.481829Z",
     "iopub.status.busy": "2021-07-07T23:15:08.481242Z",
     "iopub.status.idle": "2021-07-07T23:15:08.494993Z",
     "shell.execute_reply": "2021-07-07T23:15:08.494441Z",
     "shell.execute_reply.started": "2021-07-07T23:09:21.887477Z"
    },
    "papermill": {
     "duration": 0.050073,
     "end_time": "2021-07-07T23:15:08.495112",
     "exception": false,
     "start_time": "2021-07-07T23:15:08.445039",
     "status": "completed"
    },
    "tags": []
   },
   "outputs": [
    {
     "name": "stderr",
     "output_type": "stream",
     "text": [
      "/opt/conda/lib/python3.7/site-packages/xgboost/data.py:114: UserWarning: Use subset (sliced data) of np.ndarray is not recommended because it will generate extra copies and increase memory consumption\n",
      "  \"because it will generate extra copies and increase \" +\n"
     ]
    },
    {
     "data": {
      "text/plain": [
       "(418,)"
      ]
     },
     "execution_count": 31,
     "metadata": {},
     "output_type": "execute_result"
    }
   ],
   "source": [
    "y_pred = xgb.predict(X_TEST)\n",
    "y_pred.shape"
   ]
  },
  {
   "cell_type": "code",
   "execution_count": 32,
   "id": "caring-wedding",
   "metadata": {
    "execution": {
     "iopub.execute_input": "2021-07-07T23:15:08.564450Z",
     "iopub.status.busy": "2021-07-07T23:15:08.564014Z",
     "iopub.status.idle": "2021-07-07T23:15:08.582240Z",
     "shell.execute_reply": "2021-07-07T23:15:08.581696Z",
     "shell.execute_reply.started": "2021-07-07T23:11:34.269796Z"
    },
    "papermill": {
     "duration": 0.054066,
     "end_time": "2021-07-07T23:15:08.582363",
     "exception": false,
     "start_time": "2021-07-07T23:15:08.528297",
     "status": "completed"
    },
    "tags": []
   },
   "outputs": [
    {
     "data": {
      "text/html": [
       "<div>\n",
       "<style scoped>\n",
       "    .dataframe tbody tr th:only-of-type {\n",
       "        vertical-align: middle;\n",
       "    }\n",
       "\n",
       "    .dataframe tbody tr th {\n",
       "        vertical-align: top;\n",
       "    }\n",
       "\n",
       "    .dataframe thead th {\n",
       "        text-align: right;\n",
       "    }\n",
       "</style>\n",
       "<table border=\"1\" class=\"dataframe\">\n",
       "  <thead>\n",
       "    <tr style=\"text-align: right;\">\n",
       "      <th></th>\n",
       "      <th>PassengerId</th>\n",
       "      <th>Survived</th>\n",
       "    </tr>\n",
       "  </thead>\n",
       "  <tbody>\n",
       "    <tr>\n",
       "      <th>0</th>\n",
       "      <td>892</td>\n",
       "      <td>0</td>\n",
       "    </tr>\n",
       "    <tr>\n",
       "      <th>1</th>\n",
       "      <td>893</td>\n",
       "      <td>1</td>\n",
       "    </tr>\n",
       "    <tr>\n",
       "      <th>2</th>\n",
       "      <td>894</td>\n",
       "      <td>0</td>\n",
       "    </tr>\n",
       "    <tr>\n",
       "      <th>3</th>\n",
       "      <td>895</td>\n",
       "      <td>0</td>\n",
       "    </tr>\n",
       "    <tr>\n",
       "      <th>4</th>\n",
       "      <td>896</td>\n",
       "      <td>1</td>\n",
       "    </tr>\n",
       "    <tr>\n",
       "      <th>...</th>\n",
       "      <td>...</td>\n",
       "      <td>...</td>\n",
       "    </tr>\n",
       "    <tr>\n",
       "      <th>413</th>\n",
       "      <td>1305</td>\n",
       "      <td>0</td>\n",
       "    </tr>\n",
       "    <tr>\n",
       "      <th>414</th>\n",
       "      <td>1306</td>\n",
       "      <td>1</td>\n",
       "    </tr>\n",
       "    <tr>\n",
       "      <th>415</th>\n",
       "      <td>1307</td>\n",
       "      <td>0</td>\n",
       "    </tr>\n",
       "    <tr>\n",
       "      <th>416</th>\n",
       "      <td>1308</td>\n",
       "      <td>0</td>\n",
       "    </tr>\n",
       "    <tr>\n",
       "      <th>417</th>\n",
       "      <td>1309</td>\n",
       "      <td>0</td>\n",
       "    </tr>\n",
       "  </tbody>\n",
       "</table>\n",
       "<p>418 rows × 2 columns</p>\n",
       "</div>"
      ],
      "text/plain": [
       "     PassengerId  Survived\n",
       "0            892         0\n",
       "1            893         1\n",
       "2            894         0\n",
       "3            895         0\n",
       "4            896         1\n",
       "..           ...       ...\n",
       "413         1305         0\n",
       "414         1306         1\n",
       "415         1307         0\n",
       "416         1308         0\n",
       "417         1309         0\n",
       "\n",
       "[418 rows x 2 columns]"
      ]
     },
     "execution_count": 32,
     "metadata": {},
     "output_type": "execute_result"
    }
   ],
   "source": [
    "df_submit = pd.read_csv('/kaggle/input/titanic/gender_submission.csv')\n",
    "df_submit"
   ]
  },
  {
   "cell_type": "code",
   "execution_count": 33,
   "id": "cleared-slide",
   "metadata": {
    "execution": {
     "iopub.execute_input": "2021-07-07T23:15:08.649688Z",
     "iopub.status.busy": "2021-07-07T23:15:08.649210Z",
     "iopub.status.idle": "2021-07-07T23:15:08.653038Z",
     "shell.execute_reply": "2021-07-07T23:15:08.653392Z",
     "shell.execute_reply.started": "2021-07-07T23:12:02.454330Z"
    },
    "papermill": {
     "duration": 0.038367,
     "end_time": "2021-07-07T23:15:08.653556",
     "exception": false,
     "start_time": "2021-07-07T23:15:08.615189",
     "status": "completed"
    },
    "tags": []
   },
   "outputs": [
    {
     "data": {
      "text/plain": [
       "(418, 2)"
      ]
     },
     "execution_count": 33,
     "metadata": {},
     "output_type": "execute_result"
    }
   ],
   "source": [
    "df_submit.shape"
   ]
  },
  {
   "cell_type": "code",
   "execution_count": 34,
   "id": "clear-frank",
   "metadata": {
    "execution": {
     "iopub.execute_input": "2021-07-07T23:15:08.724540Z",
     "iopub.status.busy": "2021-07-07T23:15:08.724089Z",
     "iopub.status.idle": "2021-07-07T23:15:08.733833Z",
     "shell.execute_reply": "2021-07-07T23:15:08.734271Z",
     "shell.execute_reply.started": "2021-07-07T23:12:52.384260Z"
    },
    "papermill": {
     "duration": 0.048028,
     "end_time": "2021-07-07T23:15:08.734385",
     "exception": false,
     "start_time": "2021-07-07T23:15:08.686357",
     "status": "completed"
    },
    "tags": []
   },
   "outputs": [
    {
     "data": {
      "text/html": [
       "<div>\n",
       "<style scoped>\n",
       "    .dataframe tbody tr th:only-of-type {\n",
       "        vertical-align: middle;\n",
       "    }\n",
       "\n",
       "    .dataframe tbody tr th {\n",
       "        vertical-align: top;\n",
       "    }\n",
       "\n",
       "    .dataframe thead th {\n",
       "        text-align: right;\n",
       "    }\n",
       "</style>\n",
       "<table border=\"1\" class=\"dataframe\">\n",
       "  <thead>\n",
       "    <tr style=\"text-align: right;\">\n",
       "      <th></th>\n",
       "      <th>PassengerId</th>\n",
       "      <th>Survived</th>\n",
       "    </tr>\n",
       "  </thead>\n",
       "  <tbody>\n",
       "    <tr>\n",
       "      <th>0</th>\n",
       "      <td>892</td>\n",
       "      <td>0.110043</td>\n",
       "    </tr>\n",
       "    <tr>\n",
       "      <th>1</th>\n",
       "      <td>893</td>\n",
       "      <td>1.007051</td>\n",
       "    </tr>\n",
       "    <tr>\n",
       "      <th>2</th>\n",
       "      <td>894</td>\n",
       "      <td>0.061839</td>\n",
       "    </tr>\n",
       "    <tr>\n",
       "      <th>3</th>\n",
       "      <td>895</td>\n",
       "      <td>0.003205</td>\n",
       "    </tr>\n",
       "    <tr>\n",
       "      <th>4</th>\n",
       "      <td>896</td>\n",
       "      <td>0.742532</td>\n",
       "    </tr>\n",
       "    <tr>\n",
       "      <th>...</th>\n",
       "      <td>...</td>\n",
       "      <td>...</td>\n",
       "    </tr>\n",
       "    <tr>\n",
       "      <th>413</th>\n",
       "      <td>1305</td>\n",
       "      <td>0.124911</td>\n",
       "    </tr>\n",
       "    <tr>\n",
       "      <th>414</th>\n",
       "      <td>1306</td>\n",
       "      <td>1.002467</td>\n",
       "    </tr>\n",
       "    <tr>\n",
       "      <th>415</th>\n",
       "      <td>1307</td>\n",
       "      <td>-0.000276</td>\n",
       "    </tr>\n",
       "    <tr>\n",
       "      <th>416</th>\n",
       "      <td>1308</td>\n",
       "      <td>0.124911</td>\n",
       "    </tr>\n",
       "    <tr>\n",
       "      <th>417</th>\n",
       "      <td>1309</td>\n",
       "      <td>0.499459</td>\n",
       "    </tr>\n",
       "  </tbody>\n",
       "</table>\n",
       "<p>418 rows × 2 columns</p>\n",
       "</div>"
      ],
      "text/plain": [
       "     PassengerId  Survived\n",
       "0            892  0.110043\n",
       "1            893  1.007051\n",
       "2            894  0.061839\n",
       "3            895  0.003205\n",
       "4            896  0.742532\n",
       "..           ...       ...\n",
       "413         1305  0.124911\n",
       "414         1306  1.002467\n",
       "415         1307 -0.000276\n",
       "416         1308  0.124911\n",
       "417         1309  0.499459\n",
       "\n",
       "[418 rows x 2 columns]"
      ]
     },
     "execution_count": 34,
     "metadata": {},
     "output_type": "execute_result"
    }
   ],
   "source": [
    "df_submit['Survived'] = y_pred\n",
    "df_submit"
   ]
  },
  {
   "cell_type": "code",
   "execution_count": 35,
   "id": "configured-tension",
   "metadata": {
    "execution": {
     "iopub.execute_input": "2021-07-07T23:15:08.802222Z",
     "iopub.status.busy": "2021-07-07T23:15:08.801762Z",
     "iopub.status.idle": "2021-07-07T23:15:08.811646Z",
     "shell.execute_reply": "2021-07-07T23:15:08.810739Z",
     "shell.execute_reply.started": "2021-07-07T23:14:18.764997Z"
    },
    "papermill": {
     "duration": 0.044655,
     "end_time": "2021-07-07T23:15:08.811756",
     "exception": false,
     "start_time": "2021-07-07T23:15:08.767101",
     "status": "completed"
    },
    "tags": []
   },
   "outputs": [],
   "source": [
    "df_submit.to_csv('cs_submit', index=False)"
   ]
  },
  {
   "cell_type": "code",
   "execution_count": null,
   "id": "valuable-gamma",
   "metadata": {
    "papermill": {
     "duration": 0.031956,
     "end_time": "2021-07-07T23:15:08.877001",
     "exception": false,
     "start_time": "2021-07-07T23:15:08.845045",
     "status": "completed"
    },
    "tags": []
   },
   "outputs": [],
   "source": []
  }
 ],
 "metadata": {
  "kernelspec": {
   "display_name": "Python 3",
   "language": "python",
   "name": "python3"
  },
  "language_info": {
   "codemirror_mode": {
    "name": "ipython",
    "version": 3
   },
   "file_extension": ".py",
   "mimetype": "text/x-python",
   "name": "python",
   "nbconvert_exporter": "python",
   "pygments_lexer": "ipython3",
   "version": "3.7.10"
  },
  "papermill": {
   "default_parameters": {},
   "duration": 11.704789,
   "end_time": "2021-07-07T23:15:09.719333",
   "environment_variables": {},
   "exception": null,
   "input_path": "__notebook__.ipynb",
   "output_path": "__notebook__.ipynb",
   "parameters": {},
   "start_time": "2021-07-07T23:14:58.014544",
   "version": "2.3.3"
  }
 },
 "nbformat": 4,
 "nbformat_minor": 5
}
